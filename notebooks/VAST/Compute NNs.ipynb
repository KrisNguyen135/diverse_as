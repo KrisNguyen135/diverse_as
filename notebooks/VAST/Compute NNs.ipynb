{
 "cells": [
  {
   "cell_type": "code",
   "execution_count": 1,
   "id": "0f100f26-4ecd-434e-b845-5453f3a904a3",
   "metadata": {},
   "outputs": [],
   "source": [
    "import numpy as np\n",
    "\n",
    "import faiss\n",
    "\n",
    "import matplotlib.pyplot as plt\n",
    "\n",
    "plt.style.use(\"bmh\")\n",
    "plt.rcParams[\"figure.figsize\"] = (8, 6)\n",
    "plt.rcParams[\"image.cmap\"] = \"Blues\""
   ]
  },
  {
   "cell_type": "code",
   "execution_count": 2,
   "id": "b1893c69-0232-49c0-92c7-96039eef633e",
   "metadata": {},
   "outputs": [
    {
     "name": "stdout",
     "output_type": "stream",
     "text": [
      "(50000, 300)\n"
     ]
    },
    {
     "data": {
      "text/plain": [
       "array([[ 0.03320654, -0.06433736,  0.10389966, ..., -0.05451681,\n",
       "        -0.04246792,  0.05446664],\n",
       "       [ 0.02599476,  0.01575095,  0.10604253, ..., -0.06802855,\n",
       "        -0.00031488, -0.00361113],\n",
       "       [-0.05472623,  0.05246948,  0.09704033, ...,  0.03371023,\n",
       "         0.01643197,  0.03046615],\n",
       "       ...,\n",
       "       [ 0.02957482, -0.02850348, -0.01619003, ..., -0.05450831,\n",
       "        -0.0277775 ,  0.01814242],\n",
       "       [ 0.02957482, -0.02850348, -0.01619003, ..., -0.05450831,\n",
       "        -0.0277775 ,  0.01814242],\n",
       "       [ 0.03422622,  0.0448886 , -0.01871247, ...,  0.03861113,\n",
       "        -0.04534175,  0.01759292]])"
      ]
     },
     "execution_count": 2,
     "metadata": {},
     "output_type": "execute_result"
    }
   ],
   "source": [
    "embedding = np.load(\"../../data/vast/model_50000_1/mean_doc_vec_matrix.npy\")\n",
    "\n",
    "print(embedding.shape)\n",
    "embedding"
   ]
  },
  {
   "cell_type": "code",
   "execution_count": 3,
   "id": "b7b2bff1-6b0f-475c-8564-522ff5192cd9",
   "metadata": {},
   "outputs": [],
   "source": [
    "k = 100\n",
    "\n",
    "embedding = embedding.copy(order=\"C\").astype(np.float32)\n",
    "embedding -= embedding.mean(axis=0)\n",
    "\n",
    "index = faiss.IndexFlatIP(embedding.shape[1])\n",
    "faiss.normalize_L2(embedding)\n",
    "\n",
    "index.add(embedding)\n",
    "\n",
    "similarities, nearest_neighbors = index.search(embedding, k + 1)"
   ]
  },
  {
   "cell_type": "code",
   "execution_count": 4,
   "id": "2ed430d4-db33-49fa-a4a5-70cf73b7ad24",
   "metadata": {},
   "outputs": [
    {
     "data": {
      "text/plain": [
       "array([[1.0000001 , 0.5019864 , 0.47723287, ..., 0.39278483, 0.3927035 ,\n",
       "        0.39244723],\n",
       "       [1.        , 0.55589545, 0.5531961 , ..., 0.4060866 , 0.4060866 ,\n",
       "        0.40562934],\n",
       "       [1.0000001 , 1.0000001 , 1.0000001 , ..., 0.75792146, 0.7563087 ,\n",
       "        0.75582284],\n",
       "       ...,\n",
       "       [1.        , 1.        , 0.7898824 , ..., 0.64848334, 0.6473886 ,\n",
       "        0.64727515],\n",
       "       [1.        , 1.        , 0.7898824 , ..., 0.64848334, 0.6473886 ,\n",
       "        0.64727515],\n",
       "       [1.0000002 , 0.83116806, 0.83116806, ..., 0.33846855, 0.33783728,\n",
       "        0.33608305]], dtype=float32)"
      ]
     },
     "execution_count": 4,
     "metadata": {},
     "output_type": "execute_result"
    }
   ],
   "source": [
    "similarities"
   ]
  },
  {
   "cell_type": "code",
   "execution_count": 5,
   "id": "7ca1556a-37d5-40bb-a325-8ed4b6ef96cc",
   "metadata": {},
   "outputs": [
    {
     "data": {
      "text/plain": [
       "array([[    0, 11286, 15191, ..., 30806, 12675, 32630],\n",
       "       [    1, 15107, 47843, ..., 40567, 40566, 45659],\n",
       "       [48620, 10867, 16873, ..., 16606, 39231, 36205],\n",
       "       ...,\n",
       "       [49997, 49998, 44074, ..., 47201,  4872,  8863],\n",
       "       [49997, 49998, 44074, ..., 47201,  4872,  8863],\n",
       "       [49999,  7131, 29709, ..., 14802, 21093, 34563]])"
      ]
     },
     "execution_count": 5,
     "metadata": {},
     "output_type": "execute_result"
    }
   ],
   "source": [
    "nearest_neighbors"
   ]
  },
  {
   "cell_type": "code",
   "execution_count": 6,
   "id": "d78a6799-7909-4532-882e-d696da874ef8",
   "metadata": {},
   "outputs": [
    {
     "data": {
      "text/plain": [
       "array([1, 1, 1, ..., 1, 1, 1])"
      ]
     },
     "execution_count": 6,
     "metadata": {},
     "output_type": "execute_result"
    }
   ],
   "source": [
    "labels = np.load(\"labels.npy\")\n",
    "labels"
   ]
  },
  {
   "cell_type": "code",
   "execution_count": 7,
   "id": "d68b0b1d-1acd-43db-b005-f4dc67d3eeb8",
   "metadata": {},
   "outputs": [],
   "source": [
    "from scipy.io import savemat\n",
    "\n",
    "savemat(\n",
    "    \"vast_nearest_neighbors_100.mat\",\n",
    "    {\n",
    "        \"labels\": labels,\n",
    "        \"nearest_neighbors\": nearest_neighbors[:, 1:] + 1,\n",
    "        \"similarities\": similarities[:, 1:]\n",
    "    },\n",
    ")"
   ]
  },
  {
   "cell_type": "code",
   "execution_count": null,
   "id": "f974ceaa-6a67-4780-ba32-93cecb17420b",
   "metadata": {},
   "outputs": [],
   "source": []
  }
 ],
 "metadata": {
  "kernelspec": {
   "display_name": "Python 3 (ipykernel)",
   "language": "python",
   "name": "python3"
  },
  "language_info": {
   "codemirror_mode": {
    "name": "ipython",
    "version": 3
   },
   "file_extension": ".py",
   "mimetype": "text/x-python",
   "name": "python",
   "nbconvert_exporter": "python",
   "pygments_lexer": "ipython3",
   "version": "3.7.0"
  }
 },
 "nbformat": 4,
 "nbformat_minor": 5
}
