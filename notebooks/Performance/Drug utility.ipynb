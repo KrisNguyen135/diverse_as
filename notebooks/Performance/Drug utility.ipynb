{
 "cells": [
  {
   "cell_type": "code",
   "execution_count": 1,
   "id": "89ecdebc-8122-4b8b-97cc-2e171377c83b",
   "metadata": {},
   "outputs": [],
   "source": [
    "import numpy as np\n",
    "\n",
    "import os\n",
    "\n",
    "from statsmodels.stats.api import DescrStatsW\n",
    "from scipy.stats import ttest_rel, sem\n",
    "\n",
    "import matplotlib.pyplot as plt\n",
    "import seaborn as sns"
   ]
  },
  {
   "cell_type": "code",
   "execution_count": 2,
   "id": "bf2fc1f0-fa9b-4528-b60b-0e00b0ca389c",
   "metadata": {},
   "outputs": [],
   "source": [
    "def labels_to_counts(labels, time_axis=0):\n",
    "    onehot = np.zeros((labels.size, n_classes), dtype=int)\n",
    "    onehot[np.arange(labels.size), labels] = 1\n",
    "    \n",
    "    return onehot.cumsum(axis=time_axis)\n",
    "\n",
    "\n",
    "def log_utility(counts):\n",
    "    return np.log(counts[:, 1:] + 1).sum(axis=1)\n",
    "\n",
    "\n",
    "def linear_utility(counts):\n",
    "    return counts[:, 1:].sum(axis=1)\n",
    "\n",
    "\n",
    "data = 'morgan'\n",
    "\n",
    "# group_size = 1\n",
    "# num_exps = 120\n",
    "# num_repeats_per_exp = 5\n",
    "\n",
    "group_size = 5\n",
    "num_exps = 20\n",
    "num_repeats_per_exp = 1\n",
    "\n",
    "policies = [\n",
    "    'ens jensen greedy',\n",
    "    # 'classical ens',\n",
    "    'greedy',\n",
    "    'round robin greedy',\n",
    "]\n",
    "if group_size == 1 and 'round robin greedy' in policies:\n",
    "    policies.remove('round robin greedy')\n",
    "    \n",
    "utility_function = log_utility\n",
    "\n",
    "n_classes = group_size + 1\n",
    "init_size = 1\n",
    "budget = 500\n",
    "\n",
    "basepath = os.path.join('../../data/results/backup/results 1101 - 1011', data)\n",
    "\n",
    "\n",
    "utilities = np.ones(\n",
    "    (len(policies), num_exps, num_repeats_per_exp, budget + init_size)\n",
    ") * -1\n",
    "\n",
    "for p_ind, policy in enumerate(policies):\n",
    "    for exp_ind in range(num_exps):\n",
    "        path = os.path.join(basepath, f'{data}{exp_ind + 1}', str(group_size), policy)\n",
    "        for i in range(num_repeats_per_exp):\n",
    "            labels = np.loadtxt(\n",
    "                os.path.join(path, f'{policy}__labels__{i + 1}.csv'), \n",
    "                dtype=int\n",
    "            ).flatten() - 1\n",
    "\n",
    "            utilities[p_ind, exp_ind, i, :] = log_utility(labels_to_counts(labels))\n",
    "        \n",
    "assert np.all(utilities != -1)"
   ]
  },
  {
   "cell_type": "code",
   "execution_count": 3,
   "id": "e4a81dd6-30c4-4ab5-9e09-5e5857333eca",
   "metadata": {},
   "outputs": [
    {
     "data": {
      "text/plain": [
       "(3, 20, 1, 501)"
      ]
     },
     "execution_count": 3,
     "metadata": {},
     "output_type": "execute_result"
    }
   ],
   "source": [
    "utilities.shape"
   ]
  },
  {
   "cell_type": "code",
   "execution_count": 4,
   "id": "76ab1892-6f2e-488f-89a7-70ff4a9d3a21",
   "metadata": {},
   "outputs": [
    {
     "data": {
      "text/plain": [
       "array([10.79128505, 10.87167379, 10.98620386])"
      ]
     },
     "execution_count": 4,
     "metadata": {},
     "output_type": "execute_result"
    }
   ],
   "source": [
    "utilities[..., -1].mean(axis=(1, 2))"
   ]
  },
  {
   "cell_type": "code",
   "execution_count": 6,
   "id": "46585151-cf4d-4444-83d3-5dfaae35084a",
   "metadata": {},
   "outputs": [
    {
     "name": "stdout",
     "output_type": "stream",
     "text": [
      "ens jensen greedy: 18.5924\n",
      "greedy: 19.0880\n",
      "round robin greedy: 19.1494\n"
     ]
    },
    {
     "data": {
      "image/png": "[encoded data removed]",
      "text/plain": [
       "<Figure size 432x288 with 1 Axes>"
      ]
     },
     "metadata": {
      "needs_background": "light"
     },
     "output_type": "display_data"
    }
   ],
   "source": [
    "for p_ind, policy in enumerate(policies):\n",
    "    print(f'{policy}: {utilities[p_ind, ..., -1].mean():.4f}')\n",
    "    sns.kdeplot(utilities[p_ind, ..., -1].flatten(), alpha=0.4, shade=True, label=policy)\n",
    "    \n",
    "plt.legend(loc='upper left');"
   ]
  },
  {
   "cell_type": "code",
   "execution_count": 7,
   "id": "871cafdd-b75f-41f0-a102-c6c85fea8275",
   "metadata": {
    "scrolled": true,
    "tags": []
   },
   "outputs": [
    {
     "name": "stdout",
     "output_type": "stream",
     "text": [
      "(3, 20, 1, 505)\n"
     ]
    },
    {
     "data": {
      "text/plain": [
       "array([[[[ 0.69314718,  1.38629436,  2.07944154, ..., 18.66941068,\n",
       "          18.68058398, 18.69163382]],\n",
       "\n",
       "        [[ 0.69314718,  1.38629436,  2.07944154, ..., 19.05388075,\n",
       "          19.11103916, 19.11103916]],\n",
       "\n",
       "        [[ 0.69314718,  1.38629436,  2.07944154, ..., 19.85103409,\n",
       "          19.86812853, 19.88493565]],\n",
       "\n",
       "        ...,\n",
       "\n",
       "        [[ 0.69314718,  1.38629436,  2.07944154, ..., 14.26816455,\n",
       "          14.26816455, 14.26816455]],\n",
       "\n",
       "        [[ 0.69314718,  1.38629436,  2.07944154, ..., 15.59481681,\n",
       "          15.59481681, 16.00028191]],\n",
       "\n",
       "        [[ 0.69314718,  1.38629436,  2.07944154, ..., 19.27328466,\n",
       "          19.29270275, 19.31175094]]],\n",
       "\n",
       "\n",
       "       [[[ 0.69314718,  1.38629436,  2.07944154, ..., 17.4556461 ,\n",
       "          17.46762229, 17.46762229]],\n",
       "\n",
       "        [[ 0.69314718,  1.38629436,  2.07944154, ..., 19.72564357,\n",
       "          19.7355939 , 19.74544619]],\n",
       "\n",
       "        [[ 0.69314718,  1.38629436,  2.07944154, ..., 19.85083815,\n",
       "          19.85083815, 19.85083815]],\n",
       "\n",
       "        ...,\n",
       "\n",
       "        [[ 0.69314718,  1.38629436,  2.07944154, ..., 15.85854742,\n",
       "          15.85854742, 15.85854742]],\n",
       "\n",
       "        [[ 0.69314718,  1.38629436,  2.07944154, ..., 16.27051042,\n",
       "          16.27990017, 16.28903265]],\n",
       "\n",
       "        [[ 0.69314718,  1.38629436,  2.07944154, ..., 20.81224932,\n",
       "          20.82394536, 20.82394536]]],\n",
       "\n",
       "\n",
       "       [[[ 0.69314718,  1.38629436,  2.07944154, ..., 17.28563681,\n",
       "          17.29558714, 17.30628243]],\n",
       "\n",
       "        [[ 0.69314718,  1.38629436,  2.07944154, ..., 19.6300434 ,\n",
       "          19.64097247, 19.64097247]],\n",
       "\n",
       "        [[ 0.69314718,  1.38629436,  2.07944154, ..., 20.01612317,\n",
       "          20.02693409, 20.02693409]],\n",
       "\n",
       "        ...,\n",
       "\n",
       "        [[ 0.69314718,  1.38629436,  2.07944154, ..., 16.24662078,\n",
       "          16.26401253, 16.26401253]],\n",
       "\n",
       "        [[ 0.69314718,  1.38629436,  2.07944154, ..., 15.98248209,\n",
       "          15.99253243, 15.99253243]],\n",
       "\n",
       "        [[ 0.69314718,  1.38629436,  2.07944154, ..., 21.28291439,\n",
       "          21.2925763 , 21.2925763 ]]]])"
      ]
     },
     "execution_count": 7,
     "metadata": {},
     "output_type": "execute_result"
    }
   ],
   "source": [
    "print(utilities.shape)\n",
    "utilities"
   ]
  },
  {
   "cell_type": "code",
   "execution_count": 8,
   "id": "5d61994b-22bc-41c5-973b-9038bf068515",
   "metadata": {
    "scrolled": true,
    "tags": []
   },
   "outputs": [
    {
     "name": "stdout",
     "output_type": "stream",
     "text": [
      "(3, 20, 505)\n"
     ]
    },
    {
     "data": {
      "text/plain": [
       "array([[[ 0.69314718,  1.38629436,  2.07944154, ..., 18.66941068,\n",
       "         18.68058398, 18.69163382],\n",
       "        [ 0.69314718,  1.38629436,  2.07944154, ..., 19.05388075,\n",
       "         19.11103916, 19.11103916],\n",
       "        [ 0.69314718,  1.38629436,  2.07944154, ..., 19.85103409,\n",
       "         19.86812853, 19.88493565],\n",
       "        ...,\n",
       "        [ 0.69314718,  1.38629436,  2.07944154, ..., 14.26816455,\n",
       "         14.26816455, 14.26816455],\n",
       "        [ 0.69314718,  1.38629436,  2.07944154, ..., 15.59481681,\n",
       "         15.59481681, 16.00028191],\n",
       "        [ 0.69314718,  1.38629436,  2.07944154, ..., 19.27328466,\n",
       "         19.29270275, 19.31175094]],\n",
       "\n",
       "       [[ 0.69314718,  1.38629436,  2.07944154, ..., 17.4556461 ,\n",
       "         17.46762229, 17.46762229],\n",
       "        [ 0.69314718,  1.38629436,  2.07944154, ..., 19.72564357,\n",
       "         19.7355939 , 19.74544619],\n",
       "        [ 0.69314718,  1.38629436,  2.07944154, ..., 19.85083815,\n",
       "         19.85083815, 19.85083815],\n",
       "        ...,\n",
       "        [ 0.69314718,  1.38629436,  2.07944154, ..., 15.85854742,\n",
       "         15.85854742, 15.85854742],\n",
       "        [ 0.69314718,  1.38629436,  2.07944154, ..., 16.27051042,\n",
       "         16.27990017, 16.28903265],\n",
       "        [ 0.69314718,  1.38629436,  2.07944154, ..., 20.81224932,\n",
       "         20.82394536, 20.82394536]],\n",
       "\n",
       "       [[ 0.69314718,  1.38629436,  2.07944154, ..., 17.28563681,\n",
       "         17.29558714, 17.30628243],\n",
       "        [ 0.69314718,  1.38629436,  2.07944154, ..., 19.6300434 ,\n",
       "         19.64097247, 19.64097247],\n",
       "        [ 0.69314718,  1.38629436,  2.07944154, ..., 20.01612317,\n",
       "         20.02693409, 20.02693409],\n",
       "        ...,\n",
       "        [ 0.69314718,  1.38629436,  2.07944154, ..., 16.24662078,\n",
       "         16.26401253, 16.26401253],\n",
       "        [ 0.69314718,  1.38629436,  2.07944154, ..., 15.98248209,\n",
       "         15.99253243, 15.99253243],\n",
       "        [ 0.69314718,  1.38629436,  2.07944154, ..., 21.28291439,\n",
       "         21.2925763 , 21.2925763 ]]])"
      ]
     },
     "execution_count": 8,
     "metadata": {},
     "output_type": "execute_result"
    }
   ],
   "source": [
    "squeezed_utilities =  utilities.reshape(\n",
    "    len(policies), \n",
    "    num_exps * num_repeats_per_exp, \n",
    "    budget + init_size\n",
    ")\n",
    "\n",
    "print(squeezed_utilities.shape)\n",
    "squeezed_utilities"
   ]
  },
  {
   "cell_type": "code",
   "execution_count": 9,
   "id": "eea9144d-777d-4dfb-a3d2-c91981f4c9ea",
   "metadata": {},
   "outputs": [
    {
     "name": "stdout",
     "output_type": "stream",
     "text": [
      "ens jensen greedy vs. greedy\n",
      "0.0016033241369711785\n",
      "ens jensen greedy vs. round robin greedy\n",
      "0.011232169323594896\n",
      "\n",
      "greedy vs. round robin greedy\n",
      "0.32518526031346723\n",
      "\n"
     ]
    }
   ],
   "source": [
    "for p1 in range(len(policies) - 1):\n",
    "    for p2 in range(p1 + 1, len(policies)):\n",
    "        if squeezed_utilities[p1, :, -1].mean() < squeezed_utilities[p2, :, -1].mean():\n",
    "            alternative = \"less\"\n",
    "        else:\n",
    "            alternative = \"greater\"\n",
    "        \n",
    "        print(policies[p1], \"vs.\", policies[p2])\n",
    "        print(\n",
    "            ttest_rel(\n",
    "                squeezed_utilities[p1, :, -1], \n",
    "                squeezed_utilities[p2, :, -1],\n",
    "                alternative=alternative\n",
    "            ).pvalue\n",
    "        )\n",
    "    print()"
   ]
  },
  {
   "cell_type": "code",
   "execution_count": 10,
   "id": "463e4c5e-4e80-4de6-99e5-4d14e0891532",
   "metadata": {},
   "outputs": [
    {
     "name": "stdout",
     "output_type": "stream",
     "text": [
      "17.468713545566224 19.716081385810128\n",
      "0.5618\n",
      "17.969770887674052 20.20623295573988\n",
      "0.5591\n",
      "18.179786996522022 20.119064662274422\n",
      "0.4848\n"
     ]
    },
    {
     "data": {
      "image/png": "[encoded data removed]",
      "text/plain": [
       "<Figure size 432x288 with 1 Axes>"
      ]
     },
     "metadata": {
      "needs_background": "light"
     },
     "output_type": "display_data"
    }
   ],
   "source": [
    "plt.figure()\n",
    "\n",
    "for p_ind, policy in enumerate(policies):\n",
    "    plt.plot(squeezed_utilities[p_ind].mean(axis=0), label=policy)\n",
    "    lower, upper = DescrStatsW(squeezed_utilities[p_ind]).tconfint_mean()\n",
    "    plt.fill_between(np.arange(init_size + budget), lower, upper, alpha=0.3)\n",
    "    \n",
    "    print(lower[-1], upper[-1])\n",
    "    print(f'{(upper[-1] - lower[-1]) / 4:.4f}')\n",
    "    \n",
    "plt.xlabel(\"# queries\")\n",
    "plt.ylabel(\"utility\")\n",
    "plt.legend();"
   ]
  },
  {
   "cell_type": "code",
   "execution_count": null,
   "id": "f97301c1-4a5e-4eca-a68d-9ec40dcf22cc",
   "metadata": {},
   "outputs": [],
   "source": []
  }
 ],
 "metadata": {
  "kernelspec": {
   "display_name": "Python 3 (ipykernel)",
   "language": "python",
   "name": "python3"
  },
  "language_info": {
   "codemirror_mode": {
    "name": "ipython",
    "version": 3
   },
   "file_extension": ".py",
   "mimetype": "text/x-python",
   "name": "python",
   "nbconvert_exporter": "python",
   "pygments_lexer": "ipython3",
   "version": "3.7.0"
  }
 },
 "nbformat": 4,
 "nbformat_minor": 5
}
