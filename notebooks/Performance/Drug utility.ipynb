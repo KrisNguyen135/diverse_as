{
 "cells": [
  {
   "cell_type": "code",
   "execution_count": 1,
   "id": "89ecdebc-8122-4b8b-97cc-2e171377c83b",
   "metadata": {},
   "outputs": [],
   "source": [
    "import numpy as np\n",
    "\n",
    "import os\n",
    "\n",
    "from statsmodels.stats.api import DescrStatsW\n",
    "from scipy.stats import ttest_rel, sem\n",
    "\n",
    "import matplotlib.pyplot as plt\n",
    "import seaborn as sns"
   ]
  },
  {
   "cell_type": "code",
   "execution_count": 2,
   "id": "bf2fc1f0-fa9b-4528-b60b-0e00b0ca389c",
   "metadata": {},
   "outputs": [],
   "source": [
    "def labels_to_counts(labels, time_axis=0):\n",
    "    onehot = np.zeros((labels.size, n_classes), dtype=int)\n",
    "    onehot[np.arange(labels.size), labels] = 1\n",
    "    \n",
    "    return onehot.cumsum(axis=time_axis)\n",
    "\n",
    "\n",
    "def log_utility(counts):\n",
    "    return np.log(counts[:, 1:] + 1).sum(axis=1)\n",
    "\n",
    "\n",
    "def linear_utility(counts):\n",
    "    return counts[:, 1:].sum(axis=1)\n",
    "\n",
    "\n",
    "data = 'morgan'\n",
    "group_size = 1\n",
    "num_exps = 120\n",
    "num_repeats_per_exp = 1\n",
    "\n",
    "policies = [\n",
    "    'ens jensen greedy',\n",
    "    'classical ens',\n",
    "    'greedy',\n",
    "    # 'round robin greedy',\n",
    "]\n",
    "utility_function = log_utility\n",
    "\n",
    "n_classes = group_size + 1\n",
    "init_size = 1\n",
    "budget = 500\n",
    "\n",
    "basepath = os.path.join('../../data/results', data)\n",
    "\n",
    "\n",
    "utilities = np.ones(\n",
    "    (len(policies), num_exps, num_repeats_per_exp, budget + init_size)\n",
    ") * -1\n",
    "\n",
    "for p_ind, policy in enumerate(policies):\n",
    "    for exp_ind in range(num_exps):\n",
    "        path = os.path.join(basepath, f'{data}{exp_ind + 1}', str(group_size), policy)\n",
    "        for i in range(num_repeats_per_exp):\n",
    "            labels = np.loadtxt(\n",
    "                os.path.join(path, f'{policy}__labels__{i + 1}.csv'), \n",
    "                dtype=int\n",
    "            ).flatten() - 1\n",
    "\n",
    "            utilities[p_ind, exp_ind, i, :] = linear_utility(labels_to_counts(labels))\n",
    "        \n",
    "assert np.all(utilities != -1)"
   ]
  },
  {
   "cell_type": "code",
   "execution_count": 3,
   "id": "e4a81dd6-30c4-4ab5-9e09-5e5857333eca",
   "metadata": {},
   "outputs": [
    {
     "data": {
      "text/plain": [
       "(3, 120, 1, 501)"
      ]
     },
     "execution_count": 3,
     "metadata": {},
     "output_type": "execute_result"
    }
   ],
   "source": [
    "utilities.shape"
   ]
  },
  {
   "cell_type": "code",
   "execution_count": 4,
   "id": "76ab1892-6f2e-488f-89a7-70ff4a9d3a21",
   "metadata": {},
   "outputs": [
    {
     "data": {
      "text/plain": [
       "array([150.43333333, 152.83333333, 149.33333333])"
      ]
     },
     "execution_count": 4,
     "metadata": {},
     "output_type": "execute_result"
    }
   ],
   "source": [
    "utilities[..., -1].mean(axis=(1, 2))"
   ]
  },
  {
   "cell_type": "code",
   "execution_count": 5,
   "id": "46585151-cf4d-4444-83d3-5dfaae35084a",
   "metadata": {},
   "outputs": [
    {
     "name": "stdout",
     "output_type": "stream",
     "text": [
      "ens jensen greedy: 150.4333\n",
      "classical ens: 152.8333\n",
      "greedy: 149.3333\n"
     ]
    },
    {
     "data": {
      "image/png": "[encoded data removed]",
      "text/plain": [
       "<Figure size 432x288 with 1 Axes>"
      ]
     },
     "metadata": {
      "needs_background": "light"
     },
     "output_type": "display_data"
    }
   ],
   "source": [
    "for p_ind, policy in enumerate(policies):\n",
    "    print(f'{policy}: {utilities[p_ind, ..., -1].mean():.4f}')\n",
    "    sns.kdeplot(utilities[p_ind, ..., -1].flatten(), alpha=0.4, shade=True, label=policy)\n",
    "    \n",
    "plt.legend(loc='upper left');"
   ]
  },
  {
   "cell_type": "code",
   "execution_count": 6,
   "id": "871cafdd-b75f-41f0-a102-c6c85fea8275",
   "metadata": {
    "scrolled": true,
    "tags": []
   },
   "outputs": [
    {
     "name": "stdout",
     "output_type": "stream",
     "text": [
      "(3, 120, 1, 501)\n"
     ]
    },
    {
     "data": {
      "text/plain": [
       "array([[[[  1.,   1.,   1., ..., 215., 215., 216.]],\n",
       "\n",
       "        [[  1.,   1.,   1., ..., 241., 241., 241.]],\n",
       "\n",
       "        [[  1.,   1.,   1., ..., 147., 148., 149.]],\n",
       "\n",
       "        ...,\n",
       "\n",
       "        [[  1.,   1.,   2., ..., 211., 212., 212.]],\n",
       "\n",
       "        [[  1.,   1.,   1., ...,   4.,   4.,   4.]],\n",
       "\n",
       "        [[  1.,   1.,   2., ..., 258., 258., 258.]]],\n",
       "\n",
       "\n",
       "       [[[  1.,   1.,   1., ..., 140., 140., 140.]],\n",
       "\n",
       "        [[  1.,   1.,   1., ..., 247., 247., 247.]],\n",
       "\n",
       "        [[  1.,   1.,   1., ..., 149., 149., 149.]],\n",
       "\n",
       "        ...,\n",
       "\n",
       "        [[  1.,   2.,   3., ..., 223., 223., 223.]],\n",
       "\n",
       "        [[  1.,   1.,   1., ...,   4.,   4.,   4.]],\n",
       "\n",
       "        [[  1.,   1.,   2., ..., 256., 257., 257.]]],\n",
       "\n",
       "\n",
       "       [[[  1.,   2.,   3., ..., 197., 198., 199.]],\n",
       "\n",
       "        [[  1.,   2.,   3., ..., 292., 292., 292.]],\n",
       "\n",
       "        [[  1.,   2.,   3., ..., 151., 151., 151.]],\n",
       "\n",
       "        ...,\n",
       "\n",
       "        [[  1.,   2.,   3., ..., 148., 148., 148.]],\n",
       "\n",
       "        [[  1.,   2.,   3., ...,   4.,   4.,   4.]],\n",
       "\n",
       "        [[  1.,   2.,   3., ..., 193., 194., 195.]]]])"
      ]
     },
     "execution_count": 6,
     "metadata": {},
     "output_type": "execute_result"
    }
   ],
   "source": [
    "print(utilities.shape)\n",
    "utilities"
   ]
  },
  {
   "cell_type": "code",
   "execution_count": 7,
   "id": "5d61994b-22bc-41c5-973b-9038bf068515",
   "metadata": {
    "scrolled": true,
    "tags": []
   },
   "outputs": [
    {
     "name": "stdout",
     "output_type": "stream",
     "text": [
      "(3, 120, 501)\n"
     ]
    },
    {
     "data": {
      "text/plain": [
       "array([[[  1.,   1.,   1., ..., 215., 215., 216.],\n",
       "        [  1.,   1.,   1., ..., 241., 241., 241.],\n",
       "        [  1.,   1.,   1., ..., 147., 148., 149.],\n",
       "        ...,\n",
       "        [  1.,   1.,   2., ..., 211., 212., 212.],\n",
       "        [  1.,   1.,   1., ...,   4.,   4.,   4.],\n",
       "        [  1.,   1.,   2., ..., 258., 258., 258.]],\n",
       "\n",
       "       [[  1.,   1.,   1., ..., 140., 140., 140.],\n",
       "        [  1.,   1.,   1., ..., 247., 247., 247.],\n",
       "        [  1.,   1.,   1., ..., 149., 149., 149.],\n",
       "        ...,\n",
       "        [  1.,   2.,   3., ..., 223., 223., 223.],\n",
       "        [  1.,   1.,   1., ...,   4.,   4.,   4.],\n",
       "        [  1.,   1.,   2., ..., 256., 257., 257.]],\n",
       "\n",
       "       [[  1.,   2.,   3., ..., 197., 198., 199.],\n",
       "        [  1.,   2.,   3., ..., 292., 292., 292.],\n",
       "        [  1.,   2.,   3., ..., 151., 151., 151.],\n",
       "        ...,\n",
       "        [  1.,   2.,   3., ..., 148., 148., 148.],\n",
       "        [  1.,   2.,   3., ...,   4.,   4.,   4.],\n",
       "        [  1.,   2.,   3., ..., 193., 194., 195.]]])"
      ]
     },
     "execution_count": 7,
     "metadata": {},
     "output_type": "execute_result"
    }
   ],
   "source": [
    "squeezed_utilities =  utilities.reshape(\n",
    "    len(policies), \n",
    "    num_exps * num_repeats_per_exp, \n",
    "    budget + init_size\n",
    ")\n",
    "\n",
    "print(squeezed_utilities.shape)\n",
    "squeezed_utilities"
   ]
  },
  {
   "cell_type": "code",
   "execution_count": 8,
   "id": "463e4c5e-4e80-4de6-99e5-4d14e0891532",
   "metadata": {},
   "outputs": [
    {
     "name": "stdout",
     "output_type": "stream",
     "text": [
      "127.74553799987693 173.12112866678976\n",
      "11.343897666728207\n",
      "130.11648057389095 175.55018609277573\n",
      "11.358426379721195\n",
      "127.048471594103 171.61819507256368\n",
      "11.142430869615168\n"
     ]
    },
    {
     "data": {
      "image/png": "[encoded data removed]",
      "text/plain": [
       "<Figure size 432x288 with 1 Axes>"
      ]
     },
     "metadata": {
      "needs_background": "light"
     },
     "output_type": "display_data"
    }
   ],
   "source": [
    "plt.figure()\n",
    "\n",
    "for p_ind, policy in enumerate(policies):\n",
    "    plt.plot(squeezed_utilities[p_ind].mean(axis=0), label=policy)\n",
    "    lower, upper = DescrStatsW(squeezed_utilities[p_ind]).tconfint_mean()\n",
    "    plt.fill_between(np.arange(init_size + budget), lower, upper, alpha=0.3)\n",
    "    \n",
    "    print(lower[-1], upper[-1])\n",
    "    print((upper[-1] - lower[-1]) / 4)\n",
    "    \n",
    "plt.legend();"
   ]
  },
  {
   "cell_type": "code",
   "execution_count": null,
   "id": "6967a22e-14ee-4a64-85d5-4840ef0c3f43",
   "metadata": {},
   "outputs": [],
   "source": []
  }
 ],
 "metadata": {
  "kernelspec": {
   "display_name": "Python 3 (ipykernel)",
   "language": "python",
   "name": "python3"
  },
  "language_info": {
   "codemirror_mode": {
    "name": "ipython",
    "version": 3
   },
   "file_extension": ".py",
   "mimetype": "text/x-python",
   "name": "python",
   "nbconvert_exporter": "python",
   "pygments_lexer": "ipython3",
   "version": "3.7.0"
  }
 },
 "nbformat": 4,
 "nbformat_minor": 5
}
