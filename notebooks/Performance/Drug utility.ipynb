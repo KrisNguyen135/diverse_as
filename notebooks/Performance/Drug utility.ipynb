{
 "cells": [
  {
   "cell_type": "code",
   "execution_count": 1,
   "id": "89ecdebc-8122-4b8b-97cc-2e171377c83b",
   "metadata": {},
   "outputs": [],
   "source": [
    "import numpy as np\n",
    "\n",
    "import os\n",
    "\n",
    "from statsmodels.stats.api import DescrStatsW\n",
    "from scipy.stats import ttest_rel, sem\n",
    "\n",
    "import matplotlib.pyplot as plt\n",
    "import seaborn as sns"
   ]
  },
  {
   "cell_type": "code",
   "execution_count": 2,
   "id": "bf2fc1f0-fa9b-4528-b60b-0e00b0ca389c",
   "metadata": {},
   "outputs": [],
   "source": [
    "def labels_to_counts(labels, time_axis=0):\n",
    "    onehot = np.zeros((labels.size, n_classes), dtype=int)\n",
    "    onehot[np.arange(labels.size), labels] = 1\n",
    "    \n",
    "    return onehot.cumsum(axis=time_axis)\n",
    "\n",
    "\n",
    "def log_utility(counts):\n",
    "    return np.log(counts[:, 1:] + 1).sum(axis=1)\n",
    "\n",
    "\n",
    "def linear_utility(counts):\n",
    "    return counts[:, 1:].sum(axis=1)\n",
    "\n",
    "\n",
    "data = 'morgan'\n",
    "group_size = 1\n",
    "num_exps = 120\n",
    "num_repeats_per_exp = 5\n",
    "\n",
    "policies = [\n",
    "    'ens jensen greedy',\n",
    "    'classical ens',\n",
    "    'greedy',\n",
    "    # 'round robin greedy',\n",
    "]\n",
    "utility_function = log_utility\n",
    "\n",
    "n_classes = group_size + 1\n",
    "init_size = 1\n",
    "budget = 500\n",
    "\n",
    "basepath = os.path.join('../../data/results', data)\n",
    "\n",
    "\n",
    "utilities = np.ones(\n",
    "    (len(policies), num_exps, num_repeats_per_exp, budget + init_size)\n",
    ") * -1\n",
    "\n",
    "for p_ind, policy in enumerate(policies):\n",
    "    for exp_ind in range(num_exps):\n",
    "        path = os.path.join(basepath, f'{data}{exp_ind + 1}', str(group_size), policy)\n",
    "        for i in range(num_repeats_per_exp):\n",
    "            labels = np.loadtxt(\n",
    "                os.path.join(path, f'{policy}__labels__{i + 1}.csv'), \n",
    "                dtype=int\n",
    "            ).flatten() - 1\n",
    "\n",
    "            utilities[p_ind, exp_ind, i, :] = log_utility(labels_to_counts(labels))\n",
    "        \n",
    "assert np.all(utilities != -1)"
   ]
  },
  {
   "cell_type": "code",
   "execution_count": 3,
   "id": "e4a81dd6-30c4-4ab5-9e09-5e5857333eca",
   "metadata": {},
   "outputs": [
    {
     "data": {
      "text/plain": [
       "(3, 120, 5, 501)"
      ]
     },
     "execution_count": 3,
     "metadata": {},
     "output_type": "execute_result"
    }
   ],
   "source": [
    "utilities.shape"
   ]
  },
  {
   "cell_type": "code",
   "execution_count": 4,
   "id": "76ab1892-6f2e-488f-89a7-70ff4a9d3a21",
   "metadata": {},
   "outputs": [
    {
     "data": {
      "text/plain": [
       "array([4.32871566, 4.39507634, 4.39377535])"
      ]
     },
     "execution_count": 4,
     "metadata": {},
     "output_type": "execute_result"
    }
   ],
   "source": [
    "utilities[..., -1].mean(axis=(1, 2))"
   ]
  },
  {
   "cell_type": "code",
   "execution_count": 5,
   "id": "46585151-cf4d-4444-83d3-5dfaae35084a",
   "metadata": {},
   "outputs": [
    {
     "name": "stdout",
     "output_type": "stream",
     "text": [
      "ens jensen greedy: 4.3287\n",
      "classical ens: 4.3951\n",
      "greedy: 4.3938\n"
     ]
    },
    {
     "data": {
      "image/png": "[encoded data removed]",
      "text/plain": [
       "<Figure size 432x288 with 1 Axes>"
      ]
     },
     "metadata": {
      "needs_background": "light"
     },
     "output_type": "display_data"
    }
   ],
   "source": [
    "for p_ind, policy in enumerate(policies):\n",
    "    print(f'{policy}: {utilities[p_ind, ..., -1].mean():.4f}')\n",
    "    sns.kdeplot(utilities[p_ind, ..., -1].flatten(), alpha=0.4, shade=True, label=policy)\n",
    "    \n",
    "plt.legend(loc='upper left');"
   ]
  },
  {
   "cell_type": "code",
   "execution_count": 6,
   "id": "871cafdd-b75f-41f0-a102-c6c85fea8275",
   "metadata": {
    "scrolled": true,
    "tags": []
   },
   "outputs": [
    {
     "name": "stdout",
     "output_type": "stream",
     "text": [
      "(3, 120, 5, 501)\n"
     ]
    },
    {
     "data": {
      "text/plain": [
       "array([[[[0.69314718, 0.69314718, 0.69314718, ..., 5.37527841,\n",
       "          5.37527841, 5.37989735],\n",
       "         [0.69314718, 1.09861229, 1.09861229, ..., 5.4161004 ,\n",
       "          5.4161004 , 5.4161004 ],\n",
       "         [0.69314718, 0.69314718, 0.69314718, ..., 5.3082677 ,\n",
       "          5.3082677 , 5.3082677 ],\n",
       "         [0.69314718, 1.09861229, 1.09861229, ..., 5.86363118,\n",
       "          5.86363118, 5.86646806],\n",
       "         [0.69314718, 0.69314718, 0.69314718, ..., 5.4161004 ,\n",
       "          5.4161004 , 5.4161004 ]],\n",
       "\n",
       "        [[0.69314718, 0.69314718, 0.69314718, ..., 5.48893773,\n",
       "          5.48893773, 5.48893773],\n",
       "         [0.69314718, 0.69314718, 1.09861229, ..., 5.59471138,\n",
       "          5.59471138, 5.59471138],\n",
       "         [0.69314718, 1.09861229, 1.38629436, ..., 5.0689042 ,\n",
       "          5.0689042 , 5.07517382],\n",
       "         [0.69314718, 0.69314718, 1.09861229, ..., 5.02388052,\n",
       "          5.03043792, 5.0369526 ],\n",
       "         [0.69314718, 1.09861229, 1.09861229, ..., 5.63121178,\n",
       "          5.63121178, 5.63121178]],\n",
       "\n",
       "        [[0.69314718, 0.69314718, 0.69314718, ..., 4.99721227,\n",
       "          5.00394631, 5.01063529],\n",
       "         [0.69314718, 0.69314718, 1.09861229, ..., 5.01727984,\n",
       "          5.01727984, 5.01727984],\n",
       "         [0.69314718, 1.09861229, 1.09861229, ..., 5.21493576,\n",
       "          5.21493576, 5.21493576],\n",
       "         [0.69314718, 0.69314718, 0.69314718, ..., 5.0369526 ,\n",
       "          5.0369526 , 5.0369526 ],\n",
       "         [0.69314718, 0.69314718, 0.69314718, ..., 4.78749174,\n",
       "          4.79579055, 4.80402104]],\n",
       "\n",
       "        ...,\n",
       "\n",
       "        [[0.69314718, 0.69314718, 1.09861229, ..., 5.35658627,\n",
       "          5.36129217, 5.36129217],\n",
       "         [0.69314718, 0.69314718, 0.69314718, ..., 5.30330491,\n",
       "          5.30330491, 5.30330491],\n",
       "         [0.69314718, 1.09861229, 1.38629436, ..., 5.40267738,\n",
       "          5.40267738, 5.40267738],\n",
       "         [0.69314718, 0.69314718, 0.69314718, ..., 5.31320598,\n",
       "          5.31811999, 5.31811999],\n",
       "         [0.69314718, 1.09861229, 1.38629436, ..., 5.38907173,\n",
       "          5.38907173, 5.38907173]],\n",
       "\n",
       "        [[0.69314718, 0.69314718, 0.69314718, ..., 1.60943791,\n",
       "          1.60943791, 1.60943791],\n",
       "         [0.69314718, 1.09861229, 1.09861229, ..., 1.60943791,\n",
       "          1.60943791, 1.60943791],\n",
       "         [0.69314718, 0.69314718, 0.69314718, ..., 1.38629436,\n",
       "          1.38629436, 1.38629436],\n",
       "         [0.69314718, 0.69314718, 0.69314718, ..., 1.94591015,\n",
       "          1.94591015, 1.94591015],\n",
       "         [0.69314718, 0.69314718, 0.69314718, ..., 1.60943791,\n",
       "          1.60943791, 1.60943791]],\n",
       "\n",
       "        [[0.69314718, 0.69314718, 1.09861229, ..., 5.55682806,\n",
       "          5.55682806, 5.55682806],\n",
       "         [0.69314718, 0.69314718, 1.09861229, ..., 5.28320373,\n",
       "          5.28320373, 5.28320373],\n",
       "         [0.69314718, 0.69314718, 1.09861229, ..., 5.42934563,\n",
       "          5.42934563, 5.42934563],\n",
       "         [0.69314718, 1.09861229, 1.38629436, ..., 5.34710753,\n",
       "          5.34710753, 5.35185813],\n",
       "         [0.69314718, 0.69314718, 0.69314718, ..., 5.43807931,\n",
       "          5.43807931, 5.43807931]]],\n",
       "\n",
       "\n",
       "       [[[0.69314718, 0.69314718, 0.69314718, ..., 4.94875989,\n",
       "          4.94875989, 4.94875989],\n",
       "         [0.69314718, 1.09861229, 1.09861229, ..., 4.95582706,\n",
       "          4.95582706, 4.95582706],\n",
       "         [0.69314718, 0.69314718, 0.69314718, ..., 5.29831737,\n",
       "          5.29831737, 5.29831737],\n",
       "         [0.69314718, 1.09861229, 1.09861229, ..., 5.86363118,\n",
       "          5.86363118, 5.86363118],\n",
       "         [0.69314718, 0.69314718, 1.09861229, ..., 5.420535  ,\n",
       "          5.420535  , 5.420535  ]],\n",
       "\n",
       "        [[0.69314718, 0.69314718, 0.69314718, ..., 5.51342875,\n",
       "          5.51342875, 5.51342875],\n",
       "         [0.69314718, 0.69314718, 1.09861229, ..., 5.49306144,\n",
       "          5.49306144, 5.49306144],\n",
       "         [0.69314718, 1.09861229, 1.09861229, ..., 5.0937502 ,\n",
       "          5.09986643, 5.09986643],\n",
       "         [0.69314718, 1.09861229, 1.38629436, ..., 5.08759634,\n",
       "          5.0937502 , 5.09986643],\n",
       "         [0.69314718, 1.09861229, 1.09861229, ..., 5.63835467,\n",
       "          5.63835467, 5.63835467]],\n",
       "\n",
       "        [[0.69314718, 0.69314718, 0.69314718, ..., 5.01063529,\n",
       "          5.01063529, 5.01063529],\n",
       "         [0.69314718, 0.69314718, 0.69314718, ..., 5.20948615,\n",
       "          5.20948615, 5.20948615],\n",
       "         [0.69314718, 0.69314718, 1.09861229, ..., 4.85203026,\n",
       "          4.85203026, 4.85203026],\n",
       "         [0.69314718, 0.69314718, 1.09861229, ..., 5.22574667,\n",
       "          5.22574667, 5.22574667],\n",
       "         [0.69314718, 0.69314718, 1.09861229, ..., 4.89034913,\n",
       "          4.89034913, 4.8978398 ]],\n",
       "\n",
       "        ...,\n",
       "\n",
       "        [[0.69314718, 1.09861229, 1.38629436, ..., 5.41164605,\n",
       "          5.41164605, 5.41164605],\n",
       "         [0.69314718, 0.69314718, 0.69314718, ..., 5.36597602,\n",
       "          5.36597602, 5.36597602],\n",
       "         [0.69314718, 1.09861229, 1.38629436, ..., 5.40267738,\n",
       "          5.40267738, 5.40267738],\n",
       "         [0.69314718, 0.69314718, 0.69314718, ..., 5.32300998,\n",
       "          5.32300998, 5.32300998],\n",
       "         [0.69314718, 1.09861229, 1.38629436, ..., 5.39362755,\n",
       "          5.39362755, 5.39362755]],\n",
       "\n",
       "        [[0.69314718, 0.69314718, 0.69314718, ..., 1.60943791,\n",
       "          1.60943791, 1.60943791],\n",
       "         [0.69314718, 0.69314718, 0.69314718, ..., 1.60943791,\n",
       "          1.60943791, 1.60943791],\n",
       "         [0.69314718, 0.69314718, 0.69314718, ..., 1.38629436,\n",
       "          1.38629436, 1.38629436],\n",
       "         [0.69314718, 0.69314718, 0.69314718, ..., 1.94591015,\n",
       "          1.94591015, 1.94591015],\n",
       "         [0.69314718, 0.69314718, 0.69314718, ..., 1.60943791,\n",
       "          1.60943791, 1.60943791]],\n",
       "\n",
       "        [[0.69314718, 0.69314718, 1.09861229, ..., 5.54907608,\n",
       "          5.55295958, 5.55295958],\n",
       "         [0.69314718, 0.69314718, 0.69314718, ..., 5.48063892,\n",
       "          5.48479693, 5.48893773],\n",
       "         [0.69314718, 0.69314718, 1.09861229, ..., 5.433722  ,\n",
       "          5.433722  , 5.433722  ],\n",
       "         [0.69314718, 1.09861229, 1.09861229, ..., 5.54517744,\n",
       "          5.54517744, 5.54517744],\n",
       "         [0.69314718, 0.69314718, 0.69314718, ..., 5.49306144,\n",
       "          5.49306144, 5.49306144]]],\n",
       "\n",
       "\n",
       "       [[[0.69314718, 1.09861229, 1.38629436, ..., 5.28826703,\n",
       "          5.29330482, 5.29831737],\n",
       "         [0.69314718, 0.69314718, 1.09861229, ..., 5.28320373,\n",
       "          5.28826703, 5.29330482],\n",
       "         [0.69314718, 1.09861229, 1.38629436, ..., 5.04985601,\n",
       "          5.04985601, 5.04985601],\n",
       "         [0.69314718, 1.09861229, 1.38629436, ..., 5.59842196,\n",
       "          5.60211882, 5.60580207],\n",
       "         [0.69314718, 1.09861229, 1.38629436, ..., 5.28826703,\n",
       "          5.29330482, 5.29831737]],\n",
       "\n",
       "        [[0.69314718, 1.09861229, 1.38629436, ..., 5.68017261,\n",
       "          5.68017261, 5.68017261],\n",
       "         [0.69314718, 1.09861229, 1.38629436, ..., 5.68017261,\n",
       "          5.68017261, 5.68017261],\n",
       "         [0.69314718, 1.09861229, 1.38629436, ..., 5.54517744,\n",
       "          5.54907608, 5.55295958],\n",
       "         [0.69314718, 1.09861229, 1.38629436, ..., 5.54517744,\n",
       "          5.54907608, 5.55295958],\n",
       "         [0.69314718, 1.09861229, 1.38629436, ..., 5.69709349,\n",
       "          5.69709349, 5.69709349]],\n",
       "\n",
       "        [[0.69314718, 1.09861229, 1.38629436, ..., 5.02388052,\n",
       "          5.02388052, 5.02388052],\n",
       "         [0.69314718, 1.09861229, 1.38629436, ..., 5.02388052,\n",
       "          5.02388052, 5.02388052],\n",
       "         [0.69314718, 1.09861229, 1.38629436, ..., 4.99721227,\n",
       "          5.00394631, 5.01063529],\n",
       "         [0.69314718, 1.09861229, 1.38629436, ..., 4.94164242,\n",
       "          4.94164242, 4.94164242],\n",
       "         [0.69314718, 1.09861229, 1.38629436, ..., 5.02388052,\n",
       "          5.02388052, 5.02388052]],\n",
       "\n",
       "        ...,\n",
       "\n",
       "        [[0.69314718, 1.09861229, 1.38629436, ..., 5.00394631,\n",
       "          5.00394631, 5.00394631],\n",
       "         [0.69314718, 1.09861229, 1.38629436, ..., 5.16478597,\n",
       "          5.170484  , 5.17614973],\n",
       "         [0.69314718, 1.09861229, 1.38629436, ..., 4.99721227,\n",
       "          5.00394631, 5.01063529],\n",
       "         [0.69314718, 1.09861229, 1.38629436, ..., 5.01727984,\n",
       "          5.01727984, 5.01727984],\n",
       "         [0.69314718, 1.09861229, 1.38629436, ..., 5.00394631,\n",
       "          5.00394631, 5.00394631]],\n",
       "\n",
       "        [[0.69314718, 1.09861229, 1.38629436, ..., 1.60943791,\n",
       "          1.60943791, 1.60943791],\n",
       "         [0.69314718, 1.09861229, 1.38629436, ..., 1.60943791,\n",
       "          1.60943791, 1.60943791],\n",
       "         [0.69314718, 1.09861229, 1.38629436, ..., 1.38629436,\n",
       "          1.38629436, 1.38629436],\n",
       "         [0.69314718, 1.09861229, 1.09861229, ..., 1.94591015,\n",
       "          1.94591015, 1.94591015],\n",
       "         [0.69314718, 1.09861229, 1.38629436, ..., 1.60943791,\n",
       "          1.60943791, 1.60943791]],\n",
       "\n",
       "        [[0.69314718, 1.09861229, 1.38629436, ..., 5.26785816,\n",
       "          5.27299956, 5.27811466],\n",
       "         [0.69314718, 1.09861229, 1.38629436, ..., 5.35658627,\n",
       "          5.35658627, 5.35658627],\n",
       "         [0.69314718, 1.09861229, 1.38629436, ..., 5.49716823,\n",
       "          5.49716823, 5.49716823],\n",
       "         [0.69314718, 1.09861229, 1.38629436, ..., 5.35658627,\n",
       "          5.35658627, 5.35658627],\n",
       "         [0.69314718, 1.09861229, 1.09861229, ..., 5.48893773,\n",
       "          5.49306144, 5.49716823]]]])"
      ]
     },
     "execution_count": 6,
     "metadata": {},
     "output_type": "execute_result"
    }
   ],
   "source": [
    "print(utilities.shape)\n",
    "utilities"
   ]
  },
  {
   "cell_type": "code",
   "execution_count": 7,
   "id": "5d61994b-22bc-41c5-973b-9038bf068515",
   "metadata": {
    "scrolled": true,
    "tags": []
   },
   "outputs": [
    {
     "name": "stdout",
     "output_type": "stream",
     "text": [
      "(3, 600, 501)\n"
     ]
    },
    {
     "data": {
      "text/plain": [
       "array([[[0.69314718, 0.69314718, 0.69314718, ..., 5.37527841,\n",
       "         5.37527841, 5.37989735],\n",
       "        [0.69314718, 1.09861229, 1.09861229, ..., 5.4161004 ,\n",
       "         5.4161004 , 5.4161004 ],\n",
       "        [0.69314718, 0.69314718, 0.69314718, ..., 5.3082677 ,\n",
       "         5.3082677 , 5.3082677 ],\n",
       "        ...,\n",
       "        [0.69314718, 0.69314718, 1.09861229, ..., 5.42934563,\n",
       "         5.42934563, 5.42934563],\n",
       "        [0.69314718, 1.09861229, 1.38629436, ..., 5.34710753,\n",
       "         5.34710753, 5.35185813],\n",
       "        [0.69314718, 0.69314718, 0.69314718, ..., 5.43807931,\n",
       "         5.43807931, 5.43807931]],\n",
       "\n",
       "       [[0.69314718, 0.69314718, 0.69314718, ..., 4.94875989,\n",
       "         4.94875989, 4.94875989],\n",
       "        [0.69314718, 1.09861229, 1.09861229, ..., 4.95582706,\n",
       "         4.95582706, 4.95582706],\n",
       "        [0.69314718, 0.69314718, 0.69314718, ..., 5.29831737,\n",
       "         5.29831737, 5.29831737],\n",
       "        ...,\n",
       "        [0.69314718, 0.69314718, 1.09861229, ..., 5.433722  ,\n",
       "         5.433722  , 5.433722  ],\n",
       "        [0.69314718, 1.09861229, 1.09861229, ..., 5.54517744,\n",
       "         5.54517744, 5.54517744],\n",
       "        [0.69314718, 0.69314718, 0.69314718, ..., 5.49306144,\n",
       "         5.49306144, 5.49306144]],\n",
       "\n",
       "       [[0.69314718, 1.09861229, 1.38629436, ..., 5.28826703,\n",
       "         5.29330482, 5.29831737],\n",
       "        [0.69314718, 0.69314718, 1.09861229, ..., 5.28320373,\n",
       "         5.28826703, 5.29330482],\n",
       "        [0.69314718, 1.09861229, 1.38629436, ..., 5.04985601,\n",
       "         5.04985601, 5.04985601],\n",
       "        ...,\n",
       "        [0.69314718, 1.09861229, 1.38629436, ..., 5.49716823,\n",
       "         5.49716823, 5.49716823],\n",
       "        [0.69314718, 1.09861229, 1.38629436, ..., 5.35658627,\n",
       "         5.35658627, 5.35658627],\n",
       "        [0.69314718, 1.09861229, 1.09861229, ..., 5.48893773,\n",
       "         5.49306144, 5.49716823]]])"
      ]
     },
     "execution_count": 7,
     "metadata": {},
     "output_type": "execute_result"
    }
   ],
   "source": [
    "squeezed_utilities =  utilities.reshape(\n",
    "    len(policies), \n",
    "    num_exps * num_repeats_per_exp, \n",
    "    budget + init_size\n",
    ")\n",
    "\n",
    "print(squeezed_utilities.shape)\n",
    "squeezed_utilities"
   ]
  },
  {
   "cell_type": "code",
   "execution_count": 8,
   "id": "463e4c5e-4e80-4de6-99e5-4d14e0891532",
   "metadata": {},
   "outputs": [
    {
     "name": "stdout",
     "output_type": "stream",
     "text": [
      "4.211158503065736 4.4462728258288635\n",
      "0.0587785806907819\n",
      "4.281000364440842 4.509152321660838\n",
      "0.05703798930499904\n",
      "4.282051148297527 4.505499548095709\n",
      "0.055862099949545385\n"
     ]
    },
    {
     "data": {
      "image/png": "[encoded data removed]",
      "text/plain": [
       "<Figure size 432x288 with 1 Axes>"
      ]
     },
     "metadata": {
      "needs_background": "light"
     },
     "output_type": "display_data"
    }
   ],
   "source": [
    "plt.figure()\n",
    "\n",
    "for p_ind, policy in enumerate(policies):\n",
    "    plt.plot(squeezed_utilities[p_ind].mean(axis=0), label=policy)\n",
    "    lower, upper = DescrStatsW(squeezed_utilities[p_ind]).tconfint_mean()\n",
    "    plt.fill_between(np.arange(init_size + budget), lower, upper, alpha=0.3)\n",
    "    \n",
    "    print(lower[-1], upper[-1])\n",
    "    print((upper[-1] - lower[-1]) / 4)\n",
    "    \n",
    "plt.legend();"
   ]
  },
  {
   "cell_type": "code",
   "execution_count": null,
   "id": "6967a22e-14ee-4a64-85d5-4840ef0c3f43",
   "metadata": {},
   "outputs": [],
   "source": []
  }
 ],
 "metadata": {
  "kernelspec": {
   "display_name": "Python 3 (ipykernel)",
   "language": "python",
   "name": "python3"
  },
  "language_info": {
   "codemirror_mode": {
    "name": "ipython",
    "version": 3
   },
   "file_extension": ".py",
   "mimetype": "text/x-python",
   "name": "python",
   "nbconvert_exporter": "python",
   "pygments_lexer": "ipython3",
   "version": "3.7.0"
  }
 },
 "nbformat": 4,
 "nbformat_minor": 5
}
