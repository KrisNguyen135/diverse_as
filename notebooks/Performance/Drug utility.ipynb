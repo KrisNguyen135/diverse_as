{
 "cells": [
  {
   "cell_type": "code",
   "execution_count": 1,
   "id": "89ecdebc-8122-4b8b-97cc-2e171377c83b",
   "metadata": {},
   "outputs": [],
   "source": [
    "import numpy as np\n",
    "\n",
    "import os\n",
    "\n",
    "from statsmodels.stats.api import DescrStatsW\n",
    "from scipy.stats import ttest_rel, sem\n",
    "\n",
    "import matplotlib.pyplot as plt\n",
    "import seaborn as sns"
   ]
  },
  {
   "cell_type": "code",
   "execution_count": 2,
   "id": "bf2fc1f0-fa9b-4528-b60b-0e00b0ca389c",
   "metadata": {},
   "outputs": [],
   "source": [
    "def labels_to_counts(labels, time_axis=0):\n",
    "    onehot = np.zeros((labels.size, n_classes), dtype=int)\n",
    "    onehot[np.arange(labels.size), labels] = 1\n",
    "    \n",
    "    return onehot.cumsum(axis=time_axis)\n",
    "\n",
    "\n",
    "def log_utility(counts):\n",
    "    return np.log(counts[:, 1:] + 1).sum(axis=1)\n",
    "\n",
    "\n",
    "def linear_utility(counts):\n",
    "    return counts[:, 1:].sum(axis=1)\n",
    "\n",
    "\n",
    "data = 'morgan'\n",
    "\n",
    "# group_size = 1\n",
    "# num_exps = 120\n",
    "# num_repeats_per_exp = 5\n",
    "\n",
    "group_size = 5\n",
    "num_exps = 20\n",
    "num_repeats_per_exp = 1\n",
    "\n",
    "policies = [\n",
    "    'ens jensen greedy',\n",
    "    'classical ens',\n",
    "    'greedy',\n",
    "    'round robin greedy',\n",
    "]\n",
    "if group_size == 1 and 'round robin greedy' in policies:\n",
    "    policies.remove('round robin greedy')\n",
    "    \n",
    "utility_function = log_utility\n",
    "\n",
    "n_classes = group_size + 1\n",
    "init_size = 1\n",
    "budget = 500\n",
    "\n",
    "basepath = os.path.join('../../data/results', data)\n",
    "# basepath = os.path.join('../../data/results/backup/results 1101 - 1011', data)  # for sorted upperbound 5\n",
    "\n",
    "\n",
    "utilities = np.ones(\n",
    "    (len(policies), num_exps, num_repeats_per_exp, budget + init_size)\n",
    ") * -1\n",
    "\n",
    "for p_ind, policy in enumerate(policies):\n",
    "    for exp_ind in range(num_exps):\n",
    "        path = os.path.join(basepath, f'{data}{exp_ind + 1}', str(group_size), policy)\n",
    "        for i in range(num_repeats_per_exp):\n",
    "            labels = np.loadtxt(\n",
    "                os.path.join(path, f'{policy}__labels__{i + 1}.csv'), \n",
    "                dtype=int\n",
    "            ).flatten() - 1\n",
    "\n",
    "            utilities[p_ind, exp_ind, i, :] = log_utility(labels_to_counts(labels))\n",
    "        \n",
    "assert np.all(utilities != -1)"
   ]
  },
  {
   "cell_type": "code",
   "execution_count": 3,
   "id": "e4a81dd6-30c4-4ab5-9e09-5e5857333eca",
   "metadata": {},
   "outputs": [
    {
     "data": {
      "text/plain": [
       "(4, 20, 1, 501)"
      ]
     },
     "execution_count": 3,
     "metadata": {},
     "output_type": "execute_result"
    }
   ],
   "source": [
    "utilities.shape"
   ]
  },
  {
   "cell_type": "code",
   "execution_count": 4,
   "id": "76ab1892-6f2e-488f-89a7-70ff4a9d3a21",
   "metadata": {},
   "outputs": [
    {
     "data": {
      "text/plain": [
       "array([12.19898859,  9.15083377, 10.87167379, 10.98620386])"
      ]
     },
     "execution_count": 4,
     "metadata": {},
     "output_type": "execute_result"
    }
   ],
   "source": [
    "utilities[..., -1].mean(axis=(1, 2))"
   ]
  },
  {
   "cell_type": "code",
   "execution_count": 5,
   "id": "46585151-cf4d-4444-83d3-5dfaae35084a",
   "metadata": {},
   "outputs": [
    {
     "name": "stdout",
     "output_type": "stream",
     "text": [
      "ens jensen greedy: 12.1990\n",
      "classical ens: 9.1508\n",
      "greedy: 10.8717\n",
      "round robin greedy: 10.9862\n"
     ]
    },
    {
     "data": {
      "image/png": "[encoded data removed]",
      "text/plain": [
       "<Figure size 432x288 with 1 Axes>"
      ]
     },
     "metadata": {
      "needs_background": "light"
     },
     "output_type": "display_data"
    }
   ],
   "source": [
    "for p_ind, policy in enumerate(policies):\n",
    "    print(f'{policy}: {utilities[p_ind, ..., -1].mean():.4f}')\n",
    "    sns.kdeplot(utilities[p_ind, ..., -1].flatten(), alpha=0.4, shade=True, label=policy)\n",
    "    \n",
    "plt.legend(loc='upper left');"
   ]
  },
  {
   "cell_type": "code",
   "execution_count": 6,
   "id": "871cafdd-b75f-41f0-a102-c6c85fea8275",
   "metadata": {
    "scrolled": true,
    "tags": []
   },
   "outputs": [
    {
     "name": "stdout",
     "output_type": "stream",
     "text": [
      "(4, 20, 1, 501)\n"
     ]
    },
    {
     "data": {
      "text/plain": [
       "array([[[[ 0.69314718,  0.69314718,  0.69314718, ..., 16.44295789,\n",
       "          16.4594872 , 16.4760165 ]],\n",
       "\n",
       "        [[ 0.69314718,  0.69314718,  0.69314718, ...,  8.41715184,\n",
       "           8.44246965,  8.46716226]],\n",
       "\n",
       "        [[ 0.69314718,  1.09861229,  1.09861229, ...,  7.90544165,\n",
       "           7.94626364,  7.98548436]],\n",
       "\n",
       "        ...,\n",
       "\n",
       "        [[ 0.69314718,  0.69314718,  1.09861229, ...,  9.50718038,\n",
       "           9.51576413,  9.52427482]],\n",
       "\n",
       "        [[ 0.69314718,  0.69314718,  1.09861229, ...,  6.87626461,\n",
       "           6.87626461,  6.87626461]],\n",
       "\n",
       "        [[ 0.69314718,  0.69314718,  0.69314718, ..., 17.47287303,\n",
       "          17.48629605, 17.49887483]]],\n",
       "\n",
       "\n",
       "       [[[ 0.69314718,  0.69314718,  0.69314718, ...,  7.71110125,\n",
       "           7.71110125,  7.71110125]],\n",
       "\n",
       "        [[ 0.69314718,  1.09861229,  1.09861229, ...,  9.80200838,\n",
       "           9.80200838,  9.80200838]],\n",
       "\n",
       "        [[ 0.69314718,  1.09861229,  1.38629436, ..., 10.28301928,\n",
       "          10.28301928, 10.30011371]],\n",
       "\n",
       "        ...,\n",
       "\n",
       "        [[ 0.69314718,  0.69314718,  1.09861229, ...,  5.7651911 ,\n",
       "           5.7651911 ,  5.7651911 ]],\n",
       "\n",
       "        [[ 0.69314718,  1.09861229,  1.38629436, ..., 10.21939258,\n",
       "          10.22412073, 10.22412073]],\n",
       "\n",
       "        [[ 0.69314718,  0.69314718,  0.69314718, ..., 10.01431311,\n",
       "          10.01431311, 10.01431311]]],\n",
       "\n",
       "\n",
       "       [[[ 0.69314718,  1.09861229,  1.38629436, ...,  7.6182511 ,\n",
       "           7.6182511 ,  7.6182511 ]],\n",
       "\n",
       "        [[ 0.69314718,  1.09861229,  1.38629436, ...,  9.46094344,\n",
       "           9.46094344,  9.46094344]],\n",
       "\n",
       "        [[ 0.69314718,  1.09861229,  1.38629436, ...,  8.69951475,\n",
       "           8.69951475,  8.69951475]],\n",
       "\n",
       "        ...,\n",
       "\n",
       "        [[ 0.69314718,  1.09861229,  1.38629436, ...,  5.66988092,\n",
       "           5.66988092,  5.66988092]],\n",
       "\n",
       "        [[ 0.69314718,  1.09861229,  1.38629436, ...,  5.40267738,\n",
       "           5.40267738,  5.40267738]],\n",
       "\n",
       "        [[ 0.69314718,  1.09861229,  1.38629436, ..., 10.13974474,\n",
       "          10.14560986, 10.14560986]]],\n",
       "\n",
       "\n",
       "       [[[ 0.69314718,  0.69314718,  0.69314718, ..., 12.88810074,\n",
       "          12.89902981, 12.91477817]],\n",
       "\n",
       "        [[ 0.69314718,  0.69314718,  0.69314718, ..., 16.06179193,\n",
       "          16.06179193, 16.06179193]],\n",
       "\n",
       "        [[ 0.69314718,  0.69314718,  0.69314718, ..., 14.98841366,\n",
       "          14.98841366, 15.03720382]],\n",
       "\n",
       "        ...,\n",
       "\n",
       "        [[ 0.69314718,  0.69314718,  0.69314718, ...,  9.2644497 ,\n",
       "           9.2644497 ,  9.2644497 ]],\n",
       "\n",
       "        [[ 0.69314718,  0.69314718,  1.09861229, ...,  8.36264243,\n",
       "           8.36264243,  8.36264243]],\n",
       "\n",
       "        [[ 0.69314718,  0.69314718,  0.69314718, ..., 12.96781262,\n",
       "          12.96781262, 12.97964708]]]])"
      ]
     },
     "execution_count": 6,
     "metadata": {},
     "output_type": "execute_result"
    }
   ],
   "source": [
    "print(utilities.shape)\n",
    "utilities"
   ]
  },
  {
   "cell_type": "code",
   "execution_count": 7,
   "id": "5d61994b-22bc-41c5-973b-9038bf068515",
   "metadata": {
    "scrolled": true,
    "tags": []
   },
   "outputs": [
    {
     "name": "stdout",
     "output_type": "stream",
     "text": [
      "(4, 20, 501)\n"
     ]
    },
    {
     "data": {
      "text/plain": [
       "array([[[ 0.69314718,  0.69314718,  0.69314718, ..., 16.44295789,\n",
       "         16.4594872 , 16.4760165 ],\n",
       "        [ 0.69314718,  0.69314718,  0.69314718, ...,  8.41715184,\n",
       "          8.44246965,  8.46716226],\n",
       "        [ 0.69314718,  1.09861229,  1.09861229, ...,  7.90544165,\n",
       "          7.94626364,  7.98548436],\n",
       "        ...,\n",
       "        [ 0.69314718,  0.69314718,  1.09861229, ...,  9.50718038,\n",
       "          9.51576413,  9.52427482],\n",
       "        [ 0.69314718,  0.69314718,  1.09861229, ...,  6.87626461,\n",
       "          6.87626461,  6.87626461],\n",
       "        [ 0.69314718,  0.69314718,  0.69314718, ..., 17.47287303,\n",
       "         17.48629605, 17.49887483]],\n",
       "\n",
       "       [[ 0.69314718,  0.69314718,  0.69314718, ...,  7.71110125,\n",
       "          7.71110125,  7.71110125],\n",
       "        [ 0.69314718,  1.09861229,  1.09861229, ...,  9.80200838,\n",
       "          9.80200838,  9.80200838],\n",
       "        [ 0.69314718,  1.09861229,  1.38629436, ..., 10.28301928,\n",
       "         10.28301928, 10.30011371],\n",
       "        ...,\n",
       "        [ 0.69314718,  0.69314718,  1.09861229, ...,  5.7651911 ,\n",
       "          5.7651911 ,  5.7651911 ],\n",
       "        [ 0.69314718,  1.09861229,  1.38629436, ..., 10.21939258,\n",
       "         10.22412073, 10.22412073],\n",
       "        [ 0.69314718,  0.69314718,  0.69314718, ..., 10.01431311,\n",
       "         10.01431311, 10.01431311]],\n",
       "\n",
       "       [[ 0.69314718,  1.09861229,  1.38629436, ...,  7.6182511 ,\n",
       "          7.6182511 ,  7.6182511 ],\n",
       "        [ 0.69314718,  1.09861229,  1.38629436, ...,  9.46094344,\n",
       "          9.46094344,  9.46094344],\n",
       "        [ 0.69314718,  1.09861229,  1.38629436, ...,  8.69951475,\n",
       "          8.69951475,  8.69951475],\n",
       "        ...,\n",
       "        [ 0.69314718,  1.09861229,  1.38629436, ...,  5.66988092,\n",
       "          5.66988092,  5.66988092],\n",
       "        [ 0.69314718,  1.09861229,  1.38629436, ...,  5.40267738,\n",
       "          5.40267738,  5.40267738],\n",
       "        [ 0.69314718,  1.09861229,  1.38629436, ..., 10.13974474,\n",
       "         10.14560986, 10.14560986]],\n",
       "\n",
       "       [[ 0.69314718,  0.69314718,  0.69314718, ..., 12.88810074,\n",
       "         12.89902981, 12.91477817],\n",
       "        [ 0.69314718,  0.69314718,  0.69314718, ..., 16.06179193,\n",
       "         16.06179193, 16.06179193],\n",
       "        [ 0.69314718,  0.69314718,  0.69314718, ..., 14.98841366,\n",
       "         14.98841366, 15.03720382],\n",
       "        ...,\n",
       "        [ 0.69314718,  0.69314718,  0.69314718, ...,  9.2644497 ,\n",
       "          9.2644497 ,  9.2644497 ],\n",
       "        [ 0.69314718,  0.69314718,  1.09861229, ...,  8.36264243,\n",
       "          8.36264243,  8.36264243],\n",
       "        [ 0.69314718,  0.69314718,  0.69314718, ..., 12.96781262,\n",
       "         12.96781262, 12.97964708]]])"
      ]
     },
     "execution_count": 7,
     "metadata": {},
     "output_type": "execute_result"
    }
   ],
   "source": [
    "squeezed_utilities =  utilities.reshape(\n",
    "    len(policies), \n",
    "    num_exps * num_repeats_per_exp, \n",
    "    budget + init_size\n",
    ")\n",
    "\n",
    "print(squeezed_utilities.shape)\n",
    "squeezed_utilities"
   ]
  },
  {
   "cell_type": "code",
   "execution_count": 8,
   "id": "eea9144d-777d-4dfb-a3d2-c91981f4c9ea",
   "metadata": {},
   "outputs": [
    {
     "name": "stdout",
     "output_type": "stream",
     "text": [
      "ens jensen greedy vs. classical ens\n",
      "0.0011388934524031822\n",
      "ens jensen greedy vs. greedy\n",
      "0.07188889851072464\n",
      "ens jensen greedy vs. round robin greedy\n",
      "0.1674967580845969\n",
      "\n",
      "classical ens vs. greedy\n",
      "0.011405621663659582\n",
      "classical ens vs. round robin greedy\n",
      "0.029442914293613308\n",
      "\n",
      "greedy vs. round robin greedy\n",
      "0.4617183081225908\n",
      "\n"
     ]
    }
   ],
   "source": [
    "for p1 in range(len(policies) - 1):\n",
    "    for p2 in range(p1 + 1, len(policies)):\n",
    "        if squeezed_utilities[p1, :, -1].mean() < squeezed_utilities[p2, :, -1].mean():\n",
    "            alternative = \"less\"\n",
    "        else:\n",
    "            alternative = \"greater\"\n",
    "        \n",
    "        print(policies[p1], \"vs.\", policies[p2])\n",
    "        print(\n",
    "            ttest_rel(\n",
    "                squeezed_utilities[p1, :, -1], \n",
    "                squeezed_utilities[p2, :, -1],\n",
    "                alternative=alternative\n",
    "            ).pvalue\n",
    "        )\n",
    "    print()"
   ]
  },
  {
   "cell_type": "code",
   "execution_count": 9,
   "id": "463e4c5e-4e80-4de6-99e5-4d14e0891532",
   "metadata": {},
   "outputs": [
    {
     "name": "stdout",
     "output_type": "stream",
     "text": [
      "10.577285283604704 13.820691898500796\n",
      "0.8109\n",
      "8.162455477491124 10.139212066711613\n",
      "0.4942\n",
      "9.298409972328866 12.444937608874461\n",
      "0.7866\n",
      "9.36610477891449 12.606302938310218\n",
      "0.8100\n"
     ]
    },
    {
     "data": {
      "image/png": "[encoded data removed]",
      "text/plain": [
       "<Figure size 432x288 with 1 Axes>"
      ]
     },
     "metadata": {
      "needs_background": "light"
     },
     "output_type": "display_data"
    }
   ],
   "source": [
    "plt.figure()\n",
    "\n",
    "for p_ind, policy in enumerate(policies):\n",
    "    plt.plot(squeezed_utilities[p_ind].mean(axis=0), label=policy)\n",
    "    lower, upper = DescrStatsW(squeezed_utilities[p_ind]).tconfint_mean()\n",
    "    plt.fill_between(np.arange(init_size + budget), lower, upper, alpha=0.3)\n",
    "    \n",
    "    print(lower[-1], upper[-1])\n",
    "    print(f'{(upper[-1] - lower[-1]) / 4:.4f}')\n",
    "    \n",
    "plt.xlabel(\"# queries\")\n",
    "plt.ylabel(\"utility\")\n",
    "plt.legend();"
   ]
  },
  {
   "cell_type": "code",
   "execution_count": null,
   "id": "f97301c1-4a5e-4eca-a68d-9ec40dcf22cc",
   "metadata": {},
   "outputs": [],
   "source": []
  }
 ],
 "metadata": {
  "kernelspec": {
   "display_name": "Python 3 (ipykernel)",
   "language": "python",
   "name": "python3"
  },
  "language_info": {
   "codemirror_mode": {
    "name": "ipython",
    "version": 3
   },
   "file_extension": ".py",
   "mimetype": "text/x-python",
   "name": "python",
   "nbconvert_exporter": "python",
   "pygments_lexer": "ipython3",
   "version": "3.7.0"
  }
 },
 "nbformat": 4,
 "nbformat_minor": 5
}
