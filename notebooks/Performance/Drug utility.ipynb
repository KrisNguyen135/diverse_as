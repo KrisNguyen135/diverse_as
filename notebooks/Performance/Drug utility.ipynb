{
 "cells": [
  {
   "cell_type": "code",
   "execution_count": 1,
   "id": "89ecdebc-8122-4b8b-97cc-2e171377c83b",
   "metadata": {},
   "outputs": [],
   "source": [
    "import numpy as np\n",
    "\n",
    "import os\n",
    "\n",
    "from statsmodels.stats.api import DescrStatsW\n",
    "from scipy.stats import ttest_rel, sem\n",
    "\n",
    "import matplotlib.pyplot as plt\n",
    "import seaborn as sns"
   ]
  },
  {
   "cell_type": "code",
   "execution_count": 2,
   "id": "bf2fc1f0-fa9b-4528-b60b-0e00b0ca389c",
   "metadata": {},
   "outputs": [],
   "source": [
    "def labels_to_counts(labels, time_axis=0):\n",
    "    onehot = np.zeros((labels.size, n_classes), dtype=int)\n",
    "    onehot[np.arange(labels.size), labels] = 1\n",
    "    \n",
    "    return onehot.cumsum(axis=time_axis)\n",
    "\n",
    "\n",
    "def log_utility(counts):\n",
    "    return np.log(counts[:, 1:] + 1).sum(axis=1)\n",
    "\n",
    "\n",
    "data = 'ecfp'\n",
    "group_size = 1\n",
    "num_exps = 120\n",
    "num_repeats_per_exp = 1\n",
    "\n",
    "policies = [\n",
    "    'ens jensen greedy',\n",
    "    'classical ens',\n",
    "    'greedy',\n",
    "    # 'round robin greedy',\n",
    "]\n",
    "utility_function = log_utility\n",
    "\n",
    "n_classes = group_size + 1\n",
    "init_size = 1\n",
    "budget = 500\n",
    "\n",
    "basepath = os.path.join('../../data/results', data)\n",
    "\n",
    "\n",
    "utilities = np.ones(\n",
    "    (len(policies), num_exps, num_repeats_per_exp, budget + init_size)\n",
    ") * -1\n",
    "\n",
    "for p_ind, policy in enumerate(policies):\n",
    "    for exp_ind in range(num_exps):\n",
    "        path = os.path.join(basepath, f'{data}{exp_ind + 1}', str(group_size), policy)\n",
    "        for i in range(num_repeats_per_exp):\n",
    "            labels = np.loadtxt(\n",
    "                os.path.join(path, f'{policy}__labels__{i + 1}.csv'), \n",
    "                dtype=int\n",
    "            ).flatten() - 1\n",
    "\n",
    "            utilities[p_ind, exp_ind, i, :] = log_utility(labels_to_counts(labels))\n",
    "        \n",
    "assert np.all(utilities != -1)"
   ]
  },
  {
   "cell_type": "code",
   "execution_count": 3,
   "id": "e4a81dd6-30c4-4ab5-9e09-5e5857333eca",
   "metadata": {},
   "outputs": [
    {
     "data": {
      "text/plain": [
       "(3, 120, 1, 501)"
      ]
     },
     "execution_count": 3,
     "metadata": {},
     "output_type": "execute_result"
    }
   ],
   "source": [
    "utilities.shape"
   ]
  },
  {
   "cell_type": "code",
   "execution_count": 4,
   "id": "76ab1892-6f2e-488f-89a7-70ff4a9d3a21",
   "metadata": {},
   "outputs": [
    {
     "data": {
      "text/plain": [
       "array([4.91396496, 4.9697297 , 5.00978162])"
      ]
     },
     "execution_count": 4,
     "metadata": {},
     "output_type": "execute_result"
    }
   ],
   "source": [
    "utilities[..., -1].mean(axis=(1, 2))"
   ]
  },
  {
   "cell_type": "code",
   "execution_count": 5,
   "id": "46585151-cf4d-4444-83d3-5dfaae35084a",
   "metadata": {},
   "outputs": [
    {
     "name": "stdout",
     "output_type": "stream",
     "text": [
      "ens jensen greedy: 4.9140\n",
      "classical ens: 4.9697\n",
      "greedy: 5.0098\n"
     ]
    },
    {
     "data": {
      "image/png": "[encoded data removed]",
      "text/plain": [
       "<Figure size 432x288 with 1 Axes>"
      ]
     },
     "metadata": {
      "needs_background": "light"
     },
     "output_type": "display_data"
    }
   ],
   "source": [
    "for p_ind, policy in enumerate(policies):\n",
    "    print(f'{policy}: {utilities[p_ind, ..., -1].mean():.4f}')\n",
    "    sns.kdeplot(utilities[p_ind, ..., -1].flatten(), alpha=0.4, shade=True, label=policy)\n",
    "    \n",
    "plt.legend(loc='upper left');"
   ]
  },
  {
   "cell_type": "code",
   "execution_count": 6,
   "id": "871cafdd-b75f-41f0-a102-c6c85fea8275",
   "metadata": {
    "scrolled": true,
    "tags": []
   },
   "outputs": [
    {
     "name": "stdout",
     "output_type": "stream",
     "text": [
      "(3, 120, 1, 501)\n"
     ]
    },
    {
     "data": {
      "text/plain": [
       "array([[[[0.69314718, 0.69314718, 1.09861229, ..., 5.74300319,\n",
       "          5.74300319, 5.74300319]],\n",
       "\n",
       "        [[0.69314718, 0.69314718, 0.69314718, ..., 5.68357977,\n",
       "          5.68357977, 5.68357977]],\n",
       "\n",
       "        [[0.69314718, 0.69314718, 0.69314718, ..., 4.97673374,\n",
       "          4.97673374, 4.97673374]],\n",
       "\n",
       "        ...,\n",
       "\n",
       "        [[0.69314718, 1.09861229, 1.38629436, ..., 5.45958551,\n",
       "          5.45958551, 5.45958551]],\n",
       "\n",
       "        [[0.69314718, 0.69314718, 0.69314718, ..., 4.65396035,\n",
       "          4.66343909, 4.66343909]],\n",
       "\n",
       "        [[0.69314718, 0.69314718, 1.09861229, ..., 5.41164605,\n",
       "          5.41164605, 5.41164605]]],\n",
       "\n",
       "\n",
       "       [[[0.69314718, 0.69314718, 1.09861229, ..., 5.68357977,\n",
       "          5.68357977, 5.68357977]],\n",
       "\n",
       "        [[0.69314718, 0.69314718, 0.69314718, ..., 5.65599181,\n",
       "          5.65948222, 5.66296048]],\n",
       "\n",
       "        [[0.69314718, 0.69314718, 0.69314718, ..., 4.97673374,\n",
       "          4.97673374, 4.97673374]],\n",
       "\n",
       "        ...,\n",
       "\n",
       "        [[0.69314718, 1.09861229, 1.38629436, ..., 5.45103845,\n",
       "          5.45103845, 5.45103845]],\n",
       "\n",
       "        [[0.69314718, 1.09861229, 1.38629436, ..., 4.61512052,\n",
       "          4.62497281, 4.62497281]],\n",
       "\n",
       "        [[0.69314718, 0.69314718, 0.69314718, ..., 5.46806014,\n",
       "          5.46806014, 5.46806014]]],\n",
       "\n",
       "\n",
       "       [[[0.69314718, 1.09861229, 1.38629436, ..., 5.19295685,\n",
       "          5.19295685, 5.19295685]],\n",
       "\n",
       "        [[0.69314718, 1.09861229, 1.38629436, ..., 5.70378247,\n",
       "          5.70378247, 5.70378247]],\n",
       "\n",
       "        [[0.69314718, 1.09861229, 1.38629436, ..., 4.99721227,\n",
       "          4.99721227, 4.99721227]],\n",
       "\n",
       "        ...,\n",
       "\n",
       "        [[0.69314718, 1.09861229, 1.38629436, ..., 5.32787617,\n",
       "          5.33271879, 5.33753808]],\n",
       "\n",
       "        [[0.69314718, 0.69314718, 1.09861229, ..., 4.91265489,\n",
       "          4.91998093, 4.91998093]],\n",
       "\n",
       "        [[0.69314718, 0.69314718, 0.69314718, ..., 5.54907608,\n",
       "          5.54907608, 5.55295958]]]])"
      ]
     },
     "execution_count": 6,
     "metadata": {},
     "output_type": "execute_result"
    }
   ],
   "source": [
    "print(utilities.shape)\n",
    "utilities"
   ]
  },
  {
   "cell_type": "code",
   "execution_count": 7,
   "id": "5d61994b-22bc-41c5-973b-9038bf068515",
   "metadata": {
    "scrolled": true,
    "tags": []
   },
   "outputs": [
    {
     "name": "stdout",
     "output_type": "stream",
     "text": [
      "(3, 120, 501)\n"
     ]
    },
    {
     "data": {
      "text/plain": [
       "array([[[0.69314718, 0.69314718, 1.09861229, ..., 5.74300319,\n",
       "         5.74300319, 5.74300319],\n",
       "        [0.69314718, 0.69314718, 0.69314718, ..., 5.68357977,\n",
       "         5.68357977, 5.68357977],\n",
       "        [0.69314718, 0.69314718, 0.69314718, ..., 4.97673374,\n",
       "         4.97673374, 4.97673374],\n",
       "        ...,\n",
       "        [0.69314718, 1.09861229, 1.38629436, ..., 5.45958551,\n",
       "         5.45958551, 5.45958551],\n",
       "        [0.69314718, 0.69314718, 0.69314718, ..., 4.65396035,\n",
       "         4.66343909, 4.66343909],\n",
       "        [0.69314718, 0.69314718, 1.09861229, ..., 5.41164605,\n",
       "         5.41164605, 5.41164605]],\n",
       "\n",
       "       [[0.69314718, 0.69314718, 1.09861229, ..., 5.68357977,\n",
       "         5.68357977, 5.68357977],\n",
       "        [0.69314718, 0.69314718, 0.69314718, ..., 5.65599181,\n",
       "         5.65948222, 5.66296048],\n",
       "        [0.69314718, 0.69314718, 0.69314718, ..., 4.97673374,\n",
       "         4.97673374, 4.97673374],\n",
       "        ...,\n",
       "        [0.69314718, 1.09861229, 1.38629436, ..., 5.45103845,\n",
       "         5.45103845, 5.45103845],\n",
       "        [0.69314718, 1.09861229, 1.38629436, ..., 4.61512052,\n",
       "         4.62497281, 4.62497281],\n",
       "        [0.69314718, 0.69314718, 0.69314718, ..., 5.46806014,\n",
       "         5.46806014, 5.46806014]],\n",
       "\n",
       "       [[0.69314718, 1.09861229, 1.38629436, ..., 5.19295685,\n",
       "         5.19295685, 5.19295685],\n",
       "        [0.69314718, 1.09861229, 1.38629436, ..., 5.70378247,\n",
       "         5.70378247, 5.70378247],\n",
       "        [0.69314718, 1.09861229, 1.38629436, ..., 4.99721227,\n",
       "         4.99721227, 4.99721227],\n",
       "        ...,\n",
       "        [0.69314718, 1.09861229, 1.38629436, ..., 5.32787617,\n",
       "         5.33271879, 5.33753808],\n",
       "        [0.69314718, 0.69314718, 1.09861229, ..., 4.91265489,\n",
       "         4.91998093, 4.91998093],\n",
       "        [0.69314718, 0.69314718, 0.69314718, ..., 5.54907608,\n",
       "         5.54907608, 5.55295958]]])"
      ]
     },
     "execution_count": 7,
     "metadata": {},
     "output_type": "execute_result"
    }
   ],
   "source": [
    "squeezed_utilities =  utilities.reshape(\n",
    "    len(policies), \n",
    "    num_exps * num_repeats_per_exp, \n",
    "    budget + init_size\n",
    ")\n",
    "\n",
    "print(squeezed_utilities.shape)\n",
    "squeezed_utilities"
   ]
  },
  {
   "cell_type": "code",
   "execution_count": 8,
   "id": "463e4c5e-4e80-4de6-99e5-4d14e0891532",
   "metadata": {},
   "outputs": [
    {
     "name": "stdout",
     "output_type": "stream",
     "text": [
      "4.7574455021468784 5.070484427166082\n",
      "0.07825973125480079\n",
      "4.832909120156167 5.106550282561713\n",
      "0.06841029060138659\n",
      "4.878503269258736 5.141059970870221\n",
      "0.06563917540287134\n"
     ]
    },
    {
     "data": {
      "image/png": "[encoded data removed]",
      "text/plain": [
       "<Figure size 432x288 with 1 Axes>"
      ]
     },
     "metadata": {
      "needs_background": "light"
     },
     "output_type": "display_data"
    }
   ],
   "source": [
    "plt.figure()\n",
    "\n",
    "for p_ind, policy in enumerate(policies):\n",
    "    plt.plot(squeezed_utilities[p_ind].mean(axis=0), label=policy)\n",
    "    lower, upper = DescrStatsW(squeezed_utilities[p_ind]).tconfint_mean()\n",
    "    plt.fill_between(np.arange(init_size + budget), lower, upper, alpha=0.3)\n",
    "    \n",
    "    print(lower[-1], upper[-1])\n",
    "    print((upper[-1] - lower[-1]) / 4)\n",
    "    \n",
    "plt.legend();"
   ]
  },
  {
   "cell_type": "code",
   "execution_count": null,
   "id": "6967a22e-14ee-4a64-85d5-4840ef0c3f43",
   "metadata": {},
   "outputs": [],
   "source": []
  }
 ],
 "metadata": {
  "kernelspec": {
   "display_name": "Python 3 (ipykernel)",
   "language": "python",
   "name": "python3"
  },
  "language_info": {
   "codemirror_mode": {
    "name": "ipython",
    "version": 3
   },
   "file_extension": ".py",
   "mimetype": "text/x-python",
   "name": "python",
   "nbconvert_exporter": "python",
   "pygments_lexer": "ipython3",
   "version": "3.7.0"
  }
 },
 "nbformat": 4,
 "nbformat_minor": 5
}
