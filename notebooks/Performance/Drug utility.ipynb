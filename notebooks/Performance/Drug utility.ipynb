{
 "cells": [
  {
   "cell_type": "code",
   "execution_count": 1,
   "id": "89ecdebc-8122-4b8b-97cc-2e171377c83b",
   "metadata": {},
   "outputs": [],
   "source": [
    "import numpy as np\n",
    "\n",
    "import os\n",
    "\n",
    "from statsmodels.stats.api import DescrStatsW\n",
    "from scipy.stats import ttest_rel, sem\n",
    "\n",
    "import matplotlib.pyplot as plt\n",
    "import seaborn as sns"
   ]
  },
  {
   "cell_type": "code",
   "execution_count": 2,
   "id": "bf2fc1f0-fa9b-4528-b60b-0e00b0ca389c",
   "metadata": {},
   "outputs": [],
   "source": [
    "def labels_to_counts(labels, time_axis=0):\n",
    "    onehot = np.zeros((labels.size, n_classes), dtype=int)\n",
    "    onehot[np.arange(labels.size), labels] = 1\n",
    "    \n",
    "    return onehot.cumsum(axis=time_axis)\n",
    "\n",
    "\n",
    "def log_utility(counts):\n",
    "    return np.log(counts[:, 1:] + 1).sum(axis=1)\n",
    "\n",
    "\n",
    "def linear_utility(counts):\n",
    "    return counts[:, 1:].sum(axis=1)\n",
    "\n",
    "\n",
    "data = 'morgan'\n",
    "group_size = 1\n",
    "num_exps = 120\n",
    "num_repeats_per_exp = 5\n",
    "\n",
    "policies = [\n",
    "    'ens jensen greedy',\n",
    "    'classical ens',\n",
    "    'greedy',\n",
    "    # 'round robin greedy',\n",
    "]\n",
    "utility_function = log_utility\n",
    "\n",
    "n_classes = group_size + 1\n",
    "init_size = 1\n",
    "budget = 500\n",
    "\n",
    "basepath = os.path.join('../../data/results', data)\n",
    "\n",
    "\n",
    "utilities = np.ones(\n",
    "    (len(policies), num_exps, num_repeats_per_exp, budget + init_size)\n",
    ") * -1\n",
    "\n",
    "for p_ind, policy in enumerate(policies):\n",
    "    for exp_ind in range(num_exps):\n",
    "        path = os.path.join(basepath, f'{data}{exp_ind + 1}', str(group_size), policy)\n",
    "        for i in range(num_repeats_per_exp):\n",
    "            labels = np.loadtxt(\n",
    "                os.path.join(path, f'{policy}__labels__{i + 1}.csv'), \n",
    "                dtype=int\n",
    "            ).flatten() - 1\n",
    "\n",
    "            utilities[p_ind, exp_ind, i, :] = linear_utility(labels_to_counts(labels))\n",
    "        \n",
    "assert np.all(utilities != -1)"
   ]
  },
  {
   "cell_type": "code",
   "execution_count": 3,
   "id": "e4a81dd6-30c4-4ab5-9e09-5e5857333eca",
   "metadata": {},
   "outputs": [
    {
     "data": {
      "text/plain": [
       "(3, 120, 5, 501)"
      ]
     },
     "execution_count": 3,
     "metadata": {},
     "output_type": "execute_result"
    }
   ],
   "source": [
    "utilities.shape"
   ]
  },
  {
   "cell_type": "code",
   "execution_count": 4,
   "id": "76ab1892-6f2e-488f-89a7-70ff4a9d3a21",
   "metadata": {},
   "outputs": [
    {
     "data": {
      "text/plain": [
       "array([147.16166667, 150.755     , 147.81166667])"
      ]
     },
     "execution_count": 4,
     "metadata": {},
     "output_type": "execute_result"
    }
   ],
   "source": [
    "utilities[..., -1].mean(axis=(1, 2))"
   ]
  },
  {
   "cell_type": "code",
   "execution_count": 5,
   "id": "46585151-cf4d-4444-83d3-5dfaae35084a",
   "metadata": {},
   "outputs": [
    {
     "name": "stdout",
     "output_type": "stream",
     "text": [
      "ens jensen greedy: 147.1617\n",
      "classical ens: 150.7550\n",
      "greedy: 147.8117\n"
     ]
    },
    {
     "data": {
      "image/png": "[encoded data removed]",
      "text/plain": [
       "<Figure size 432x288 with 1 Axes>"
      ]
     },
     "metadata": {
      "needs_background": "light"
     },
     "output_type": "display_data"
    }
   ],
   "source": [
    "for p_ind, policy in enumerate(policies):\n",
    "    print(f'{policy}: {utilities[p_ind, ..., -1].mean():.4f}')\n",
    "    sns.kdeplot(utilities[p_ind, ..., -1].flatten(), alpha=0.4, shade=True, label=policy)\n",
    "    \n",
    "plt.legend(loc='upper left');"
   ]
  },
  {
   "cell_type": "code",
   "execution_count": 6,
   "id": "871cafdd-b75f-41f0-a102-c6c85fea8275",
   "metadata": {
    "scrolled": true,
    "tags": []
   },
   "outputs": [
    {
     "name": "stdout",
     "output_type": "stream",
     "text": [
      "(3, 120, 5, 501)\n"
     ]
    },
    {
     "data": {
      "text/plain": [
       "array([[[[  1.,   1.,   1., ..., 215., 215., 216.],\n",
       "         [  1.,   2.,   2., ..., 224., 224., 224.],\n",
       "         [  1.,   1.,   1., ..., 201., 201., 201.],\n",
       "         [  1.,   2.,   2., ..., 351., 351., 352.],\n",
       "         [  1.,   1.,   1., ..., 224., 224., 224.]],\n",
       "\n",
       "        [[  1.,   1.,   1., ..., 241., 241., 241.],\n",
       "         [  1.,   1.,   2., ..., 268., 268., 268.],\n",
       "         [  1.,   2.,   3., ..., 158., 158., 159.],\n",
       "         [  1.,   1.,   2., ..., 151., 152., 153.],\n",
       "         [  1.,   2.,   2., ..., 278., 278., 278.]],\n",
       "\n",
       "        [[  1.,   1.,   1., ..., 147., 148., 149.],\n",
       "         [  1.,   1.,   2., ..., 150., 150., 150.],\n",
       "         [  1.,   2.,   2., ..., 183., 183., 183.],\n",
       "         [  1.,   1.,   1., ..., 153., 153., 153.],\n",
       "         [  1.,   1.,   1., ..., 119., 120., 121.]],\n",
       "\n",
       "        ...,\n",
       "\n",
       "        [[  1.,   1.,   2., ..., 211., 212., 212.],\n",
       "         [  1.,   1.,   1., ..., 200., 200., 200.],\n",
       "         [  1.,   2.,   3., ..., 221., 221., 221.],\n",
       "         [  1.,   1.,   1., ..., 202., 203., 203.],\n",
       "         [  1.,   2.,   3., ..., 218., 218., 218.]],\n",
       "\n",
       "        [[  1.,   1.,   1., ...,   4.,   4.,   4.],\n",
       "         [  1.,   2.,   2., ...,   4.,   4.,   4.],\n",
       "         [  1.,   1.,   1., ...,   3.,   3.,   3.],\n",
       "         [  1.,   1.,   1., ...,   6.,   6.,   6.],\n",
       "         [  1.,   1.,   1., ...,   4.,   4.,   4.]],\n",
       "\n",
       "        [[  1.,   1.,   2., ..., 258., 258., 258.],\n",
       "         [  1.,   1.,   2., ..., 196., 196., 196.],\n",
       "         [  1.,   1.,   2., ..., 227., 227., 227.],\n",
       "         [  1.,   2.,   3., ..., 209., 209., 210.],\n",
       "         [  1.,   1.,   1., ..., 229., 229., 229.]]],\n",
       "\n",
       "\n",
       "       [[[  1.,   1.,   1., ..., 140., 140., 140.],\n",
       "         [  1.,   2.,   2., ..., 141., 141., 141.],\n",
       "         [  1.,   1.,   1., ..., 199., 199., 199.],\n",
       "         [  1.,   2.,   2., ..., 351., 351., 351.],\n",
       "         [  1.,   1.,   2., ..., 225., 225., 225.]],\n",
       "\n",
       "        [[  1.,   1.,   1., ..., 247., 247., 247.],\n",
       "         [  1.,   1.,   2., ..., 242., 242., 242.],\n",
       "         [  1.,   2.,   2., ..., 162., 163., 163.],\n",
       "         [  1.,   2.,   3., ..., 161., 162., 163.],\n",
       "         [  1.,   2.,   2., ..., 280., 280., 280.]],\n",
       "\n",
       "        [[  1.,   1.,   1., ..., 149., 149., 149.],\n",
       "         [  1.,   1.,   1., ..., 182., 182., 182.],\n",
       "         [  1.,   1.,   2., ..., 127., 127., 127.],\n",
       "         [  1.,   1.,   2., ..., 185., 185., 185.],\n",
       "         [  1.,   1.,   2., ..., 132., 132., 133.]],\n",
       "\n",
       "        ...,\n",
       "\n",
       "        [[  1.,   2.,   3., ..., 223., 223., 223.],\n",
       "         [  1.,   1.,   1., ..., 213., 213., 213.],\n",
       "         [  1.,   2.,   3., ..., 221., 221., 221.],\n",
       "         [  1.,   1.,   1., ..., 204., 204., 204.],\n",
       "         [  1.,   2.,   3., ..., 219., 219., 219.]],\n",
       "\n",
       "        [[  1.,   1.,   1., ...,   4.,   4.,   4.],\n",
       "         [  1.,   1.,   1., ...,   4.,   4.,   4.],\n",
       "         [  1.,   1.,   1., ...,   3.,   3.,   3.],\n",
       "         [  1.,   1.,   1., ...,   6.,   6.,   6.],\n",
       "         [  1.,   1.,   1., ...,   4.,   4.,   4.]],\n",
       "\n",
       "        [[  1.,   1.,   2., ..., 256., 257., 257.],\n",
       "         [  1.,   1.,   1., ..., 239., 240., 241.],\n",
       "         [  1.,   1.,   2., ..., 228., 228., 228.],\n",
       "         [  1.,   2.,   2., ..., 255., 255., 255.],\n",
       "         [  1.,   1.,   1., ..., 242., 242., 242.]]],\n",
       "\n",
       "\n",
       "       [[[  1.,   2.,   3., ..., 197., 198., 199.],\n",
       "         [  1.,   1.,   2., ..., 196., 197., 198.],\n",
       "         [  1.,   2.,   3., ..., 155., 155., 155.],\n",
       "         [  1.,   2.,   3., ..., 269., 270., 271.],\n",
       "         [  1.,   2.,   3., ..., 197., 198., 199.]],\n",
       "\n",
       "        [[  1.,   2.,   3., ..., 292., 292., 292.],\n",
       "         [  1.,   2.,   3., ..., 292., 292., 292.],\n",
       "         [  1.,   2.,   3., ..., 255., 256., 257.],\n",
       "         [  1.,   2.,   3., ..., 255., 256., 257.],\n",
       "         [  1.,   2.,   3., ..., 297., 297., 297.]],\n",
       "\n",
       "        [[  1.,   2.,   3., ..., 151., 151., 151.],\n",
       "         [  1.,   2.,   3., ..., 151., 151., 151.],\n",
       "         [  1.,   2.,   3., ..., 147., 148., 149.],\n",
       "         [  1.,   2.,   3., ..., 139., 139., 139.],\n",
       "         [  1.,   2.,   3., ..., 151., 151., 151.]],\n",
       "\n",
       "        ...,\n",
       "\n",
       "        [[  1.,   2.,   3., ..., 148., 148., 148.],\n",
       "         [  1.,   2.,   3., ..., 174., 175., 176.],\n",
       "         [  1.,   2.,   3., ..., 147., 148., 149.],\n",
       "         [  1.,   2.,   3., ..., 150., 150., 150.],\n",
       "         [  1.,   2.,   3., ..., 148., 148., 148.]],\n",
       "\n",
       "        [[  1.,   2.,   3., ...,   4.,   4.,   4.],\n",
       "         [  1.,   2.,   3., ...,   4.,   4.,   4.],\n",
       "         [  1.,   2.,   3., ...,   3.,   3.,   3.],\n",
       "         [  1.,   2.,   2., ...,   6.,   6.,   6.],\n",
       "         [  1.,   2.,   3., ...,   4.,   4.,   4.]],\n",
       "\n",
       "        [[  1.,   2.,   3., ..., 193., 194., 195.],\n",
       "         [  1.,   2.,   3., ..., 211., 211., 211.],\n",
       "         [  1.,   2.,   3., ..., 243., 243., 243.],\n",
       "         [  1.,   2.,   3., ..., 211., 211., 211.],\n",
       "         [  1.,   2.,   2., ..., 241., 242., 243.]]]])"
      ]
     },
     "execution_count": 6,
     "metadata": {},
     "output_type": "execute_result"
    }
   ],
   "source": [
    "print(utilities.shape)\n",
    "utilities"
   ]
  },
  {
   "cell_type": "code",
   "execution_count": 7,
   "id": "5d61994b-22bc-41c5-973b-9038bf068515",
   "metadata": {
    "scrolled": true,
    "tags": []
   },
   "outputs": [
    {
     "name": "stdout",
     "output_type": "stream",
     "text": [
      "(3, 600, 501)\n"
     ]
    },
    {
     "data": {
      "text/plain": [
       "array([[[  1.,   1.,   1., ..., 215., 215., 216.],\n",
       "        [  1.,   2.,   2., ..., 224., 224., 224.],\n",
       "        [  1.,   1.,   1., ..., 201., 201., 201.],\n",
       "        ...,\n",
       "        [  1.,   1.,   2., ..., 227., 227., 227.],\n",
       "        [  1.,   2.,   3., ..., 209., 209., 210.],\n",
       "        [  1.,   1.,   1., ..., 229., 229., 229.]],\n",
       "\n",
       "       [[  1.,   1.,   1., ..., 140., 140., 140.],\n",
       "        [  1.,   2.,   2., ..., 141., 141., 141.],\n",
       "        [  1.,   1.,   1., ..., 199., 199., 199.],\n",
       "        ...,\n",
       "        [  1.,   1.,   2., ..., 228., 228., 228.],\n",
       "        [  1.,   2.,   2., ..., 255., 255., 255.],\n",
       "        [  1.,   1.,   1., ..., 242., 242., 242.]],\n",
       "\n",
       "       [[  1.,   2.,   3., ..., 197., 198., 199.],\n",
       "        [  1.,   1.,   2., ..., 196., 197., 198.],\n",
       "        [  1.,   2.,   3., ..., 155., 155., 155.],\n",
       "        ...,\n",
       "        [  1.,   2.,   3., ..., 243., 243., 243.],\n",
       "        [  1.,   2.,   3., ..., 211., 211., 211.],\n",
       "        [  1.,   2.,   2., ..., 241., 242., 243.]]])"
      ]
     },
     "execution_count": 7,
     "metadata": {},
     "output_type": "execute_result"
    }
   ],
   "source": [
    "squeezed_utilities =  utilities.reshape(\n",
    "    len(policies), \n",
    "    num_exps * num_repeats_per_exp, \n",
    "    budget + init_size\n",
    ")\n",
    "\n",
    "print(squeezed_utilities.shape)\n",
    "squeezed_utilities"
   ]
  },
  {
   "cell_type": "code",
   "execution_count": 8,
   "id": "eea9144d-777d-4dfb-a3d2-c91981f4c9ea",
   "metadata": {},
   "outputs": [
    {
     "name": "stdout",
     "output_type": "stream",
     "text": [
      "ens jensen greedy vs. classical ens\n",
      "0.0007616623958902183\n",
      "ens jensen greedy vs. greedy\n",
      "0.6063122788249887\n",
      "classical ens vs. greedy\n",
      "0.031993731636123963\n"
     ]
    }
   ],
   "source": [
    "for p1 in range(len(policies) - 1):\n",
    "    for p2 in range(p1 + 1, len(policies)):\n",
    "        print(policies[p1], \"vs.\", policies[p2])\n",
    "        print(\n",
    "            ttest_rel(\n",
    "                squeezed_utilities[p1, :, -1], \n",
    "                squeezed_utilities[p2, :, -1]\n",
    "            ).pvalue\n",
    "        )"
   ]
  },
  {
   "cell_type": "code",
   "execution_count": 9,
   "id": "463e4c5e-4e80-4de6-99e5-4d14e0891532",
   "metadata": {},
   "outputs": [
    {
     "name": "stdout",
     "output_type": "stream",
     "text": [
      "136.9661606443947 157.35717268893862\n",
      "5.097753011135978\n",
      "140.62006105032992 160.88993894967007\n",
      "5.067469474835036\n",
      "137.8811073218008 157.74222601153252\n",
      "4.965279672432928\n"
     ]
    },
    {
     "data": {
      "image/png": "[encoded data removed]",
      "text/plain": [
       "<Figure size 432x288 with 1 Axes>"
      ]
     },
     "metadata": {
      "needs_background": "light"
     },
     "output_type": "display_data"
    }
   ],
   "source": [
    "plt.figure()\n",
    "\n",
    "for p_ind, policy in enumerate(policies):\n",
    "    plt.plot(squeezed_utilities[p_ind].mean(axis=0), label=policy)\n",
    "    lower, upper = DescrStatsW(squeezed_utilities[p_ind]).tconfint_mean()\n",
    "    plt.fill_between(np.arange(init_size + budget), lower, upper, alpha=0.3)\n",
    "    \n",
    "    print(lower[-1], upper[-1])\n",
    "    print((upper[-1] - lower[-1]) / 4)\n",
    "    \n",
    "plt.legend();"
   ]
  },
  {
   "cell_type": "code",
   "execution_count": null,
   "id": "f97301c1-4a5e-4eca-a68d-9ec40dcf22cc",
   "metadata": {},
   "outputs": [],
   "source": []
  }
 ],
 "metadata": {
  "kernelspec": {
   "display_name": "Python 3 (ipykernel)",
   "language": "python",
   "name": "python3"
  },
  "language_info": {
   "codemirror_mode": {
    "name": "ipython",
    "version": 3
   },
   "file_extension": ".py",
   "mimetype": "text/x-python",
   "name": "python",
   "nbconvert_exporter": "python",
   "pygments_lexer": "ipython3",
   "version": "3.7.0"
  }
 },
 "nbformat": 4,
 "nbformat_minor": 5
}
