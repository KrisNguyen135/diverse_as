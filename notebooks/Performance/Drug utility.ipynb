{
 "cells": [
  {
   "cell_type": "code",
   "execution_count": 1,
   "id": "89ecdebc-8122-4b8b-97cc-2e171377c83b",
   "metadata": {},
   "outputs": [],
   "source": [
    "import numpy as np\n",
    "\n",
    "import os\n",
    "\n",
    "from statsmodels.stats.api import DescrStatsW\n",
    "from scipy.stats import ttest_rel, sem\n",
    "\n",
    "import matplotlib.pyplot as plt\n",
    "import seaborn as sns"
   ]
  },
  {
   "cell_type": "code",
   "execution_count": 2,
   "id": "bf2fc1f0-fa9b-4528-b60b-0e00b0ca389c",
   "metadata": {},
   "outputs": [],
   "source": [
    "def labels_to_counts(labels, time_axis=0):\n",
    "    onehot = np.zeros((labels.size, n_classes), dtype=int)\n",
    "    onehot[np.arange(labels.size), labels] = 1\n",
    "    \n",
    "    return onehot.cumsum(axis=time_axis)\n",
    "\n",
    "\n",
    "def log_utility(counts):\n",
    "    return np.log(counts[:, 1:] + 1).sum(axis=1)\n",
    "\n",
    "\n",
    "data = 'morgan'\n",
    "group_size = 1\n",
    "num_exps = 120\n",
    "num_repeats_per_exp = 1\n",
    "\n",
    "policies = [\n",
    "    'ens jensen greedy',\n",
    "    'classical ens',\n",
    "    'greedy',\n",
    "    # 'round robin greedy',\n",
    "]\n",
    "utility_function = log_utility\n",
    "\n",
    "n_classes = group_size + 1\n",
    "init_size = 1\n",
    "budget = 500\n",
    "\n",
    "basepath = os.path.join('../../data/results', data)\n",
    "\n",
    "\n",
    "utilities = np.ones(\n",
    "    (len(policies), num_exps, num_repeats_per_exp, budget + init_size)\n",
    ") * -1\n",
    "\n",
    "for p_ind, policy in enumerate(policies):\n",
    "    for exp_ind in range(num_exps):\n",
    "        path = os.path.join(basepath, f'{data}{exp_ind + 1}', str(group_size), policy)\n",
    "        for i in range(num_repeats_per_exp):\n",
    "            labels = np.loadtxt(\n",
    "                os.path.join(path, f'{policy}__labels__{i + 1}.csv'), \n",
    "                dtype=int\n",
    "            ).flatten() - 1\n",
    "\n",
    "            utilities[p_ind, exp_ind, i, :] = log_utility(labels_to_counts(labels))\n",
    "        \n",
    "assert np.all(utilities != -1)"
   ]
  },
  {
   "cell_type": "code",
   "execution_count": 3,
   "id": "e4a81dd6-30c4-4ab5-9e09-5e5857333eca",
   "metadata": {},
   "outputs": [
    {
     "data": {
      "text/plain": [
       "(3, 120, 1, 501)"
      ]
     },
     "execution_count": 3,
     "metadata": {},
     "output_type": "execute_result"
    }
   ],
   "source": [
    "utilities.shape"
   ]
  },
  {
   "cell_type": "code",
   "execution_count": 4,
   "id": "76ab1892-6f2e-488f-89a7-70ff4a9d3a21",
   "metadata": {},
   "outputs": [
    {
     "data": {
      "text/plain": [
       "array([4.41380782, 4.44326294, 4.45865124])"
      ]
     },
     "execution_count": 4,
     "metadata": {},
     "output_type": "execute_result"
    }
   ],
   "source": [
    "utilities[..., -1].mean(axis=(1, 2))"
   ]
  },
  {
   "cell_type": "code",
   "execution_count": 5,
   "id": "46585151-cf4d-4444-83d3-5dfaae35084a",
   "metadata": {},
   "outputs": [
    {
     "name": "stdout",
     "output_type": "stream",
     "text": [
      "ens jensen greedy: 4.4138\n",
      "classical ens: 4.4433\n",
      "greedy: 4.4587\n"
     ]
    },
    {
     "data": {
      "image/png": "[encoded data removed]",
      "text/plain": [
       "<Figure size 432x288 with 1 Axes>"
      ]
     },
     "metadata": {
      "needs_background": "light"
     },
     "output_type": "display_data"
    }
   ],
   "source": [
    "for p_ind, policy in enumerate(policies):\n",
    "    print(f'{policy}: {utilities[p_ind, ..., -1].mean():.4f}')\n",
    "    sns.kdeplot(utilities[p_ind, ..., -1].flatten(), alpha=0.4, shade=True, label=policy)\n",
    "    \n",
    "plt.legend(loc='upper left');"
   ]
  },
  {
   "cell_type": "code",
   "execution_count": 6,
   "id": "871cafdd-b75f-41f0-a102-c6c85fea8275",
   "metadata": {
    "scrolled": true,
    "tags": []
   },
   "outputs": [
    {
     "name": "stdout",
     "output_type": "stream",
     "text": [
      "(3, 120, 1, 501)\n"
     ]
    },
    {
     "data": {
      "text/plain": [
       "array([[[[0.69314718, 0.69314718, 0.69314718, ..., 5.37527841,\n",
       "          5.37527841, 5.37989735]],\n",
       "\n",
       "        [[0.69314718, 0.69314718, 0.69314718, ..., 5.48893773,\n",
       "          5.48893773, 5.48893773]],\n",
       "\n",
       "        [[0.69314718, 0.69314718, 0.69314718, ..., 4.99721227,\n",
       "          5.00394631, 5.01063529]],\n",
       "\n",
       "        ...,\n",
       "\n",
       "        [[0.69314718, 0.69314718, 1.09861229, ..., 5.35658627,\n",
       "          5.36129217, 5.36129217]],\n",
       "\n",
       "        [[0.69314718, 0.69314718, 0.69314718, ..., 1.60943791,\n",
       "          1.60943791, 1.60943791]],\n",
       "\n",
       "        [[0.69314718, 0.69314718, 1.09861229, ..., 5.55682806,\n",
       "          5.55682806, 5.55682806]]],\n",
       "\n",
       "\n",
       "       [[[0.69314718, 0.69314718, 0.69314718, ..., 4.94875989,\n",
       "          4.94875989, 4.94875989]],\n",
       "\n",
       "        [[0.69314718, 0.69314718, 0.69314718, ..., 5.51342875,\n",
       "          5.51342875, 5.51342875]],\n",
       "\n",
       "        [[0.69314718, 0.69314718, 0.69314718, ..., 5.01063529,\n",
       "          5.01063529, 5.01063529]],\n",
       "\n",
       "        ...,\n",
       "\n",
       "        [[0.69314718, 1.09861229, 1.38629436, ..., 5.41164605,\n",
       "          5.41164605, 5.41164605]],\n",
       "\n",
       "        [[0.69314718, 0.69314718, 0.69314718, ..., 1.60943791,\n",
       "          1.60943791, 1.60943791]],\n",
       "\n",
       "        [[0.69314718, 0.69314718, 1.09861229, ..., 5.54907608,\n",
       "          5.55295958, 5.55295958]]],\n",
       "\n",
       "\n",
       "       [[[0.69314718, 1.09861229, 1.38629436, ..., 5.28826703,\n",
       "          5.29330482, 5.29831737]],\n",
       "\n",
       "        [[0.69314718, 1.09861229, 1.38629436, ..., 5.68017261,\n",
       "          5.68017261, 5.68017261]],\n",
       "\n",
       "        [[0.69314718, 1.09861229, 1.38629436, ..., 5.02388052,\n",
       "          5.02388052, 5.02388052]],\n",
       "\n",
       "        ...,\n",
       "\n",
       "        [[0.69314718, 1.09861229, 1.38629436, ..., 5.00394631,\n",
       "          5.00394631, 5.00394631]],\n",
       "\n",
       "        [[0.69314718, 1.09861229, 1.38629436, ..., 1.60943791,\n",
       "          1.60943791, 1.60943791]],\n",
       "\n",
       "        [[0.69314718, 1.09861229, 1.38629436, ..., 5.26785816,\n",
       "          5.27299956, 5.27811466]]]])"
      ]
     },
     "execution_count": 6,
     "metadata": {},
     "output_type": "execute_result"
    }
   ],
   "source": [
    "print(utilities.shape)\n",
    "utilities"
   ]
  },
  {
   "cell_type": "code",
   "execution_count": 7,
   "id": "5d61994b-22bc-41c5-973b-9038bf068515",
   "metadata": {
    "scrolled": true,
    "tags": []
   },
   "outputs": [
    {
     "name": "stdout",
     "output_type": "stream",
     "text": [
      "(3, 120, 501)\n"
     ]
    },
    {
     "data": {
      "text/plain": [
       "array([[[0.69314718, 0.69314718, 0.69314718, ..., 5.37527841,\n",
       "         5.37527841, 5.37989735],\n",
       "        [0.69314718, 0.69314718, 0.69314718, ..., 5.48893773,\n",
       "         5.48893773, 5.48893773],\n",
       "        [0.69314718, 0.69314718, 0.69314718, ..., 4.99721227,\n",
       "         5.00394631, 5.01063529],\n",
       "        ...,\n",
       "        [0.69314718, 0.69314718, 1.09861229, ..., 5.35658627,\n",
       "         5.36129217, 5.36129217],\n",
       "        [0.69314718, 0.69314718, 0.69314718, ..., 1.60943791,\n",
       "         1.60943791, 1.60943791],\n",
       "        [0.69314718, 0.69314718, 1.09861229, ..., 5.55682806,\n",
       "         5.55682806, 5.55682806]],\n",
       "\n",
       "       [[0.69314718, 0.69314718, 0.69314718, ..., 4.94875989,\n",
       "         4.94875989, 4.94875989],\n",
       "        [0.69314718, 0.69314718, 0.69314718, ..., 5.51342875,\n",
       "         5.51342875, 5.51342875],\n",
       "        [0.69314718, 0.69314718, 0.69314718, ..., 5.01063529,\n",
       "         5.01063529, 5.01063529],\n",
       "        ...,\n",
       "        [0.69314718, 1.09861229, 1.38629436, ..., 5.41164605,\n",
       "         5.41164605, 5.41164605],\n",
       "        [0.69314718, 0.69314718, 0.69314718, ..., 1.60943791,\n",
       "         1.60943791, 1.60943791],\n",
       "        [0.69314718, 0.69314718, 1.09861229, ..., 5.54907608,\n",
       "         5.55295958, 5.55295958]],\n",
       "\n",
       "       [[0.69314718, 1.09861229, 1.38629436, ..., 5.28826703,\n",
       "         5.29330482, 5.29831737],\n",
       "        [0.69314718, 1.09861229, 1.38629436, ..., 5.68017261,\n",
       "         5.68017261, 5.68017261],\n",
       "        [0.69314718, 1.09861229, 1.38629436, ..., 5.02388052,\n",
       "         5.02388052, 5.02388052],\n",
       "        ...,\n",
       "        [0.69314718, 1.09861229, 1.38629436, ..., 5.00394631,\n",
       "         5.00394631, 5.00394631],\n",
       "        [0.69314718, 1.09861229, 1.38629436, ..., 1.60943791,\n",
       "         1.60943791, 1.60943791],\n",
       "        [0.69314718, 1.09861229, 1.38629436, ..., 5.26785816,\n",
       "         5.27299956, 5.27811466]]])"
      ]
     },
     "execution_count": 7,
     "metadata": {},
     "output_type": "execute_result"
    }
   ],
   "source": [
    "squeezed_utilities =  utilities.reshape(\n",
    "    len(policies), \n",
    "    num_exps * num_repeats_per_exp, \n",
    "    budget + init_size\n",
    ")\n",
    "\n",
    "print(squeezed_utilities.shape)\n",
    "squeezed_utilities"
   ]
  },
  {
   "cell_type": "code",
   "execution_count": 8,
   "id": "463e4c5e-4e80-4de6-99e5-4d14e0891532",
   "metadata": {},
   "outputs": [
    {
     "name": "stdout",
     "output_type": "stream",
     "text": [
      "4.1605412725752355 4.667074372338304\n",
      "0.12663327494076704\n",
      "4.192162262249487 4.694363617991272\n",
      "0.12555033893544643\n",
      "4.220084086409184 4.697218402492592\n",
      "0.11928357902085196\n"
     ]
    },
    {
     "data": {
      "image/png": "[encoded data removed]",
      "text/plain": [
       "<Figure size 432x288 with 1 Axes>"
      ]
     },
     "metadata": {
      "needs_background": "light"
     },
     "output_type": "display_data"
    }
   ],
   "source": [
    "plt.figure()\n",
    "\n",
    "for p_ind, policy in enumerate(policies):\n",
    "    plt.plot(squeezed_utilities[p_ind].mean(axis=0), label=policy)\n",
    "    lower, upper = DescrStatsW(squeezed_utilities[p_ind]).tconfint_mean()\n",
    "    plt.fill_between(np.arange(init_size + budget), lower, upper, alpha=0.3)\n",
    "    \n",
    "    print(lower[-1], upper[-1])\n",
    "    print((upper[-1] - lower[-1]) / 4)\n",
    "    \n",
    "plt.legend();"
   ]
  },
  {
   "cell_type": "code",
   "execution_count": null,
   "id": "6967a22e-14ee-4a64-85d5-4840ef0c3f43",
   "metadata": {},
   "outputs": [],
   "source": []
  }
 ],
 "metadata": {
  "kernelspec": {
   "display_name": "Python 3 (ipykernel)",
   "language": "python",
   "name": "python3"
  },
  "language_info": {
   "codemirror_mode": {
    "name": "ipython",
    "version": 3
   },
   "file_extension": ".py",
   "mimetype": "text/x-python",
   "name": "python",
   "nbconvert_exporter": "python",
   "pygments_lexer": "ipython3",
   "version": "3.7.0"
  }
 },
 "nbformat": 4,
 "nbformat_minor": 5
}
