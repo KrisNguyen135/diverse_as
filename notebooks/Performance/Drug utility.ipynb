{
 "cells": [
  {
   "cell_type": "code",
   "execution_count": 1,
   "id": "89ecdebc-8122-4b8b-97cc-2e171377c83b",
   "metadata": {},
   "outputs": [],
   "source": [
    "import numpy as np\n",
    "\n",
    "import os\n",
    "\n",
    "from statsmodels.stats.api import DescrStatsW\n",
    "from scipy.stats import ttest_rel, sem\n",
    "\n",
    "import matplotlib.pyplot as plt\n",
    "import seaborn as sns\n",
    "import tikzplotlib"
   ]
  },
  {
   "cell_type": "code",
   "execution_count": 2,
   "id": "bf2fc1f0-fa9b-4528-b60b-0e00b0ca389c",
   "metadata": {},
   "outputs": [],
   "source": [
    "def labels_to_counts(labels, time_axis=0):\n",
    "    onehot = np.zeros((labels.size, n_classes), dtype=int)\n",
    "    onehot[np.arange(labels.size), labels] = 1\n",
    "    \n",
    "    return onehot.cumsum(axis=time_axis)\n",
    "\n",
    "\n",
    "def log_utility(counts):\n",
    "    return np.log(counts[:, 1:] + 1).sum(axis=1)\n",
    "\n",
    "\n",
    "def linear_utility(counts):\n",
    "    return counts[:, 1:].sum(axis=1)\n",
    "\n",
    "\n",
    "data = 'morgan'\n",
    "\n",
    "# group_size = 1\n",
    "# num_exps = 120\n",
    "# num_repeats_per_exp = 5\n",
    "\n",
    "group_size = 9\n",
    "num_exps = 20\n",
    "num_repeats_per_exp = 1\n",
    "\n",
    "policies = [\n",
    "    'ens jensen greedy_500',\n",
    "    # 'classical ens_500',\n",
    "    'greedy',\n",
    "    # 'round robin greedy',\n",
    "    # 'round robin ens_500',\n",
    "    'round robin ucb_3.0',\n",
    "]\n",
    "names = [\n",
    "    'D-ENS',\n",
    "    # 'ENS',\n",
    "    'One-step',\n",
    "    # 'RR-greedy',\n",
    "    # 'RR-ENS',\n",
    "    'RR-UCB',\n",
    "]\n",
    "\n",
    "# policies = [\n",
    "#     'round robin ucb_0.1',\n",
    "#     'round robin ucb_0.3',\n",
    "#     'round robin ucb_1.0',\n",
    "#     'round robin ucb_3.0',\n",
    "#     'round robin ucb_10.0',\n",
    "# ]\n",
    "# names = policies\n",
    "\n",
    "assert len(policies) == len(names)\n",
    "if group_size == 1 and 'round robin greedy' in policies:\n",
    "    policies.remove('round robin greedy')\n",
    "    \n",
    "utility_function = log_utility\n",
    "\n",
    "n_classes = group_size + 1\n",
    "init_size = 1\n",
    "budget = 500\n",
    "\n",
    "basepath = os.path.join('../../data/results', data)\n",
    "# basepath = os.path.join('../../data/results/results_ucb_main', data)\n",
    "\n",
    "\n",
    "utilities = np.ones(\n",
    "    (len(policies), num_exps, num_repeats_per_exp, budget + init_size)\n",
    ") * -1\n",
    "\n",
    "for p_ind, policy in enumerate(policies):\n",
    "    for exp_ind in range(num_exps):\n",
    "        path = os.path.join(basepath, f'{data}{exp_ind + 1}', str(group_size), policy)\n",
    "        for i in range(num_repeats_per_exp):\n",
    "            try:\n",
    "                labels = np.loadtxt(\n",
    "                    os.path.join(path, f'{policy}__labels__{i + 1}.csv'), \n",
    "                    dtype=int\n",
    "                ).flatten() - 1\n",
    "\n",
    "                utilities[p_ind, exp_ind, i, :] = utility_function(labels_to_counts(labels))\n",
    "            except OSError:\n",
    "                print(policy, exp_ind + 1, i + 1)\n",
    "        \n",
    "assert np.all(utilities != -1)"
   ]
  },
  {
   "cell_type": "code",
   "execution_count": 3,
   "id": "e4a81dd6-30c4-4ab5-9e09-5e5857333eca",
   "metadata": {},
   "outputs": [
    {
     "data": {
      "text/plain": [
       "(3, 20, 1, 501)"
      ]
     },
     "execution_count": 3,
     "metadata": {},
     "output_type": "execute_result"
    }
   ],
   "source": [
    "utilities.shape"
   ]
  },
  {
   "cell_type": "code",
   "execution_count": 4,
   "id": "76ab1892-6f2e-488f-89a7-70ff4a9d3a21",
   "metadata": {},
   "outputs": [
    {
     "data": {
      "text/plain": [
       "array([23.39277863, 19.06374308, 19.27191296])"
      ]
     },
     "execution_count": 4,
     "metadata": {},
     "output_type": "execute_result"
    }
   ],
   "source": [
    "utilities[..., -1].mean(axis=(1, 2))"
   ]
  },
  {
   "cell_type": "code",
   "execution_count": 5,
   "id": "46585151-cf4d-4444-83d3-5dfaae35084a",
   "metadata": {},
   "outputs": [
    {
     "name": "stdout",
     "output_type": "stream",
     "text": [
      "ens jensen greedy_500: 23.39\n",
      "greedy: 19.06\n",
      "round robin ucb_3.0: 19.27\n"
     ]
    },
    {
     "data": {
      "image/png": "[encoded data removed]",
      "text/plain": [
       "<Figure size 432x288 with 1 Axes>"
      ]
     },
     "metadata": {
      "needs_background": "light"
     },
     "output_type": "display_data"
    }
   ],
   "source": [
    "for p_ind, policy in enumerate(policies):\n",
    "    print(f'{policy}: {utilities[p_ind, ..., -1].mean():.2f}')\n",
    "    sns.kdeplot(utilities[p_ind, ..., -1].flatten(), alpha=0.4, shade=True, label=names[p_ind])\n",
    "    \n",
    "plt.legend(loc='upper left');"
   ]
  },
  {
   "cell_type": "code",
   "execution_count": 6,
   "id": "871cafdd-b75f-41f0-a102-c6c85fea8275",
   "metadata": {
    "scrolled": true,
    "tags": []
   },
   "outputs": [
    {
     "name": "stdout",
     "output_type": "stream",
     "text": [
      "(3, 20, 1, 501)\n"
     ]
    },
    {
     "data": {
      "text/plain": [
       "array([[[[ 0.69314718,  0.69314718,  0.69314718, ..., 23.59131932,\n",
       "          23.66031219, 23.72485071]],\n",
       "\n",
       "        [[ 0.69314718,  1.09861229,  1.09861229, ..., 21.27276729,\n",
       "          21.28876763, 21.30451599]],\n",
       "\n",
       "        [[ 0.69314718,  0.69314718,  1.09861229, ..., 18.82406369,\n",
       "          18.84604259, 18.8680215 ]],\n",
       "\n",
       "        ...,\n",
       "\n",
       "        [[ 0.69314718,  0.69314718,  1.09861229, ..., 21.1276426 ,\n",
       "          21.1276426 , 21.1276426 ]],\n",
       "\n",
       "        [[ 0.69314718,  0.69314718,  0.69314718, ..., 20.58764733,\n",
       "          20.58764733, 20.58764733]],\n",
       "\n",
       "        [[ 0.69314718,  0.69314718,  0.69314718, ..., 26.40595394,\n",
       "          26.43874376, 26.43874376]]],\n",
       "\n",
       "\n",
       "       [[[ 0.69314718,  0.69314718,  1.09861229, ..., 18.41486547,\n",
       "          18.5326485 , 18.5326485 ]],\n",
       "\n",
       "        [[ 0.69314718,  1.09861229,  1.38629436, ..., 20.0639183 ,\n",
       "          20.0639183 , 20.07830704]],\n",
       "\n",
       "        [[ 0.69314718,  1.09861229,  1.38629436, ..., 15.1543988 ,\n",
       "          15.1543988 , 15.1689976 ]],\n",
       "\n",
       "        ...,\n",
       "\n",
       "        [[ 0.69314718,  1.09861229,  1.38629436, ..., 12.26198028,\n",
       "          12.26198028, 12.26198028]],\n",
       "\n",
       "        [[ 0.69314718,  1.09861229,  1.38629436, ..., 19.71325853,\n",
       "          19.71325853, 19.72633062]],\n",
       "\n",
       "        [[ 0.69314718,  1.09861229,  1.38629436, ..., 18.30126998,\n",
       "          18.30126998, 18.31525623]]],\n",
       "\n",
       "\n",
       "       [[[ 0.69314718,  0.69314718,  0.69314718, ..., 15.46328822,\n",
       "          15.46328822, 15.75097029]],\n",
       "\n",
       "        [[ 0.69314718,  0.69314718,  0.69314718, ..., 20.23370843,\n",
       "          20.23370843, 20.23370843]],\n",
       "\n",
       "        [[ 0.69314718,  0.69314718,  1.09861229, ..., 19.28992642,\n",
       "          19.28992642, 19.28992642]],\n",
       "\n",
       "        ...,\n",
       "\n",
       "        [[ 0.69314718,  0.69314718,  0.69314718, ..., 14.25958081,\n",
       "          14.48272436, 14.48272436]],\n",
       "\n",
       "        [[ 0.69314718,  0.69314718,  0.69314718, ..., 16.87105018,\n",
       "          16.87105018, 16.9316748 ]],\n",
       "\n",
       "        [[ 0.69314718,  0.69314718,  0.69314718, ..., 26.3473669 ,\n",
       "          26.37553778, 26.40452531]]]])"
      ]
     },
     "execution_count": 6,
     "metadata": {},
     "output_type": "execute_result"
    }
   ],
   "source": [
    "print(utilities.shape)\n",
    "utilities"
   ]
  },
  {
   "cell_type": "code",
   "execution_count": 7,
   "id": "5d61994b-22bc-41c5-973b-9038bf068515",
   "metadata": {
    "scrolled": true,
    "tags": []
   },
   "outputs": [
    {
     "name": "stdout",
     "output_type": "stream",
     "text": [
      "(3, 20, 501)\n"
     ]
    },
    {
     "data": {
      "text/plain": [
       "array([[[ 0.69314718,  0.69314718,  0.69314718, ..., 23.59131932,\n",
       "         23.66031219, 23.72485071],\n",
       "        [ 0.69314718,  1.09861229,  1.09861229, ..., 21.27276729,\n",
       "         21.28876763, 21.30451599],\n",
       "        [ 0.69314718,  0.69314718,  1.09861229, ..., 18.82406369,\n",
       "         18.84604259, 18.8680215 ],\n",
       "        ...,\n",
       "        [ 0.69314718,  0.69314718,  1.09861229, ..., 21.1276426 ,\n",
       "         21.1276426 , 21.1276426 ],\n",
       "        [ 0.69314718,  0.69314718,  0.69314718, ..., 20.58764733,\n",
       "         20.58764733, 20.58764733],\n",
       "        [ 0.69314718,  0.69314718,  0.69314718, ..., 26.40595394,\n",
       "         26.43874376, 26.43874376]],\n",
       "\n",
       "       [[ 0.69314718,  0.69314718,  1.09861229, ..., 18.41486547,\n",
       "         18.5326485 , 18.5326485 ],\n",
       "        [ 0.69314718,  1.09861229,  1.38629436, ..., 20.0639183 ,\n",
       "         20.0639183 , 20.07830704],\n",
       "        [ 0.69314718,  1.09861229,  1.38629436, ..., 15.1543988 ,\n",
       "         15.1543988 , 15.1689976 ],\n",
       "        ...,\n",
       "        [ 0.69314718,  1.09861229,  1.38629436, ..., 12.26198028,\n",
       "         12.26198028, 12.26198028],\n",
       "        [ 0.69314718,  1.09861229,  1.38629436, ..., 19.71325853,\n",
       "         19.71325853, 19.72633062],\n",
       "        [ 0.69314718,  1.09861229,  1.38629436, ..., 18.30126998,\n",
       "         18.30126998, 18.31525623]],\n",
       "\n",
       "       [[ 0.69314718,  0.69314718,  0.69314718, ..., 15.46328822,\n",
       "         15.46328822, 15.75097029],\n",
       "        [ 0.69314718,  0.69314718,  0.69314718, ..., 20.23370843,\n",
       "         20.23370843, 20.23370843],\n",
       "        [ 0.69314718,  0.69314718,  1.09861229, ..., 19.28992642,\n",
       "         19.28992642, 19.28992642],\n",
       "        ...,\n",
       "        [ 0.69314718,  0.69314718,  0.69314718, ..., 14.25958081,\n",
       "         14.48272436, 14.48272436],\n",
       "        [ 0.69314718,  0.69314718,  0.69314718, ..., 16.87105018,\n",
       "         16.87105018, 16.9316748 ],\n",
       "        [ 0.69314718,  0.69314718,  0.69314718, ..., 26.3473669 ,\n",
       "         26.37553778, 26.40452531]]])"
      ]
     },
     "execution_count": 7,
     "metadata": {},
     "output_type": "execute_result"
    }
   ],
   "source": [
    "squeezed_utilities =  utilities.reshape(\n",
    "    len(policies), \n",
    "    num_exps * num_repeats_per_exp, \n",
    "    budget + init_size\n",
    ")\n",
    "\n",
    "print(squeezed_utilities.shape)\n",
    "squeezed_utilities"
   ]
  },
  {
   "cell_type": "code",
   "execution_count": 8,
   "id": "eea9144d-777d-4dfb-a3d2-c91981f4c9ea",
   "metadata": {},
   "outputs": [
    {
     "name": "stdout",
     "output_type": "stream",
     "text": [
      "ens jensen greedy_500 vs. greedy\n",
      "0.0012456630498968765\n",
      "ens jensen greedy_500 vs. round robin ucb_3.0\n",
      "0.00033698240543000797\n",
      "\n",
      "greedy vs. round robin ucb_3.0\n",
      "0.8713803771985904\n",
      "\n"
     ]
    }
   ],
   "source": [
    "for p1 in range(len(policies) - 1):\n",
    "    for p2 in range(p1 + 1, len(policies)):\n",
    "        if squeezed_utilities[p1, :, -1].mean() < squeezed_utilities[p2, :, -1].mean():\n",
    "            alternative = \"less\"\n",
    "        else:\n",
    "            alternative = \"greater\"\n",
    "        \n",
    "        print(policies[p1], \"vs.\", policies[p2])\n",
    "        print(\n",
    "            ttest_rel(\n",
    "                squeezed_utilities[p1, :, -1], \n",
    "                squeezed_utilities[p2, :, -1],\n",
    "                # alternative=alternative\n",
    "            ).pvalue\n",
    "        )\n",
    "    print()"
   ]
  },
  {
   "cell_type": "code",
   "execution_count": 11,
   "id": "f97301c1-4a5e-4eca-a68d-9ec40dcf22cc",
   "metadata": {},
   "outputs": [
    {
     "name": "stdout",
     "output_type": "stream",
     "text": [
      "21.728115956136065 25.057441307148338\n",
      "0.83\n",
      "17.11255294361891 21.014933224800806\n",
      "0.98\n",
      "17.020873293252038 21.522952629061848\n",
      "1.13\n"
     ]
    },
    {
     "data": {
      "image/png": "[encoded data removed]",
      "text/plain": [
       "<Figure size 432x288 with 1 Axes>"
      ]
     },
     "metadata": {
      "needs_background": "light"
     },
     "output_type": "display_data"
    }
   ],
   "source": [
    "plt.figure()\n",
    "\n",
    "for p_ind, policy in enumerate(policies):\n",
    "    plt.plot(squeezed_utilities[p_ind].mean(axis=0), label=names[p_ind])\n",
    "    lower, upper = DescrStatsW(squeezed_utilities[p_ind]).tconfint_mean()\n",
    "    plt.fill_between(np.arange(init_size + budget), lower, upper, alpha=0.3)\n",
    "    \n",
    "    print(lower[-1], upper[-1])\n",
    "    print(f'{(upper[-1] - lower[-1]) / 4:.2f}')\n",
    "    \n",
    "plt.xlabel(\"# queries\")\n",
    "plt.ylabel(\"utility\")\n",
    "plt.legend()\n",
    "\n",
    "tikzplotlib.save(\"reward.tex\")"
   ]
  },
  {
   "cell_type": "code",
   "execution_count": null,
   "id": "a2e991ba-749a-4899-9be3-499f0d5a1193",
   "metadata": {},
   "outputs": [],
   "source": []
  }
 ],
 "metadata": {
  "kernelspec": {
   "display_name": "Python 3 (ipykernel)",
   "language": "python",
   "name": "python3"
  },
  "language_info": {
   "codemirror_mode": {
    "name": "ipython",
    "version": 3
   },
   "file_extension": ".py",
   "mimetype": "text/x-python",
   "name": "python",
   "nbconvert_exporter": "python",
   "pygments_lexer": "ipython3",
   "version": "3.7.0"
  }
 },
 "nbformat": 4,
 "nbformat_minor": 5
}
