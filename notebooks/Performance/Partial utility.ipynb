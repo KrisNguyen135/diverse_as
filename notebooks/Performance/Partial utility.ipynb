{
 "cells": [
  {
   "cell_type": "code",
   "execution_count": 1,
   "id": "c3d68460-0bc3-4441-8165-35d81e9a4cc5",
   "metadata": {},
   "outputs": [],
   "source": [
    "import numpy as np\n",
    "\n",
    "import os\n",
    "\n",
    "from statsmodels.stats.api import DescrStatsW\n",
    "from scipy.stats import ttest_rel, sem\n",
    "\n",
    "import matplotlib.pyplot as plt\n",
    "import seaborn as sns"
   ]
  },
  {
   "cell_type": "code",
   "execution_count": 9,
   "id": "8abc79cd-3d3e-4678-a917-3b2cecc82adb",
   "metadata": {},
   "outputs": [
    {
     "name": "stdout",
     "output_type": "stream",
     "text": [
      "[3, 6, 8, 11, 13, 16, 18, 19]\n"
     ]
    }
   ],
   "source": [
    "def labels_to_counts(labels, time_axis=0):\n",
    "    onehot = np.zeros((labels.size, n_classes), dtype=int)\n",
    "    onehot[np.arange(labels.size), labels] = 1\n",
    "    \n",
    "    return onehot.cumsum(axis=time_axis)\n",
    "\n",
    "\n",
    "def log_utility(counts):\n",
    "    return np.log(counts[:, 1:] + 1).sum(axis=1)\n",
    "\n",
    "\n",
    "def linear_utility(counts):\n",
    "    return counts[:, 1:].sum(axis=1)\n",
    "\n",
    "\n",
    "# data = 'square'\n",
    "# n_classes = 6  # 6\n",
    "# budget = 100\n",
    "# n_exps = 20\n",
    "\n",
    "data = 'citeseer'\n",
    "n_classes = 2  # 5, 7\n",
    "budget = 500\n",
    "n_exps = 20\n",
    "\n",
    "# data = 'bmg'\n",
    "# n_classes = 2\n",
    "# budget = 500\n",
    "# n_exps = 20\n",
    "\n",
    "policy = 'classical ens_40000'\n",
    "\n",
    "utility_function = linear_utility\n",
    "\n",
    "init_size = 1\n",
    "group_size = n_classes - 1\n",
    "\n",
    "basepath = os.path.join('../../data/results', data, str(group_size))\n",
    "\n",
    "\n",
    "utilities = np.ones((n_exps, budget + init_size)) * -1\n",
    "\n",
    "completed_exps = []\n",
    "folder = policy\n",
    "if policy.endswith('ucb'):\n",
    "    folder += f' {ucb_beta}'\n",
    "\n",
    "for i in range(n_exps):\n",
    "    try:\n",
    "        labels = np.loadtxt(\n",
    "            os.path.join(basepath, folder, f'{policy}__labels__{i + 1}.csv'), \n",
    "            dtype=int\n",
    "        ).flatten() - 1\n",
    "\n",
    "        utilities[i, :] = utility_function(labels_to_counts(labels))\n",
    "\n",
    "        completed_exps.append(i)\n",
    "    except OSError:\n",
    "        pass\n",
    "    \n",
    "print(completed_exps)"
   ]
  },
  {
   "cell_type": "code",
   "execution_count": 12,
   "id": "e9076acf-8eab-43cc-865f-93d5042aa3d6",
   "metadata": {},
   "outputs": [
    {
     "data": {
      "text/plain": [
       "(20, 501)"
      ]
     },
     "execution_count": 12,
     "metadata": {},
     "output_type": "execute_result"
    }
   ],
   "source": [
    "utilities.shape"
   ]
  },
  {
   "cell_type": "code",
   "execution_count": 16,
   "id": "555f0a9e-7d0e-4a2a-8eb9-a2e8633dd25f",
   "metadata": {},
   "outputs": [
    {
     "data": {
      "text/plain": [
       "183.25"
      ]
     },
     "execution_count": 16,
     "metadata": {},
     "output_type": "execute_result"
    }
   ],
   "source": [
    "utilities[completed_exps, -1].mean(axis=0)"
   ]
  },
  {
   "cell_type": "code",
   "execution_count": null,
   "id": "64ef298b-90c9-454a-acf5-b1929291a0ed",
   "metadata": {},
   "outputs": [],
   "source": []
  }
 ],
 "metadata": {
  "kernelspec": {
   "display_name": "Python 3 (ipykernel)",
   "language": "python",
   "name": "python3"
  },
  "language_info": {
   "codemirror_mode": {
    "name": "ipython",
    "version": 3
   },
   "file_extension": ".py",
   "mimetype": "text/x-python",
   "name": "python",
   "nbconvert_exporter": "python",
   "pygments_lexer": "ipython3",
   "version": "3.7.0"
  }
 },
 "nbformat": 4,
 "nbformat_minor": 5
}
