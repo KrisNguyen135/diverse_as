{
 "cells": [
  {
   "cell_type": "code",
   "execution_count": 1,
   "id": "abe56440-ef27-4995-b231-672c3e8bfcf3",
   "metadata": {},
   "outputs": [],
   "source": [
    "import numpy as np\n",
    "\n",
    "import os\n",
    "\n",
    "from statsmodels.stats.api import DescrStatsW\n",
    "from scipy.stats import ttest_rel, sem\n",
    "\n",
    "import matplotlib.pyplot as plt\n",
    "import seaborn as sns"
   ]
  },
  {
   "cell_type": "code",
   "execution_count": 2,
   "id": "3b0ee80a-76e8-4f5f-b6db-3d7758a2fdb9",
   "metadata": {},
   "outputs": [],
   "source": [
    "def labels_to_counts(labels, time_axis=0):\n",
    "    onehot = np.zeros((labels.size, n_classes), dtype=int)\n",
    "    onehot[np.arange(labels.size), labels] = 1\n",
    "    \n",
    "    return onehot.cumsum(axis=time_axis)\n",
    "\n",
    "\n",
    "def log_utility(counts):\n",
    "    return np.log(counts[:, 1:] + 1).sum(axis=1)\n",
    "\n",
    "\n",
    "data = 'square'\n",
    "utility_function = log_utility\n",
    "betas = [0, 1, 3, 5, 10, 15, 20, 50]\n",
    "\n",
    "n_exps = 20\n",
    "n_classes = 6\n",
    "init_size = 1\n",
    "budget = 100\n",
    "\n",
    "basepath = os.path.join('../../data/results', data)\n",
    "\n",
    "\n",
    "utilities = np.ones((len(betas), n_exps, budget + init_size)) * -1\n",
    "\n",
    "for b_ind, beta in enumerate(betas):\n",
    "    for i in range(n_exps):\n",
    "        policy = f'round robin ucb {beta}'\n",
    "        \n",
    "        labels = np.loadtxt(\n",
    "            os.path.join(basepath, policy, f'round robin ucb__labels__{i + 1}.csv'), \n",
    "            dtype=int\n",
    "        ).flatten() - 1\n",
    "\n",
    "        utilities[b_ind, i, :] = log_utility(labels_to_counts(labels))\n",
    "        \n",
    "assert np.all(utilities != -1)"
   ]
  },
  {
   "cell_type": "code",
   "execution_count": 3,
   "id": "efc1f0f7-fac4-488a-8c48-03fc0159d965",
   "metadata": {},
   "outputs": [
    {
     "data": {
      "text/plain": [
       "array([12.42719422, 12.42719422, 12.73612871, 12.13679013, 12.67339207,\n",
       "       12.6563046 , 12.58617354, 12.44111568])"
      ]
     },
     "execution_count": 3,
     "metadata": {},
     "output_type": "execute_result"
    }
   ],
   "source": [
    "utilities[..., -1].mean(axis=1)"
   ]
  },
  {
   "cell_type": "code",
   "execution_count": null,
   "id": "fb59ec94-80ce-4207-a0d6-38d61f821dd5",
   "metadata": {},
   "outputs": [],
   "source": []
  }
 ],
 "metadata": {
  "kernelspec": {
   "display_name": "Python 3 (ipykernel)",
   "language": "python",
   "name": "python3"
  },
  "language_info": {
   "codemirror_mode": {
    "name": "ipython",
    "version": 3
   },
   "file_extension": ".py",
   "mimetype": "text/x-python",
   "name": "python",
   "nbconvert_exporter": "python",
   "pygments_lexer": "ipython3",
   "version": "3.7.0"
  }
 },
 "nbformat": 4,
 "nbformat_minor": 5
}
