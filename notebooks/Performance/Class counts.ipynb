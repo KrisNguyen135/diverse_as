{
 "cells": [
  {
   "cell_type": "code",
   "execution_count": 1,
   "id": "1559535c-2af4-4541-9733-86e5cb0961cc",
   "metadata": {},
   "outputs": [],
   "source": [
    "import numpy as np\n",
    "\n",
    "import os\n",
    "\n",
    "from statsmodels.stats.api import DescrStatsW\n",
    "from scipy.stats import ttest_rel, sem\n",
    "\n",
    "import matplotlib.pyplot as plt\n",
    "import seaborn as sns\n",
    "import vapeplot\n",
    "vapeplot.set_palette('vaporwave')"
   ]
  },
  {
   "cell_type": "code",
   "execution_count": 2,
   "id": "15ecd7a6-c68c-45ea-80b1-d0669a709ef4",
   "metadata": {},
   "outputs": [],
   "source": [
    "def labels_to_counts(labels, time_axis=0):\n",
    "    onehot = np.zeros((labels.size, n_classes), dtype=int)\n",
    "    onehot[np.arange(labels.size), labels] = 1\n",
    "    return onehot.cumsum(axis=time_axis)\n",
    "\n",
    "\n",
    "data = 'citeseer'\n",
    "policies = [\n",
    "    'greedy',\n",
    "    'round robin greedy'\n",
    "]\n",
    "\n",
    "n_exps = 20\n",
    "n_classes = 5\n",
    "budget = 500\n",
    "\n",
    "basepath = os.path.join('../../data/results', data)\n",
    "\n",
    "\n",
    "class_counts = -1 * np.ones(\n",
    "    (len(policies), n_exps, budget, n_classes), dtype=int\n",
    ")\n",
    "\n",
    "for p_ind, policy in enumerate(policies):\n",
    "    for i in range(n_exps):\n",
    "        labels = np.loadtxt(\n",
    "            os.path.join(basepath, policy, f'{policy}__queried_labels__{i + 1}.csv'), \n",
    "            dtype=int\n",
    "        ).flatten() - 1\n",
    "        \n",
    "        class_counts[p_ind, i, :] = labels_to_counts(labels)\n",
    "        \n",
    "assert np.all(class_counts != -1)"
   ]
  },
  {
   "cell_type": "code",
   "execution_count": null,
   "id": "25089a31-d444-49a6-8c78-26d15194c7ae",
   "metadata": {},
   "outputs": [],
   "source": []
  }
 ],
 "metadata": {
  "kernelspec": {
   "display_name": "Python 3 (ipykernel)",
   "language": "python",
   "name": "python3"
  },
  "language_info": {
   "codemirror_mode": {
    "name": "ipython",
    "version": 3
   },
   "file_extension": ".py",
   "mimetype": "text/x-python",
   "name": "python",
   "nbconvert_exporter": "python",
   "pygments_lexer": "ipython3",
   "version": "3.7.0"
  }
 },
 "nbformat": 4,
 "nbformat_minor": 5
}
