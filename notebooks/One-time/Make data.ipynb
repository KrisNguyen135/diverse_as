{
 "cells": [
  {
   "cell_type": "code",
   "execution_count": 1,
   "metadata": {},
   "outputs": [],
   "source": [
    "import pandas as pd\n",
    "import numpy as np"
   ]
  },
  {
   "cell_type": "code",
   "execution_count": 2,
   "metadata": {},
   "outputs": [],
   "source": [
    "n_classes = 120\n",
    "n_negatives = 100_000\n",
    "\n",
    "n_positives = np.loadtxt('../../data/raw/num_positives.txt', dtype=int)\n",
    "assert n_positives.size == n_classes\n",
    "\n",
    "with open('../../data/raw/smiles.txt', 'r') as f:\n",
    "    smiles = f.readlines()\n",
    "    \n",
    "smiles = [s.strip() for s in smiles]\n",
    "assert len(smiles) == n_negatives + n_positives.sum()\n",
    "\n",
    "neg_smiles = smiles[:n_negatives]\n",
    "smiles = smiles[n_negatives:]\n",
    "pos_smiles = []\n",
    "for class_ind in range(n_classes):\n",
    "    tmp_n_positives = n_positives[class_ind]\n",
    "    \n",
    "    pos_smiles.append(smiles[:tmp_n_positives])\n",
    "    smiles = smiles[tmp_n_positives:]"
   ]
  },
  {
   "cell_type": "code",
   "execution_count": 3,
   "metadata": {},
   "outputs": [
    {
     "name": "stdout",
     "output_type": "stream",
     "text": [
      "[ 45  79  56  85  99  41  81 110  48   2  53  52  94  43  80   1  10  35\n",
      "  47  26  68  82  37  19  14  39  38  63 104 111   3  75  70 108  97 115\n",
      " 116  67  61  83  84  91  76  42  21   6  95 112 103  71 107  34  59  50\n",
      "  55  60  66   4   5  44  24  32  58  20  98 109   7  46  17  74  96 117\n",
      " 119 114 102  23  22  92  18  27 105  57  31  65  12  87  30  86  90  25\n",
      "  13  69  77 101  51  49  78  72  33  62  88  54  11 118  16  36  40 106\n",
      "   0  73   8  29  93  89  28 113  64  15 100   9]\n"
     ]
    }
   ],
   "source": [
    "group_size = 10\n",
    "assert n_classes % group_size == 0\n",
    "\n",
    "np.random.seed(group_size)\n",
    "shuffled_classes = np.random.permutation(np.arange(n_classes))\n",
    "np.savetxt(f'../../data/split/{group_size}/shuffled_classes.txt', shuffled_classes, fmt='%d')\n",
    "\n",
    "print(shuffled_classes)"
   ]
  },
  {
   "cell_type": "code",
   "execution_count": 4,
   "metadata": {},
   "outputs": [],
   "source": [
    "for problem_ind in range(n_classes // group_size):\n",
    "    tmp_smiles = []\n",
    "    labels = []\n",
    "    \n",
    "    tmp_smiles += neg_smiles\n",
    "    labels += [0] * n_negatives\n",
    "    \n",
    "    for class_ind in range(group_size):\n",
    "        tmp_class = shuffled_classes[class_ind]\n",
    "        \n",
    "        tmp_smiles += pos_smiles[tmp_class]\n",
    "        labels += [class_ind + 1] * n_positives[tmp_class]\n",
    "        \n",
    "        # with open(f'../../data/split/{group_size}/problem{problem_ind}.txt', 'w') as f:\n",
    "        #     f.writelines(tmp_smiles)\n",
    "        \n",
    "        df = pd.DataFrame({'smiles': tmp_smiles, 'class': labels})\n",
    "        df.to_csv(f'../../data/split/{group_size}/problem{problem_ind}.csv', index=False)\n",
    "\n",
    "    shuffled_classes = shuffled_classes[group_size:]"
   ]
  },
  {
   "cell_type": "code",
   "execution_count": null,
   "metadata": {},
   "outputs": [],
   "source": []
  }
 ],
 "metadata": {
  "kernelspec": {
   "display_name": "Python 3",
   "language": "python",
   "name": "python3"
  },
  "language_info": {
   "codemirror_mode": {
    "name": "ipython",
    "version": 3
   },
   "file_extension": ".py",
   "mimetype": "text/x-python",
   "name": "python",
   "nbconvert_exporter": "python",
   "pygments_lexer": "ipython3",
   "version": "3.7.4"
  }
 },
 "nbformat": 4,
 "nbformat_minor": 4
}
