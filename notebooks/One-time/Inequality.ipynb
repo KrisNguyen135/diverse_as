{
 "cells": [
  {
   "cell_type": "code",
   "execution_count": 1,
   "id": "03850a8c-e761-45ca-9418-f11971b0923b",
   "metadata": {},
   "outputs": [],
   "source": [
    "import numpy as np\n",
    "from scipy.special import comb"
   ]
  },
  {
   "cell_type": "code",
   "execution_count": 2,
   "id": "f8a1584f-f2ce-405a-a233-64784207ddf1",
   "metadata": {},
   "outputs": [],
   "source": [
    "m_lower = 5\n",
    "m_upper = 10\n",
    "\n",
    "ms = np.arange(m_lower, m_upper + 1)\n",
    "ns = 2 ** (2 * ms)"
   ]
  },
  {
   "cell_type": "code",
   "execution_count": 3,
   "id": "601d2332-904f-4f61-bce6-bdb5ca59940b",
   "metadata": {},
   "outputs": [
    {
     "name": "stdout",
     "output_type": "stream",
     "text": [
      "5 1024\n",
      "0.0821329016396281 2.1054256480892146\n",
      "6 4096\n",
      "0.0011409175767103676 0.08277631029799228\n",
      "7 16384\n",
      "2.9516300997477377e-05 0.0035597834457901734\n",
      "8 65536\n",
      "1.044231560545054e-06 0.00012478807522703608\n",
      "9 262144\n",
      "4.706772989470744e-07 3.2853257138862215e-06\n",
      "10 1048576\n",
      "2.3014636424026993e-12 6.30213475308795e-08\n"
     ]
    }
   ],
   "source": [
    "for m, n in zip(ms, ns):\n",
    "    print(m, n)\n",
    "    \n",
    "    lhs = (\n",
    "        comb(n - m ** 2 * 2 ** m - np.sqrt(m), m ** 2 - np.sqrt(m), exact=True)\n",
    "        * comb(m ** 2 / 2, np.sqrt(m), exact=True)\n",
    "        / comb(n - m ** 2 * 2 ** m, m ** 2, exact=True)\n",
    "    )\n",
    "    \n",
    "    rhs = (m ** 2 * m ** 2 / 2 / (n - m ** 2 * 2 ** m)) ** np.sqrt(m)\n",
    "    \n",
    "    print(lhs, rhs)\n",
    "    assert lhs < rhs"
   ]
  },
  {
   "cell_type": "code",
   "execution_count": null,
   "id": "e6536377-a39b-4419-a2c0-90f800473f25",
   "metadata": {},
   "outputs": [],
   "source": []
  }
 ],
 "metadata": {
  "kernelspec": {
   "display_name": "Python 3 (ipykernel)",
   "language": "python",
   "name": "python3"
  },
  "language_info": {
   "codemirror_mode": {
    "name": "ipython",
    "version": 3
   },
   "file_extension": ".py",
   "mimetype": "text/x-python",
   "name": "python",
   "nbconvert_exporter": "python",
   "pygments_lexer": "ipython3",
   "version": "3.7.0"
  }
 },
 "nbformat": 4,
 "nbformat_minor": 5
}
