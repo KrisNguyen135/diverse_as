{
 "cells": [
  {
   "cell_type": "code",
   "execution_count": 1,
   "metadata": {},
   "outputs": [],
   "source": [
    "import pandas as pd\n",
    "import numpy as np\n",
    "\n",
    "from tqdm import tqdm"
   ]
  },
  {
   "cell_type": "code",
   "execution_count": 2,
   "metadata": {},
   "outputs": [],
   "source": [
    "n_classes = 120\n",
    "n_negatives = 100_000\n",
    "\n",
    "n_positives = np.loadtxt('../../data/drug/raw/num_positives.txt', dtype=int)\n",
    "assert n_positives.size == n_classes\n",
    "\n",
    "with open('../../data/drug/raw/smiles.txt', 'r') as f:\n",
    "    smiles = f.readlines()\n",
    "    \n",
    "smiles = [s.strip() for s in smiles]\n",
    "assert len(smiles) == n_negatives + n_positives.sum()\n",
    "\n",
    "neg_smiles = smiles[:n_negatives]\n",
    "smiles = smiles[n_negatives:]\n",
    "pos_smiles = []\n",
    "for class_ind in range(n_classes):\n",
    "    tmp_n_positives = n_positives[class_ind]\n",
    "    \n",
    "    pos_smiles.append(smiles[:tmp_n_positives])\n",
    "    smiles = smiles[tmp_n_positives:]"
   ]
  },
  {
   "cell_type": "code",
   "execution_count": 3,
   "metadata": {},
   "outputs": [
    {
     "name": "stdout",
     "output_type": "stream",
     "text": [
      "[ 13   2  25  16  19  41   5  24  82  20  65  79  34  86  77 116  10  12\n",
      "  92  26  97 101  85 117  84  35  76  47  64 113  54  29  75  14  93  31\n",
      "  99  89  11   4  63  78  61  60  37 114  43  27 109  15  88 108  71  51\n",
      "  53  96  18 111   7  81  80  39   6  74  91  70  68  62  67  22  23  48\n",
      "  59  17 102 105  98  28  83  33  45  42  40  32 110  90  49   8  30 119\n",
      "  66  56 100  73  95  21 106   0   3  52  38  44 112  36 115  57 107 118\n",
      "  94 103  58   9  50  72  87 104   1  69  55  46]\n"
     ]
    }
   ],
   "source": [
    "group_size = 4\n",
    "assert n_classes % group_size == 0\n",
    "\n",
    "np.random.seed(group_size)\n",
    "shuffled_classes = np.random.permutation(np.arange(n_classes))\n",
    "np.savetxt(f'../../data/drug/split/{group_size}/shuffled_classes.txt', shuffled_classes, fmt='%d')\n",
    "\n",
    "print(shuffled_classes)"
   ]
  },
  {
   "cell_type": "code",
   "execution_count": 4,
   "metadata": {},
   "outputs": [
    {
     "name": "stderr",
     "output_type": "stream",
     "text": [
      "100%|███████████████████████████████████████████████████████████████████████████████| 30/30 [00:20<00:00,  1.45it/s]\n"
     ]
    }
   ],
   "source": [
    "for problem_ind in tqdm(range(n_classes // group_size)):\n",
    "    tmp_smiles = []\n",
    "    labels = []\n",
    "    \n",
    "    tmp_smiles += neg_smiles\n",
    "    labels += [0] * n_negatives\n",
    "    \n",
    "    for class_ind in range(group_size):\n",
    "        tmp_class = shuffled_classes[class_ind]\n",
    "        \n",
    "        tmp_smiles += pos_smiles[tmp_class]\n",
    "        labels += [class_ind + 1] * n_positives[tmp_class]\n",
    "        \n",
    "        df = pd.DataFrame({'smiles': tmp_smiles, 'class': labels})\n",
    "        df.to_csv(\n",
    "            f'../../data/drug/split/{group_size}/problem{problem_ind}.csv', \n",
    "            index=False, header=False\n",
    "        )\n",
    "\n",
    "    shuffled_classes = shuffled_classes[group_size:]"
   ]
  },
  {
   "cell_type": "code",
   "execution_count": null,
   "metadata": {},
   "outputs": [],
   "source": []
  }
 ],
 "metadata": {
  "kernelspec": {
   "display_name": "Python 3 (ipykernel)",
   "language": "python",
   "name": "python3"
  },
  "language_info": {
   "codemirror_mode": {
    "name": "ipython",
    "version": 3
   },
   "file_extension": ".py",
   "mimetype": "text/x-python",
   "name": "python",
   "nbconvert_exporter": "python",
   "pygments_lexer": "ipython3",
   "version": "3.7.0"
  }
 },
 "nbformat": 4,
 "nbformat_minor": 4
}
