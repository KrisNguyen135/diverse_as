{
 "cells": [
  {
   "cell_type": "code",
   "execution_count": 1,
   "id": "74656807-574a-4051-9841-1e0f66c4f01a",
   "metadata": {},
   "outputs": [],
   "source": [
    "import os\n",
    "import pandas as pd\n",
    "\n",
    "import matplotlib.pyplot as plt\n",
    "import seaborn as sns"
   ]
  },
  {
   "cell_type": "markdown",
   "id": "ef4274ef-7bd2-43e8-8dc3-a8f3ae27f9ee",
   "metadata": {},
   "source": [
    "# negatives"
   ]
  },
  {
   "cell_type": "code",
   "execution_count": 2,
   "id": "ec73359a-c56a-4222-b601-f8b57807d140",
   "metadata": {},
   "outputs": [
    {
     "data": {
      "text/plain": [
       "100000"
      ]
     },
     "execution_count": 2,
     "metadata": {},
     "output_type": "execute_result"
    }
   ],
   "source": [
    "negative_filename = \"/Users/quannguyen/computing/research/diverse_as/data/drug/raw/negatives.txt\"\n",
    "\n",
    "with open(negative_filename, \"r\") as f:\n",
    "    negatives = f.readlines()\n",
    "    negatives = [line.strip() for line in negatives]\n",
    "\n",
    "len(negatives)"
   ]
  },
  {
   "cell_type": "code",
   "execution_count": 3,
   "id": "c3dd9201-de7c-4240-ba0f-2bc8c7de33b7",
   "metadata": {},
   "outputs": [
    {
     "data": {
      "text/html": [
       "<div>\n",
       "<style scoped>\n",
       "    .dataframe tbody tr th:only-of-type {\n",
       "        vertical-align: middle;\n",
       "    }\n",
       "\n",
       "    .dataframe tbody tr th {\n",
       "        vertical-align: top;\n",
       "    }\n",
       "\n",
       "    .dataframe thead th {\n",
       "        text-align: right;\n",
       "    }\n",
       "</style>\n",
       "<table border=\"1\" class=\"dataframe\">\n",
       "  <thead>\n",
       "    <tr style=\"text-align: right;\">\n",
       "      <th></th>\n",
       "      <th>smiles</th>\n",
       "      <th>label</th>\n",
       "    </tr>\n",
       "  </thead>\n",
       "  <tbody>\n",
       "    <tr>\n",
       "      <th>0</th>\n",
       "      <td>o1c(nnc1NC(=O)CCCC)-c1oc2c(c1)cccc2OC</td>\n",
       "      <td>0</td>\n",
       "    </tr>\n",
       "    <tr>\n",
       "      <th>1</th>\n",
       "      <td>s1c(ccc1S(=O)(=O)N1c2c(cc(S(=O)(=O)N)cc2)C[C@@...</td>\n",
       "      <td>0</td>\n",
       "    </tr>\n",
       "    <tr>\n",
       "      <th>2</th>\n",
       "      <td>s1c2N=C(S[C@H](C(=O)NC3CCCCC3)C)N(C[C@H]3OCCC3...</td>\n",
       "      <td>0</td>\n",
       "    </tr>\n",
       "    <tr>\n",
       "      <th>3</th>\n",
       "      <td>o1nc(nc1CCC(=O)Nc1cc(ccc1)CC)-c1cc(OC)c(OC)cc1</td>\n",
       "      <td>0</td>\n",
       "    </tr>\n",
       "    <tr>\n",
       "      <th>4</th>\n",
       "      <td>BrC=1C(OC(=NC=1OC)c1ccccc1)=O</td>\n",
       "      <td>0</td>\n",
       "    </tr>\n",
       "    <tr>\n",
       "      <th>...</th>\n",
       "      <td>...</td>\n",
       "      <td>...</td>\n",
       "    </tr>\n",
       "    <tr>\n",
       "      <th>99995</th>\n",
       "      <td>Clc1cc(-n2ncc3c2N=C2SC[C@@H](N2C3=O)CC(=O)Nc2c...</td>\n",
       "      <td>0</td>\n",
       "    </tr>\n",
       "    <tr>\n",
       "      <th>99996</th>\n",
       "      <td>O(CC(=O)N)c1ccc(cc1OC)CNC(=O)N[C@@H](C(=O)N[C@...</td>\n",
       "      <td>0</td>\n",
       "    </tr>\n",
       "    <tr>\n",
       "      <th>99997</th>\n",
       "      <td>Clc1cc(ccc1S(=O)(=O)N(CC(=O)N)C)C(OC)=O</td>\n",
       "      <td>0</td>\n",
       "    </tr>\n",
       "    <tr>\n",
       "      <th>99998</th>\n",
       "      <td>S(=O)(=O)(NCCC#N)c1ccc(cc1)C(=O)Nc1ccccc1OC(F)F</td>\n",
       "      <td>0</td>\n",
       "    </tr>\n",
       "    <tr>\n",
       "      <th>99999</th>\n",
       "      <td>CC(C)(C)c1ccc2occ(CC(=O)Nc3ccccc3F)c2c1</td>\n",
       "      <td>0</td>\n",
       "    </tr>\n",
       "  </tbody>\n",
       "</table>\n",
       "<p>100000 rows × 2 columns</p>\n",
       "</div>"
      ],
      "text/plain": [
       "                                                  smiles  label\n",
       "0                  o1c(nnc1NC(=O)CCCC)-c1oc2c(c1)cccc2OC      0\n",
       "1      s1c(ccc1S(=O)(=O)N1c2c(cc(S(=O)(=O)N)cc2)C[C@@...      0\n",
       "2      s1c2N=C(S[C@H](C(=O)NC3CCCCC3)C)N(C[C@H]3OCCC3...      0\n",
       "3         o1nc(nc1CCC(=O)Nc1cc(ccc1)CC)-c1cc(OC)c(OC)cc1      0\n",
       "4                          BrC=1C(OC(=NC=1OC)c1ccccc1)=O      0\n",
       "...                                                  ...    ...\n",
       "99995  Clc1cc(-n2ncc3c2N=C2SC[C@@H](N2C3=O)CC(=O)Nc2c...      0\n",
       "99996  O(CC(=O)N)c1ccc(cc1OC)CNC(=O)N[C@@H](C(=O)N[C@...      0\n",
       "99997            Clc1cc(ccc1S(=O)(=O)N(CC(=O)N)C)C(OC)=O      0\n",
       "99998    S(=O)(=O)(NCCC#N)c1ccc(cc1)C(=O)Nc1ccccc1OC(F)F      0\n",
       "99999            CC(C)(C)c1ccc2occ(CC(=O)Nc3ccccc3F)c2c1      0\n",
       "\n",
       "[100000 rows x 2 columns]"
      ]
     },
     "execution_count": 3,
     "metadata": {},
     "output_type": "execute_result"
    }
   ],
   "source": [
    "df = pd.DataFrame({\"smiles\": negatives, \"label\": [0] * len(negatives)})\n",
    "df"
   ]
  },
  {
   "cell_type": "markdown",
   "id": "ad5ca9e7-4db5-41cc-9d8d-6623e4652544",
   "metadata": {},
   "source": [
    "# positives"
   ]
  },
  {
   "cell_type": "code",
   "execution_count": 4,
   "id": "8c9efc77-5a7f-4492-8837-16a8348690a9",
   "metadata": {},
   "outputs": [],
   "source": [
    "keep = None"
   ]
  },
  {
   "cell_type": "code",
   "execution_count": 4,
   "id": "724bb0d9-5268-42da-8aaa-428c3df906a5",
   "metadata": {
    "tags": []
   },
   "outputs": [],
   "source": [
    "keep = [\n",
    " 5,\n",
    " 17,\n",
    " 84,\n",
    " 18,\n",
    " 112,\n",
    " 44,\n",
    " 51,\n",
    " 105,\n",
    " 67,\n",
    " 57,\n",
    " 61,\n",
    " 52,\n",
    " 30,\n",
    " 9,\n",
    " 20,\n",
    " 64,\n",
    " 89,\n",
    " 25,\n",
    " 14,\n",
    " 118,\n",
    " 24,\n",
    " 60,\n",
    " 75,\n",
    " 93,\n",
    " 113,\n",
    " 95,\n",
    " 97,\n",
    " 74,\n",
    " 3,\n",
    " 15,\n",
    " 7,\n",
    " 58,\n",
    " 88,\n",
    " 45,\n",
    " 2,\n",
    " 109,\n",
    " 63,\n",
    " 59,\n",
    " 36,\n",
    " 32,\n",
    " 40,\n",
    " 91,\n",
    " 13,\n",
    " 22,\n",
    " 62,\n",
    " 90,\n",
    " 94,\n",
    " 43,\n",
    " 1,\n",
    " 4,\n",
    " 29,\n",
    " 82,\n",
    " 56,\n",
    " 103,\n",
    " 71,\n",
    " 92,\n",
    " 120,\n",
    " 65,\n",
    " 106,\n",
    " 108,\n",
    " 55,\n",
    " 34,\n",
    " 48,\n",
    " 37,\n",
    " 0\n",
    "]"
   ]
  },
  {
   "cell_type": "code",
   "execution_count": 5,
   "id": "2f62fcca-fc12-41a2-8f65-81a8259ad109",
   "metadata": {},
   "outputs": [],
   "source": [
    "basepath = \"/Users/quannguyen/Downloads/ACs\"\n",
    "num_classes = 120\n",
    "\n",
    "for i in range(1, num_classes + 1):\n",
    "    if keep is None or i in keep:\n",
    "        with open(os.path.join(basepath, f\"Target_{i}.smi\"), \"r\") as f:\n",
    "            positives = f.readlines()\n",
    "            # positives = [line.strip() for line in positives]\n",
    "            for j, line in enumerate(positives):\n",
    "                if \"\\t\" in line:\n",
    "                    positives[j] = line[:line.index(\"\\t\")]\n",
    "\n",
    "            intersection_with_negatives = set(positives).intersection(set(negatives))\n",
    "            if len(intersection_with_negatives) > 0:\n",
    "                print(i, intersection_with_negatives)\n",
    "\n",
    "        df = pd.concat(\n",
    "            [\n",
    "                df, \n",
    "                pd.DataFrame({\"smiles\": positives, \"label\": [i] * len(positives)})\n",
    "            ]\n",
    "        )"
   ]
  },
  {
   "cell_type": "code",
   "execution_count": 6,
   "id": "1422b906-3e91-41af-a7bd-99280ab99153",
   "metadata": {},
   "outputs": [
    {
     "data": {
      "text/html": [
       "<div>\n",
       "<style scoped>\n",
       "    .dataframe tbody tr th:only-of-type {\n",
       "        vertical-align: middle;\n",
       "    }\n",
       "\n",
       "    .dataframe tbody tr th {\n",
       "        vertical-align: top;\n",
       "    }\n",
       "\n",
       "    .dataframe thead th {\n",
       "        text-align: right;\n",
       "    }\n",
       "</style>\n",
       "<table border=\"1\" class=\"dataframe\">\n",
       "  <thead>\n",
       "    <tr style=\"text-align: right;\">\n",
       "      <th></th>\n",
       "      <th>smiles</th>\n",
       "      <th>label</th>\n",
       "    </tr>\n",
       "  </thead>\n",
       "  <tbody>\n",
       "    <tr>\n",
       "      <th>0</th>\n",
       "      <td>o1c(nnc1NC(=O)CCCC)-c1oc2c(c1)cccc2OC</td>\n",
       "      <td>0</td>\n",
       "    </tr>\n",
       "    <tr>\n",
       "      <th>1</th>\n",
       "      <td>s1c(ccc1S(=O)(=O)N1c2c(cc(S(=O)(=O)N)cc2)C[C@@...</td>\n",
       "      <td>0</td>\n",
       "    </tr>\n",
       "    <tr>\n",
       "      <th>2</th>\n",
       "      <td>s1c2N=C(S[C@H](C(=O)NC3CCCCC3)C)N(C[C@H]3OCCC3...</td>\n",
       "      <td>0</td>\n",
       "    </tr>\n",
       "    <tr>\n",
       "      <th>3</th>\n",
       "      <td>o1nc(nc1CCC(=O)Nc1cc(ccc1)CC)-c1cc(OC)c(OC)cc1</td>\n",
       "      <td>0</td>\n",
       "    </tr>\n",
       "    <tr>\n",
       "      <th>4</th>\n",
       "      <td>BrC=1C(OC(=NC=1OC)c1ccccc1)=O</td>\n",
       "      <td>0</td>\n",
       "    </tr>\n",
       "    <tr>\n",
       "      <th>...</th>\n",
       "      <td>...</td>\n",
       "      <td>...</td>\n",
       "    </tr>\n",
       "    <tr>\n",
       "      <th>1230</th>\n",
       "      <td>Clc1ccc(Nc2ncc3CC(=O)Nc4ccccc4c3n2)cc1</td>\n",
       "      <td>120</td>\n",
       "    </tr>\n",
       "    <tr>\n",
       "      <th>1231</th>\n",
       "      <td>[O-][N+](=O)c1ccc(Nc2ncc3CC(=O)Nc4ccccc4c3n2)cc1</td>\n",
       "      <td>120</td>\n",
       "    </tr>\n",
       "    <tr>\n",
       "      <th>1232</th>\n",
       "      <td>Cc1ccc(Nc2ncc3CC(=O)Nc4ccccc4c3n2)cc1</td>\n",
       "      <td>120</td>\n",
       "    </tr>\n",
       "    <tr>\n",
       "      <th>1233</th>\n",
       "      <td>Oc1ccc(Nc2ncc3CC(=O)Nc4ccccc4c3n2)cc1</td>\n",
       "      <td>120</td>\n",
       "    </tr>\n",
       "    <tr>\n",
       "      <th>1234</th>\n",
       "      <td>COc1cc(cc(OC)c1OC)C1=C(C(=O)NC1=O)c1c[nH]c2ccc...</td>\n",
       "      <td>120</td>\n",
       "    </tr>\n",
       "  </tbody>\n",
       "</table>\n",
       "<p>162350 rows × 2 columns</p>\n",
       "</div>"
      ],
      "text/plain": [
       "                                                 smiles  label\n",
       "0                 o1c(nnc1NC(=O)CCCC)-c1oc2c(c1)cccc2OC      0\n",
       "1     s1c(ccc1S(=O)(=O)N1c2c(cc(S(=O)(=O)N)cc2)C[C@@...      0\n",
       "2     s1c2N=C(S[C@H](C(=O)NC3CCCCC3)C)N(C[C@H]3OCCC3...      0\n",
       "3        o1nc(nc1CCC(=O)Nc1cc(ccc1)CC)-c1cc(OC)c(OC)cc1      0\n",
       "4                         BrC=1C(OC(=NC=1OC)c1ccccc1)=O      0\n",
       "...                                                 ...    ...\n",
       "1230             Clc1ccc(Nc2ncc3CC(=O)Nc4ccccc4c3n2)cc1    120\n",
       "1231   [O-][N+](=O)c1ccc(Nc2ncc3CC(=O)Nc4ccccc4c3n2)cc1    120\n",
       "1232              Cc1ccc(Nc2ncc3CC(=O)Nc4ccccc4c3n2)cc1    120\n",
       "1233              Oc1ccc(Nc2ncc3CC(=O)Nc4ccccc4c3n2)cc1    120\n",
       "1234  COc1cc(cc(OC)c1OC)C1=C(C(=O)NC1=O)c1c[nH]c2ccc...    120\n",
       "\n",
       "[162350 rows x 2 columns]"
      ]
     },
     "execution_count": 6,
     "metadata": {},
     "output_type": "execute_result"
    }
   ],
   "source": [
    "df"
   ]
  },
  {
   "cell_type": "code",
   "execution_count": 7,
   "id": "e74900c1-c200-4fde-9ec1-dd1f6c9b6646",
   "metadata": {},
   "outputs": [
    {
     "data": {
      "text/html": [
       "<div>\n",
       "<style scoped>\n",
       "    .dataframe tbody tr th:only-of-type {\n",
       "        vertical-align: middle;\n",
       "    }\n",
       "\n",
       "    .dataframe tbody tr th {\n",
       "        vertical-align: top;\n",
       "    }\n",
       "\n",
       "    .dataframe thead th {\n",
       "        text-align: right;\n",
       "    }\n",
       "</style>\n",
       "<table border=\"1\" class=\"dataframe\">\n",
       "  <thead>\n",
       "    <tr style=\"text-align: right;\">\n",
       "      <th></th>\n",
       "      <th>smiles</th>\n",
       "      <th>label</th>\n",
       "    </tr>\n",
       "  </thead>\n",
       "  <tbody>\n",
       "    <tr>\n",
       "      <th>0</th>\n",
       "      <td>o1c(nnc1NC(=O)CCCC)-c1oc2c(c1)cccc2OC</td>\n",
       "      <td>0</td>\n",
       "    </tr>\n",
       "    <tr>\n",
       "      <th>1</th>\n",
       "      <td>s1c(ccc1S(=O)(=O)N1c2c(cc(S(=O)(=O)N)cc2)C[C@@...</td>\n",
       "      <td>0</td>\n",
       "    </tr>\n",
       "    <tr>\n",
       "      <th>2</th>\n",
       "      <td>s1c2N=C(S[C@H](C(=O)NC3CCCCC3)C)N(C[C@H]3OCCC3...</td>\n",
       "      <td>0</td>\n",
       "    </tr>\n",
       "    <tr>\n",
       "      <th>3</th>\n",
       "      <td>o1nc(nc1CCC(=O)Nc1cc(ccc1)CC)-c1cc(OC)c(OC)cc1</td>\n",
       "      <td>0</td>\n",
       "    </tr>\n",
       "    <tr>\n",
       "      <th>4</th>\n",
       "      <td>BrC=1C(OC(=NC=1OC)c1ccccc1)=O</td>\n",
       "      <td>0</td>\n",
       "    </tr>\n",
       "    <tr>\n",
       "      <th>...</th>\n",
       "      <td>...</td>\n",
       "      <td>...</td>\n",
       "    </tr>\n",
       "    <tr>\n",
       "      <th>1229</th>\n",
       "      <td>COc1ccc(Nc2ncc3CC(=O)Nc4ccccc4c3n2)cc1</td>\n",
       "      <td>120</td>\n",
       "    </tr>\n",
       "    <tr>\n",
       "      <th>1230</th>\n",
       "      <td>Clc1ccc(Nc2ncc3CC(=O)Nc4ccccc4c3n2)cc1</td>\n",
       "      <td>120</td>\n",
       "    </tr>\n",
       "    <tr>\n",
       "      <th>1231</th>\n",
       "      <td>[O-][N+](=O)c1ccc(Nc2ncc3CC(=O)Nc4ccccc4c3n2)cc1</td>\n",
       "      <td>120</td>\n",
       "    </tr>\n",
       "    <tr>\n",
       "      <th>1232</th>\n",
       "      <td>Cc1ccc(Nc2ncc3CC(=O)Nc4ccccc4c3n2)cc1</td>\n",
       "      <td>120</td>\n",
       "    </tr>\n",
       "    <tr>\n",
       "      <th>1233</th>\n",
       "      <td>Oc1ccc(Nc2ncc3CC(=O)Nc4ccccc4c3n2)cc1</td>\n",
       "      <td>120</td>\n",
       "    </tr>\n",
       "  </tbody>\n",
       "</table>\n",
       "<p>131809 rows × 2 columns</p>\n",
       "</div>"
      ],
      "text/plain": [
       "                                                 smiles  label\n",
       "0                 o1c(nnc1NC(=O)CCCC)-c1oc2c(c1)cccc2OC      0\n",
       "1     s1c(ccc1S(=O)(=O)N1c2c(cc(S(=O)(=O)N)cc2)C[C@@...      0\n",
       "2     s1c2N=C(S[C@H](C(=O)NC3CCCCC3)C)N(C[C@H]3OCCC3...      0\n",
       "3        o1nc(nc1CCC(=O)Nc1cc(ccc1)CC)-c1cc(OC)c(OC)cc1      0\n",
       "4                         BrC=1C(OC(=NC=1OC)c1ccccc1)=O      0\n",
       "...                                                 ...    ...\n",
       "1229             COc1ccc(Nc2ncc3CC(=O)Nc4ccccc4c3n2)cc1    120\n",
       "1230             Clc1ccc(Nc2ncc3CC(=O)Nc4ccccc4c3n2)cc1    120\n",
       "1231   [O-][N+](=O)c1ccc(Nc2ncc3CC(=O)Nc4ccccc4c3n2)cc1    120\n",
       "1232              Cc1ccc(Nc2ncc3CC(=O)Nc4ccccc4c3n2)cc1    120\n",
       "1233              Oc1ccc(Nc2ncc3CC(=O)Nc4ccccc4c3n2)cc1    120\n",
       "\n",
       "[131809 rows x 2 columns]"
      ]
     },
     "execution_count": 7,
     "metadata": {},
     "output_type": "execute_result"
    }
   ],
   "source": [
    "pruned_df = df.drop_duplicates(subset=\"smiles\", keep=False)\n",
    "pruned_df"
   ]
  },
  {
   "cell_type": "code",
   "execution_count": 8,
   "id": "befc99a0-2bd0-4105-af30-1461ab50d8b2",
   "metadata": {},
   "outputs": [
    {
     "data": {
      "text/plain": [
       "131809"
      ]
     },
     "execution_count": 8,
     "metadata": {},
     "output_type": "execute_result"
    }
   ],
   "source": [
    "len(set(list(pruned_df.smiles)))"
   ]
  },
  {
   "cell_type": "code",
   "execution_count": 9,
   "id": "dc8ec7f0-7685-4870-8b55-307182047081",
   "metadata": {},
   "outputs": [
    {
     "name": "stdout",
     "output_type": "stream",
     "text": [
      "label 72: 298 --> 7 points\n",
      "label 23: 360 --> 8 points\n",
      "label 21: 697 --> 10 points\n",
      "label 119: 276 --> 14 points\n",
      "label 49: 206 --> 21 points\n",
      "label 69: 459 --> 24 points\n",
      "label 98: 457 --> 25 points\n",
      "label 111: 345 --> 29 points\n",
      "label 53: 248 --> 35 points\n",
      "label 79: 300 --> 36 points\n",
      "label 70: 886 --> 37 points\n",
      "label 101: 228 --> 44 points\n",
      "label 73: 336 --> 44 points\n",
      "label 46: 395 --> 56 points\n",
      "label 78: 318 --> 58 points\n",
      "label 80: 332 --> 62 points\n",
      "label 115: 232 --> 63 points\n",
      "label 10: 222 --> 66 points\n",
      "label 42: 545 --> 74 points\n",
      "label 26: 289 --> 77 points\n",
      "label 99: 524 --> 80 points\n",
      "label 11: 261 --> 84 points\n",
      "label 39: 812 --> 84 points\n",
      "label 16: 233 --> 90 points\n",
      "label 19: 241 --> 95 points\n",
      "label 12: 206 --> 95 points\n",
      "label 8: 432 --> 98 points\n",
      "label 38: 242 --> 101 points\n",
      "label 54: 275 --> 105 points\n",
      "label 41: 1366 --> 111 points\n",
      "label 87: 229 --> 112 points\n",
      "label 77: 1084 --> 114 points\n",
      "label 102: 604 --> 116 points\n",
      "label 86: 925 --> 122 points\n",
      "label 27: 343 --> 124 points\n",
      "label 114: 268 --> 124 points\n",
      "label 110: 207 --> 132 points\n",
      "label 100: 728 --> 136 points\n",
      "label 117: 206 --> 143 points\n",
      "label 28: 278 --> 148 points\n",
      "label 104: 284 --> 152 points\n",
      "label 107: 246 --> 152 points\n",
      "label 31: 470 --> 155 points\n",
      "label 47: 521 --> 157 points\n",
      "label 83: 215 --> 164 points\n",
      "label 33: 428 --> 168 points\n",
      "label 68: 897 --> 170 points\n",
      "label 50: 290 --> 170 points\n",
      "label 81: 289 --> 177 points\n",
      "label 35: 917 --> 180 points\n",
      "label 96: 201 --> 181 points\n",
      "label 85: 442 --> 184 points\n",
      "label 6: 917 --> 185 points\n",
      "label 116: 224 --> 196 points\n",
      "label 76: 226 --> 197 points\n",
      "label 66: 913 --> 198 points\n",
      "label 5: 219 --> 201 points\n",
      "label 17: 259 --> 205 points\n",
      "label 84: 260 --> 209 points\n",
      "label 18: 235 --> 209 points\n",
      "label 112: 579 --> 217 points\n",
      "label 44: 230 --> 220 points\n",
      "label 51: 252 --> 224 points\n",
      "label 105: 1289 --> 227 points\n",
      "label 67: 920 --> 231 points\n",
      "label 57: 240 --> 233 points\n",
      "label 61: 250 --> 234 points\n",
      "label 52: 341 --> 238 points\n",
      "label 30: 248 --> 242 points\n",
      "label 9: 256 --> 242 points\n",
      "label 20: 393 --> 248 points\n",
      "label 64: 265 --> 253 points\n",
      "label 89: 279 --> 260 points\n",
      "label 25: 485 --> 263 points\n",
      "label 14: 393 --> 264 points\n",
      "label 118: 274 --> 265 points\n",
      "label 24: 294 --> 284 points\n",
      "label 60: 376 --> 285 points\n",
      "label 75: 301 --> 290 points\n",
      "label 93: 425 --> 290 points\n",
      "label 113: 382 --> 295 points\n",
      "label 95: 328 --> 296 points\n",
      "label 97: 1061 --> 302 points\n",
      "label 74: 318 --> 308 points\n",
      "label 3: 507 --> 335 points\n",
      "label 15: 458 --> 337 points\n",
      "label 7: 1025 --> 337 points\n",
      "label 58: 350 --> 340 points\n",
      "label 88: 385 --> 343 points\n",
      "label 45: 380 --> 350 points\n",
      "label 2: 379 --> 350 points\n",
      "label 109: 485 --> 351 points\n",
      "label 63: 396 --> 362 points\n",
      "label 59: 495 --> 365 points\n",
      "label 36: 374 --> 369 points\n",
      "label 32: 844 --> 370 points\n",
      "label 40: 1032 --> 374 points\n",
      "label 91: 423 --> 378 points\n",
      "label 13: 571 --> 380 points\n",
      "label 22: 1206 --> 382 points\n",
      "label 62: 1425 --> 398 points\n",
      "label 90: 442 --> 419 points\n",
      "label 94: 514 --> 466 points\n",
      "label 43: 780 --> 478 points\n",
      "label 1: 554 --> 488 points\n",
      "label 4: 1024 --> 501 points\n",
      "label 29: 547 --> 514 points\n",
      "label 82: 585 --> 552 points\n",
      "label 56: 600 --> 582 points\n",
      "label 103: 715 --> 602 points\n",
      "label 71: 796 --> 675 points\n",
      "label 92: 689 --> 676 points\n",
      "label 120: 1235 --> 721 points\n",
      "label 65: 878 --> 784 points\n",
      "label 106: 971 --> 797 points\n",
      "label 108: 1133 --> 814 points\n",
      "label 55: 1023 --> 836 points\n",
      "label 34: 885 --> 841 points\n",
      "label 48: 1230 --> 854 points\n",
      "label 37: 1489 --> 1263 points\n",
      "label 0: 100000 --> 100000 points\n"
     ]
    }
   ],
   "source": [
    "before_label_counts = df.label.value_counts()\n",
    "after_label_counts = pruned_df.label.value_counts()\n",
    "\n",
    "cutoff = 0\n",
    "keep = []\n",
    "\n",
    "for i in reversed(list(after_label_counts.index)):\n",
    "    print(f\"label {i}: {before_label_counts.loc[i]} --> {after_label_counts.loc[i]} points\")\n",
    "    \n",
    "    if after_label_counts.loc[i] >= cutoff:\n",
    "        keep.append(i)"
   ]
  },
  {
   "cell_type": "code",
   "execution_count": 15,
   "id": "45ac029d-394d-42ca-b5bb-676be1ab166d",
   "metadata": {},
   "outputs": [
    {
     "data": {
      "text/plain": [
       "265.075"
      ]
     },
     "execution_count": 15,
     "metadata": {},
     "output_type": "execute_result"
    }
   ],
   "source": [
    "after_label_counts.values[1:].mean()"
   ]
  },
  {
   "cell_type": "code",
   "execution_count": 13,
   "id": "f9512dfd-2877-4408-a175-eb04bf48e020",
   "metadata": {},
   "outputs": [
    {
     "data": {
      "image/png": "[encoded data removed]",
      "text/plain": [
       "<Figure size 432x288 with 1 Axes>"
      ]
     },
     "metadata": {
      "needs_background": "light"
     },
     "output_type": "display_data"
    }
   ],
   "source": [
    "sns.kdeplot(after_label_counts.values[1:], shade=True);"
   ]
  },
  {
   "cell_type": "code",
   "execution_count": 14,
   "id": "25e90a91-3a64-45d6-9d63-daa8fe0d381b",
   "metadata": {},
   "outputs": [
    {
     "data": {
      "image/png": "[encoded data removed]",
      "text/plain": [
       "<Figure size 432x288 with 1 Axes>"
      ]
     },
     "metadata": {
      "needs_background": "light"
     },
     "output_type": "display_data"
    }
   ],
   "source": [
    "plt.hist(after_label_counts.values[1:]);"
   ]
  },
  {
   "cell_type": "code",
   "execution_count": 10,
   "id": "289d58e7-5591-46af-b5a9-eb67ee971cd8",
   "metadata": {},
   "outputs": [],
   "source": [
    "pruned_df.to_csv(\n",
    "    f\"/Users/quannguyen/computing/research/diverse_as/data/drug/raw/pruned_{cutoff}.txt\", \n",
    "    index=False, \n",
    "    header=False\n",
    ")"
   ]
  },
  {
   "cell_type": "code",
   "execution_count": 11,
   "id": "65e7cd1b-888f-423f-bac7-03b3d49e21f9",
   "metadata": {},
   "outputs": [],
   "source": [
    "pruned_df.smiles.to_csv(\n",
    "    f\"/Users/quannguyen/computing/research/diverse_as/data/drug/raw/pruned_smiles_{cutoff}.txt\", \n",
    "    index=False, \n",
    "    header=False\n",
    ")"
   ]
  },
  {
   "cell_type": "code",
   "execution_count": 12,
   "id": "5fdf3710-edad-4030-a1ae-2a5243c69df6",
   "metadata": {},
   "outputs": [],
   "source": [
    "pruned_df.label.to_csv(\n",
    "    f\"/Users/quannguyen/computing/research/diverse_as/data/drug/raw/pruned_labels_{cutoff}.txt\", \n",
    "    index=False, \n",
    "    header=False\n",
    ")"
   ]
  },
  {
   "cell_type": "code",
   "execution_count": null,
   "id": "9f3311d3-d180-422b-93a1-fe28e83ad2dc",
   "metadata": {},
   "outputs": [],
   "source": []
  }
 ],
 "metadata": {
  "kernelspec": {
   "display_name": "Python 3 (ipykernel)",
   "language": "python",
   "name": "python3"
  },
  "language_info": {
   "codemirror_mode": {
    "name": "ipython",
    "version": 3
   },
   "file_extension": ".py",
   "mimetype": "text/x-python",
   "name": "python",
   "nbconvert_exporter": "python",
   "pygments_lexer": "ipython3",
   "version": "3.7.0"
  }
 },
 "nbformat": 4,
 "nbformat_minor": 5
}
