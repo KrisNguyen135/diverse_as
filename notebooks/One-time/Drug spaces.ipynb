{
 "cells": [
  {
   "cell_type": "code",
   "execution_count": 1,
   "id": "74656807-574a-4051-9841-1e0f66c4f01a",
   "metadata": {},
   "outputs": [],
   "source": [
    "import os"
   ]
  },
  {
   "cell_type": "code",
   "execution_count": 3,
   "id": "ec73359a-c56a-4222-b601-f8b57807d140",
   "metadata": {},
   "outputs": [
    {
     "data": {
      "text/plain": [
       "(100000, 249455, 62350)"
      ]
     },
     "execution_count": 3,
     "metadata": {},
     "output_type": "execute_result"
    }
   ],
   "source": [
    "basepath = \"../../data/drug/raw\"\n",
    "num_negatives = 100_000\n",
    "\n",
    "with open(os.path.join(basepath, \"smiles.txt\"), \"r\") as f:\n",
    "    lines = f.readlines()\n",
    "    negatives1 = lines[:num_negatives]\n",
    "    positives = lines[num_negatives:]\n",
    "    \n",
    "with open(os.path.join(basepath, \"smiles 2.txt\"), \"r\") as f:\n",
    "    negatives2 = f.readlines()\n",
    "    \n",
    "len(negatives1), len(negatives2), len(positives)"
   ]
  },
  {
   "cell_type": "code",
   "execution_count": 5,
   "id": "f014b220-de72-44e9-9437-fabfd3626f4e",
   "metadata": {},
   "outputs": [
    {
     "data": {
      "text/plain": [
       "(100000, 249455)"
      ]
     },
     "execution_count": 5,
     "metadata": {},
     "output_type": "execute_result"
    }
   ],
   "source": [
    "negative_set1 = set(lines)\n",
    "set2 = set(lines2)\n",
    "\n",
    "len(set1), len(set2)"
   ]
  },
  {
   "cell_type": "code",
   "execution_count": 6,
   "id": "554a6917-f43a-4d20-8b6d-46d48eab0199",
   "metadata": {},
   "outputs": [
    {
     "data": {
      "text/plain": [
       "0"
      ]
     },
     "execution_count": 6,
     "metadata": {},
     "output_type": "execute_result"
    }
   ],
   "source": [
    "len(set1.intersection(set2))"
   ]
  },
  {
   "cell_type": "code",
   "execution_count": null,
   "id": "2f62fcca-fc12-41a2-8f65-81a8259ad109",
   "metadata": {},
   "outputs": [],
   "source": [
    "len"
   ]
  }
 ],
 "metadata": {
  "kernelspec": {
   "display_name": "Python 3 (ipykernel)",
   "language": "python",
   "name": "python3"
  },
  "language_info": {
   "codemirror_mode": {
    "name": "ipython",
    "version": 3
   },
   "file_extension": ".py",
   "mimetype": "text/x-python",
   "name": "python",
   "nbconvert_exporter": "python",
   "pygments_lexer": "ipython3",
   "version": "3.7.0"
  }
 },
 "nbformat": 4,
 "nbformat_minor": 5
}
