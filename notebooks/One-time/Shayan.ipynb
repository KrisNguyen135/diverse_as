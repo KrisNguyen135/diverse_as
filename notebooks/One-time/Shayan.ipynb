{
 "cells": [
  {
   "cell_type": "code",
   "execution_count": 1,
   "id": "c4c82305-c368-44c9-8e21-d49972ee65bc",
   "metadata": {},
   "outputs": [],
   "source": [
    "import numpy as np\n",
    "from scipy.io import loadmat"
   ]
  },
  {
   "cell_type": "code",
   "execution_count": 2,
   "id": "5ecbb979-b8d3-49a1-ba70-92aa993b3e0e",
   "metadata": {},
   "outputs": [],
   "source": [
    "data = loadmat(\"../../data/drug/precomputed/morgan_10_1_morgan_nearest_neighbors.mat\")\n",
    "labels = data[\"labels\"]\n",
    "nearest_neighbors = data[\"nearest_neighbors\"]\n",
    "similarities = data[\"similarities\"]"
   ]
  },
  {
   "cell_type": "code",
   "execution_count": 3,
   "id": "5bd4ff6b-780b-4f57-b1be-20a8ae3050f6",
   "metadata": {},
   "outputs": [
    {
     "name": "stdout",
     "output_type": "stream",
     "text": [
      "(52887, 500)\n"
     ]
    },
    {
     "data": {
      "text/plain": [
       "array([[19513, 34500, 27268, ..., 14362,  4560,  1171],\n",
       "       [28817, 27273,  6857, ..., 16235, 17994,  1871],\n",
       "       [ 2888, 28371,  7901, ..., 39527, 41205, 19735],\n",
       "       ...,\n",
       "       [52884, 52878, 52883, ...,  7069,  9172,  3058],\n",
       "       [52878, 52879, 52880, ..., 23586,   800, 12678],\n",
       "       [52878, 52881, 52879, ...,  7414, 43608, 28660]], dtype=uint16)"
      ]
     },
     "execution_count": 3,
     "metadata": {},
     "output_type": "execute_result"
    }
   ],
   "source": [
    "print(nearest_neighbors.shape)\n",
    "nearest_neighbors"
   ]
  },
  {
   "cell_type": "code",
   "execution_count": 4,
   "id": "0a2e6480-c369-493b-8ad2-aab2f44dfdc5",
   "metadata": {},
   "outputs": [
    {
     "name": "stdout",
     "output_type": "stream",
     "text": [
      "(52887, 500)\n"
     ]
    },
    {
     "data": {
      "text/plain": [
       "array([[0.67857143, 0.55223881, 0.54411765, ..., 0.25974026, 0.25974026,\n",
       "        0.25974026],\n",
       "       [0.61538462, 0.58181818, 0.41269841, ..., 0.20547945, 0.20547945,\n",
       "        0.20547945],\n",
       "       [0.63636364, 0.58024691, 0.46428571, ..., 0.24210526, 0.24210526,\n",
       "        0.24210526],\n",
       "       ...,\n",
       "       [0.98      , 0.74545455, 0.71929825, ..., 0.2       , 0.2       ,\n",
       "        0.2       ],\n",
       "       [0.77083333, 0.76595745, 0.69387755, ..., 0.19402985, 0.19402985,\n",
       "        0.19402985],\n",
       "       [0.84      , 0.72222222, 0.69811321, ..., 0.20238095, 0.20224719,\n",
       "        0.20212766]])"
      ]
     },
     "execution_count": 4,
     "metadata": {},
     "output_type": "execute_result"
    }
   ],
   "source": [
    "print(similarities.shape)\n",
    "similarities"
   ]
  },
  {
   "cell_type": "code",
   "execution_count": 5,
   "id": "13bf9309-67d6-45cd-b2bc-2f1f027daf84",
   "metadata": {},
   "outputs": [
    {
     "name": "stdout",
     "output_type": "stream",
     "text": [
      "label 1: 50000 instances\n",
      "label 2: 488 instances\n",
      "label 3: 84 instances\n",
      "label 4: 209 instances\n",
      "label 5: 382 instances\n",
      "label 6: 369 instances\n",
      "label 7: 374 instances\n",
      "label 8: 350 instances\n",
      "label 9: 224 instances\n",
      "label 10: 285 instances\n",
      "label 11: 122 instances\n"
     ]
    }
   ],
   "source": [
    "unique_labels, label_counts = np.unique(labels, return_counts=True)\n",
    "\n",
    "for l, c in zip(unique_labels, label_counts):\n",
    "    print(f\"label {l}: {c} instances\")"
   ]
  },
  {
   "cell_type": "code",
   "execution_count": 7,
   "id": "a04b5e83-a9d8-4e90-81ec-22d84ecbf50c",
   "metadata": {},
   "outputs": [
    {
     "data": {
      "text/plain": [
       "52887"
      ]
     },
     "execution_count": 7,
     "metadata": {},
     "output_type": "execute_result"
    }
   ],
   "source": [
    "label_counts.sum()"
   ]
  },
  {
   "cell_type": "code",
   "execution_count": null,
   "id": "261c8ed8-6335-4711-9155-09bbf970f031",
   "metadata": {},
   "outputs": [],
   "source": []
  }
 ],
 "metadata": {
  "kernelspec": {
   "display_name": "Python 3 (ipykernel)",
   "language": "python",
   "name": "python3"
  },
  "language_info": {
   "codemirror_mode": {
    "name": "ipython",
    "version": 3
   },
   "file_extension": ".py",
   "mimetype": "text/x-python",
   "name": "python",
   "nbconvert_exporter": "python",
   "pygments_lexer": "ipython3",
   "version": "3.7.0"
  }
 },
 "nbformat": 4,
 "nbformat_minor": 5
}
