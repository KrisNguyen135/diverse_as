{
 "cells": [
  {
   "cell_type": "code",
   "execution_count": 1,
   "id": "45f9a87c-5e78-44e0-8ac5-b25cddd90e57",
   "metadata": {},
   "outputs": [],
   "source": [
    "import numpy as np\n",
    "import faiss\n",
    "\n",
    "from scipy.spatial import distance_matrix\n",
    "from scipy.io import savemat\n",
    "\n",
    "import matplotlib.pyplot as plt\n",
    "import seaborn as sns\n",
    "import vapeplot\n",
    "vapeplot.set_palette('vaporwave')"
   ]
  },
  {
   "cell_type": "code",
   "execution_count": 2,
   "id": "ae395e5f-8117-4e4d-ba2f-8bcadd0cc19b",
   "metadata": {
    "scrolled": true,
    "tags": []
   },
   "outputs": [],
   "source": [
    "num_points = 50\n",
    "\n",
    "centers = np.array([\n",
    "    [0.5, 0.5],\n",
    "    [0, 0],\n",
    "    [0, 1],\n",
    "    [1, 0],\n",
    "    [1, 1]\n",
    "])\n",
    "\n",
    "r = 0.25\n",
    "\n",
    "np.random.seed(0)\n",
    "xs = np.random.rand(num_points, 2).astype(np.float32)\n",
    "\n",
    "# process labels\n",
    "d = distance_matrix(xs, centers)\n",
    "onehot = d < r\n",
    "onehot = np.hstack([((d < 0.25).sum(axis=1) == 0).reshape(-1, 1), onehot])\n",
    "labels = np.argmax(onehot.astype(int), axis=1) + 1"
   ]
  },
  {
   "cell_type": "code",
   "execution_count": 3,
   "id": "12ad07bc-8358-42b5-84af-1502fbfbc4b7",
   "metadata": {},
   "outputs": [
    {
     "data": {
      "image/png": "[encoded data removed]",
      "text/plain": [
       "<Figure size 576x576 with 2 Axes>"
      ]
     },
     "metadata": {
      "needs_background": "light"
     },
     "output_type": "display_data"
    }
   ],
   "source": [
    "fig, ax = plt.subplots(figsize=(8, 8))\n",
    "c = ax.scatter(xs[:, 0], xs[:, 1], cmap='BuPu', c=labels, edgecolors='grey')\n",
    "\n",
    "ax.set_aspect('equal', 'box')\n",
    "plt.colorbar(c);"
   ]
  },
  {
   "cell_type": "code",
   "execution_count": 4,
   "id": "78522e87-7972-4eed-9445-245e6a25ce09",
   "metadata": {},
   "outputs": [],
   "source": [
    "k = 3\n",
    "\n",
    "index = faiss.IndexFlatL2(2)\n",
    "index.add(xs)\n",
    "\n",
    "dists, nns = index.search(xs, k + 1)\n",
    "dists = dists[:, 1:]\n",
    "sims = np.exp(-dists)\n",
    "nns = nns[:, 1:] + 1"
   ]
  },
  {
   "cell_type": "code",
   "execution_count": 5,
   "id": "7674bce8-3ee8-4436-bd80-e818f56f321a",
   "metadata": {
    "scrolled": true,
    "tags": []
   },
   "outputs": [
    {
     "data": {
      "text/plain": [
       "array([[0.98817396, 0.98643416, 0.9842279 ],\n",
       "       [0.9947354 , 0.9877196 , 0.98028624],\n",
       "       [0.99296874, 0.98855984, 0.9806326 ],\n",
       "       [0.98713744, 0.98200077, 0.97965854],\n",
       "       [0.9926032 , 0.951999  , 0.9505454 ],\n",
       "       [0.9649241 , 0.96467674, 0.9629477 ],\n",
       "       [0.99992394, 0.98200077, 0.96811855],\n",
       "       [0.9917615 , 0.9790579 , 0.975795  ],\n",
       "       [0.9786599 , 0.97436035, 0.9726634 ],\n",
       "       [0.9565678 , 0.95580137, 0.95386136],\n",
       "       [0.9851274 , 0.9629431 , 0.95580137],\n",
       "       [0.98817396, 0.98713744, 0.9806326 ],\n",
       "       [0.99432486, 0.9939973 , 0.98965997],\n",
       "       [0.9726634 , 0.95720464, 0.9490692 ],\n",
       "       [0.9970936 , 0.9767694 , 0.9760074 ],\n",
       "       [0.9857734 , 0.9792407 , 0.96192515],\n",
       "       [0.99296874, 0.97819126, 0.9737446 ],\n",
       "       [0.9923714 , 0.98965997, 0.9777405 ],\n",
       "       [0.9947354 , 0.9941441 , 0.98643416],\n",
       "       [0.9930096 , 0.9851274 , 0.9545671 ],\n",
       "       [0.99775976, 0.99270767, 0.9737446 ],\n",
       "       [0.9978266 , 0.9922469 , 0.9861402 ],\n",
       "       [0.9941441 , 0.9842279 , 0.98028624],\n",
       "       [0.9989496 , 0.997017  , 0.9946926 ],\n",
       "       [0.99744123, 0.99270767, 0.9859502 ],\n",
       "       [0.9970936 , 0.9877196 , 0.9705784 ],\n",
       "       [0.9775907 , 0.97234875, 0.9657057 ],\n",
       "       [0.9989496 , 0.9949278 , 0.9930603 ],\n",
       "       [0.9923991 , 0.9868272 , 0.96563256],\n",
       "       [0.98955727, 0.97444457, 0.9684438 ],\n",
       "       [0.997017  , 0.9949278 , 0.9917615 ],\n",
       "       [0.9922469 , 0.9868272 , 0.9834603 ],\n",
       "       [0.9859502 , 0.98332864, 0.9692715 ],\n",
       "       [0.9997115 , 0.9914348 , 0.99001646],\n",
       "       [0.9997115 , 0.99159974, 0.98710704],\n",
       "       [0.9926032 , 0.9816222 , 0.9629477 ],\n",
       "       [0.9930096 , 0.9816222 , 0.9629431 ],\n",
       "       [0.9978266 , 0.99081093, 0.99001646],\n",
       "       [0.99982005, 0.9959961 , 0.9946926 ],\n",
       "       [0.99982005, 0.9958079 , 0.9925693 ],\n",
       "       [0.99775976, 0.99744123, 0.98332864],\n",
       "       [0.99486756, 0.99432486, 0.9923714 ],\n",
       "       [0.9923991 , 0.98955727, 0.97605854],\n",
       "       [0.9905908 , 0.98052406, 0.97444457],\n",
       "       [0.99992394, 0.97965854, 0.965379  ],\n",
       "       [0.98855984, 0.9857734 , 0.97168356],\n",
       "       [0.99486756, 0.9939973 , 0.9792407 ],\n",
       "       [0.9959961 , 0.9958079 , 0.9930603 ],\n",
       "       [0.9905908 , 0.9861402 , 0.98135966],\n",
       "       [0.99159974, 0.9914348 , 0.99081093]], dtype=float32)"
      ]
     },
     "execution_count": 5,
     "metadata": {},
     "output_type": "execute_result"
    }
   ],
   "source": [
    "sims"
   ]
  },
  {
   "cell_type": "code",
   "execution_count": 6,
   "id": "ab8e387c-c25e-4047-ac6a-ef74f324408d",
   "metadata": {
    "scrolled": true,
    "tags": []
   },
   "outputs": [
    {
     "data": {
      "text/plain": [
       "array([[12, 19, 23],\n",
       "       [19, 26, 23],\n",
       "       [17, 46, 12],\n",
       "       [12,  7, 45],\n",
       "       [36, 37,  6],\n",
       "       [23,  2, 36],\n",
       "       [45,  4, 12],\n",
       "       [31, 24, 28],\n",
       "       [42, 47, 14],\n",
       "       [45, 11,  7],\n",
       "       [20, 37, 10],\n",
       "       [ 1,  4,  3],\n",
       "       [42, 47, 18],\n",
       "       [ 9, 16, 47],\n",
       "       [26,  2, 43],\n",
       "       [46, 47, 12],\n",
       "       [ 3,  2, 21],\n",
       "       [42, 13, 47],\n",
       "       [ 2, 23,  1],\n",
       "       [37, 11,  6],\n",
       "       [41, 25, 17],\n",
       "       [38, 32, 49],\n",
       "       [19,  1,  2],\n",
       "       [28, 31, 39],\n",
       "       [41, 21, 33],\n",
       "       [15,  2, 17],\n",
       "       [35, 34, 50],\n",
       "       [24, 31, 48],\n",
       "       [43, 32, 30],\n",
       "       [43, 44, 15],\n",
       "       [24, 28,  8],\n",
       "       [22, 29, 38],\n",
       "       [25, 41, 21],\n",
       "       [35, 50, 38],\n",
       "       [34, 50, 38],\n",
       "       [ 5, 37,  6],\n",
       "       [20, 36, 11],\n",
       "       [22, 50, 34],\n",
       "       [40, 48, 24],\n",
       "       [39, 48, 24],\n",
       "       [21, 25, 33],\n",
       "       [47, 13, 18],\n",
       "       [29, 30, 32],\n",
       "       [49, 32, 30],\n",
       "       [ 7,  4, 12],\n",
       "       [ 3, 16, 17],\n",
       "       [42, 13, 16],\n",
       "       [39, 40, 28],\n",
       "       [44, 22, 32],\n",
       "       [35, 34, 38]])"
      ]
     },
     "execution_count": 6,
     "metadata": {},
     "output_type": "execute_result"
    }
   ],
   "source": [
    "nns"
   ]
  },
  {
   "cell_type": "code",
   "execution_count": 7,
   "id": "53722cdf-5865-4e43-940c-625be6eb5447",
   "metadata": {},
   "outputs": [
    {
     "data": {
      "image/png": "[encoded data removed]",
      "text/plain": [
       "<Figure size 432x288 with 1 Axes>"
      ]
     },
     "metadata": {
      "needs_background": "light"
     },
     "output_type": "display_data"
    }
   ],
   "source": [
    "sns.kdeplot(sims.flatten(), shade=True);"
   ]
  },
  {
   "cell_type": "code",
   "execution_count": 8,
   "id": "c967e45c-7d47-4837-a721-65c3dac44e36",
   "metadata": {},
   "outputs": [],
   "source": [
    "if num_points > 50:\n",
    "    savemat(\n",
    "        '../../data/square/square_nearest_neighbors.mat',\n",
    "        {\n",
    "            'nearest_neighbors': nns, \n",
    "            'similarities': sims, \n",
    "            'x': xs, \n",
    "            'labels': labels.reshape(-1, 1)\n",
    "        }\n",
    "    )\n",
    "else:\n",
    "    savemat(\n",
    "        '../../data/square_small/square_small_nearest_neighbors.mat',\n",
    "        {\n",
    "            'nearest_neighbors': nns, \n",
    "            'similarities': sims, \n",
    "            'x': xs, \n",
    "            'labels': labels.reshape(-1, 1)\n",
    "        }\n",
    "    )"
   ]
  },
  {
   "cell_type": "code",
   "execution_count": 9,
   "id": "9a6a27f9-d49f-4bf4-8955-3959830ad681",
   "metadata": {},
   "outputs": [
    {
     "name": "stdout",
     "output_type": "stream",
     "text": [
      "1 0.54\n",
      "2 0.26\n",
      "3 0.06\n",
      "4 0.04\n",
      "5 0.08\n",
      "6 0.02\n"
     ]
    }
   ],
   "source": [
    "for label in range(1, 7):\n",
    "    print(label, (labels == label).sum() / labels.size)"
   ]
  },
  {
   "cell_type": "code",
   "execution_count": null,
   "id": "c592d5c8-32e9-4665-96b7-6f56f905bf6f",
   "metadata": {},
   "outputs": [],
   "source": []
  }
 ],
 "metadata": {
  "kernelspec": {
   "display_name": "Python 3 (ipykernel)",
   "language": "python",
   "name": "python3"
  },
  "language_info": {
   "codemirror_mode": {
    "name": "ipython",
    "version": 3
   },
   "file_extension": ".py",
   "mimetype": "text/x-python",
   "name": "python",
   "nbconvert_exporter": "python",
   "pygments_lexer": "ipython3",
   "version": "3.7.0"
  }
 },
 "nbformat": 4,
 "nbformat_minor": 5
}
