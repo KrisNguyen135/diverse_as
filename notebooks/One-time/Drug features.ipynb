{
 "cells": [
  {
   "cell_type": "code",
   "execution_count": 1,
   "id": "58b67399-ae09-4862-b7c3-0ddec40c5993",
   "metadata": {},
   "outputs": [],
   "source": [
    "import os\n",
    "import numpy as np"
   ]
  },
  {
   "cell_type": "code",
   "execution_count": null,
   "id": "85d9801d-b25d-4587-a4f6-658f236b99ef",
   "metadata": {},
   "outputs": [],
   "source": [
    "fingerprint = \"ecfp4\"\n",
    "\n",
    "basepath = \"/Users/quannguyen/computing/research/diverse_as/data/drug/processed\"\n",
    "\n",
    "filename = os.path.join(basepath, fingerprint, \"features\")\n",
    "\n",
    "onehot = np.loadtxt(filename, delimiter=\" \", dtype=int)\n",
    "onehot"
   ]
  },
  {
   "cell_type": "code",
   "execution_count": null,
   "id": "087fe7d9-d1f6-4b75-bd48-d0dd9b607f59",
   "metadata": {},
   "outputs": [],
   "source": []
  }
 ],
 "metadata": {
  "kernelspec": {
   "display_name": "Python 3 (ipykernel)",
   "language": "python",
   "name": "python3"
  },
  "language_info": {
   "codemirror_mode": {
    "name": "ipython",
    "version": 3
   },
   "file_extension": ".py",
   "mimetype": "text/x-python",
   "name": "python",
   "nbconvert_exporter": "python",
   "pygments_lexer": "ipython3",
   "version": "3.7.0"
  }
 },
 "nbformat": 4,
 "nbformat_minor": 5
}
