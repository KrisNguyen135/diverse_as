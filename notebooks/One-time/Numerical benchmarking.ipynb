{
 "cells": [
  {
   "cell_type": "code",
   "execution_count": 1,
   "id": "e5c0b3aa-ca12-4492-af4b-a6b16b47c219",
   "metadata": {},
   "outputs": [],
   "source": [
    "import numpy as np\n",
    "from scipy.special import comb\n",
    "\n",
    "import matplotlib.pyplot as plt"
   ]
  },
  {
   "cell_type": "markdown",
   "id": "cfcee4ad-7526-4909-8ba7-c1c09aee0b9f",
   "metadata": {},
   "source": [
    "# combinatoric terms"
   ]
  },
  {
   "cell_type": "code",
   "execution_count": null,
   "id": "3eeba027-d676-400a-8d4a-6a2257477185",
   "metadata": {},
   "outputs": [],
   "source": [
    "m_limit = 10000000\n",
    "m = np.arange(1, m_limit + 1)\n",
    "c = np.sqrt(m) / 2\n",
    "B = m ** 2\n",
    "p = 1 - (1 / 2) ** (1 / c)"
   ]
  },
  {
   "cell_type": "markdown",
   "id": "c60bf9f9-6109-48c2-bdf4-a376c498214f",
   "metadata": {},
   "source": [
    "# jensen's upperbound"
   ]
  },
  {
   "cell_type": "code",
   "execution_count": 10,
   "id": "3d2f8ec4-f08c-4218-aa41-e8bc208bbc80",
   "metadata": {},
   "outputs": [],
   "source": [
    "# c_limit = 100\n",
    "\n",
    "# c = np.arange(1, c_limit + 1)\n",
    "# m = (2 * c) ** 2\n",
    "# B = m ** 2\n",
    "# p = 1 - (1 / 2) ** (1 / c)\n",
    "\n",
    "m_limit = 10000000\n",
    "m = np.arange(1, m_limit + 1)\n",
    "c = np.sqrt(m) / 2\n",
    "B = m ** 2\n",
    "p = 1 - (1 / 2) ** (1 / c)"
   ]
  },
  {
   "cell_type": "code",
   "execution_count": 12,
   "id": "e5b5bcca-da1c-4eed-9b3a-59fc440241d8",
   "metadata": {},
   "outputs": [
    {
     "data": {
      "image/png": "[encoded data removed]",
      "text/plain": [
       "<Figure size 432x288 with 1 Axes>"
      ]
     },
     "metadata": {
      "needs_background": "light"
     },
     "output_type": "display_data"
    }
   ],
   "source": [
    "ratio = np.log(1 + B * p) / np.log(1 + B)\n",
    "\n",
    "plt.plot(m, ratio);"
   ]
  },
  {
   "cell_type": "code",
   "execution_count": null,
   "id": "14701675-0738-4c05-ab80-6b61da131590",
   "metadata": {},
   "outputs": [],
   "source": []
  }
 ],
 "metadata": {
  "kernelspec": {
   "display_name": "Python 3 (ipykernel)",
   "language": "python",
   "name": "python3"
  },
  "language_info": {
   "codemirror_mode": {
    "name": "ipython",
    "version": 3
   },
   "file_extension": ".py",
   "mimetype": "text/x-python",
   "name": "python",
   "nbconvert_exporter": "python",
   "pygments_lexer": "ipython3",
   "version": "3.7.0"
  }
 },
 "nbformat": 4,
 "nbformat_minor": 5
}
