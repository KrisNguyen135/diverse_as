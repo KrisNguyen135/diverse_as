{
 "cells": [
  {
   "cell_type": "code",
   "execution_count": 1,
   "id": "7295180b-cdc2-4bf5-a09a-e20cd97dc58d",
   "metadata": {},
   "outputs": [],
   "source": [
    "import numpy as np\n",
    "\n",
    "import faiss"
   ]
  },
  {
   "cell_type": "code",
   "execution_count": 2,
   "id": "ad7cd5a2-b101-4ed9-941e-3a5818678795",
   "metadata": {},
   "outputs": [
    {
     "name": "stdout",
     "output_type": "stream",
     "text": [
      "(70000, 10)\n"
     ]
    },
    {
     "data": {
      "text/plain": [
       "array([[ 1.0809438 ,  4.5842113 ,  8.188814  , ...,  4.3815236 ,\n",
       "         4.5348864 ,  3.8039389 ],\n",
       "       [10.242349  ,  1.8976094 ,  5.18953   , ...,  5.2431035 ,\n",
       "         3.8557544 ,  3.9528236 ],\n",
       "       [10.297947  ,  3.2953832 ,  5.1501646 , ...,  5.2841597 ,\n",
       "         3.912732  ,  4.7057314 ],\n",
       "       ...,\n",
       "       [ 9.052287  ,  2.36858   ,  5.025304  , ...,  5.19613   ,\n",
       "         3.960764  ,  4.592086  ],\n",
       "       [10.50785   , 10.595664  ,  4.872868  , ...,  5.2744155 ,\n",
       "         3.4071124 ,  3.2184975 ],\n",
       "       [ 0.59059334,  4.7471175 ,  3.3372943 , ...,  5.6807604 ,\n",
       "         4.609006  ,  3.4885309 ]], dtype=float32)"
      ]
     },
     "execution_count": 2,
     "metadata": {},
     "output_type": "execute_result"
    }
   ],
   "source": [
    "embedding = np.load(\"./data/embedding_10.npy\")\n",
    "\n",
    "print(embedding.shape)\n",
    "embedding"
   ]
  },
  {
   "cell_type": "code",
   "execution_count": 3,
   "id": "ed982e48-186c-47b3-998b-06f0d067b532",
   "metadata": {},
   "outputs": [
    {
     "name": "stdout",
     "output_type": "stream",
     "text": [
      "(70000,)\n"
     ]
    },
    {
     "data": {
      "text/plain": [
       "array([9, 0, 0, ..., 8, 1, 5])"
      ]
     },
     "execution_count": 3,
     "metadata": {},
     "output_type": "execute_result"
    }
   ],
   "source": [
    "labels = np.load(\"./data/labels.npy\")\n",
    "\n",
    "print(labels.shape)\n",
    "labels"
   ]
  },
  {
   "cell_type": "code",
   "execution_count": 4,
   "id": "6867c3aa-5edf-4a2d-8b78-bf51281bfcb5",
   "metadata": {},
   "outputs": [],
   "source": [
    "# pick one\n",
    "# target_labels = [0, 2, 6]  # tops\n",
    "target_labels = [5, 7, 9]  # footwear"
   ]
  },
  {
   "cell_type": "code",
   "execution_count": 5,
   "id": "bdf4ed7e-127a-4b05-82de-6636c42a52f0",
   "metadata": {},
   "outputs": [],
   "source": [
    "# re-label the data points\n",
    "new_labels = np.zeros_like(labels)\n",
    "for i, target in enumerate(target_labels):\n",
    "    mask = (labels == target)\n",
    "    new_labels[mask] = i + 1"
   ]
  },
  {
   "cell_type": "code",
   "execution_count": 6,
   "id": "e1365f83-55ac-45cb-a5ec-5e9fff8ebe62",
   "metadata": {},
   "outputs": [
    {
     "data": {
      "text/plain": [
       "((51100,), (51100, 10))"
      ]
     },
     "execution_count": 6,
     "metadata": {},
     "output_type": "execute_result"
    }
   ],
   "source": [
    "# sub-sample the targets\n",
    "prevalence = 0.01\n",
    "num_positives = int(labels.size * prevalence * len(target_labels))  # doesn't actually give exact prevalence\n",
    "\n",
    "negative_mask = (new_labels == 0)\n",
    "negative_ind = np.where(negative_mask)[0]\n",
    "positive_ind = np.where(~negative_mask)[0]\n",
    "\n",
    "np.random.seed(0)\n",
    "to_keep = np.concatenate(\n",
    "    [\n",
    "        negative_ind, \n",
    "        np.random.choice(positive_ind, size=num_positives, replace=False)\n",
    "    ]\n",
    ")\n",
    "\n",
    "new_labels = new_labels[to_keep]\n",
    "embedding = embedding[to_keep]\n",
    "\n",
    "new_labels.shape, embedding.shape"
   ]
  },
  {
   "cell_type": "code",
   "execution_count": 7,
   "id": "09535d6a-6528-404a-adeb-7cc9f07bd5af",
   "metadata": {},
   "outputs": [],
   "source": [
    "k = 500\n",
    "\n",
    "embedding = embedding.copy(order=\"C\").astype(np.float32)\n",
    "embedding -= embedding.mean(axis=0)\n",
    "\n",
    "index = faiss.IndexFlatL2(embedding.shape[1])\n",
    "index.add(embedding)\n",
    "\n",
    "sq_distances, nearest_neighbors = index.search(embedding, k + 1)"
   ]
  },
  {
   "cell_type": "code",
   "execution_count": 8,
   "id": "5668003f-b345-43fb-92ef-3d04f1557ee4",
   "metadata": {},
   "outputs": [
    {
     "data": {
      "text/plain": [
       "array([[    0, 22018, 26175, ..., 17837, 10626, 24903],\n",
       "       [    1, 28108, 37210, ..., 48028, 43639, 32450],\n",
       "       [    2, 10818, 23250, ..., 32839, 45373, 40296],\n",
       "       ...,\n",
       "       [51097, 49858, 49720, ..., 49469, 49846, 50894],\n",
       "       [51098,  3960, 51080, ..., 51008, 49741, 49191],\n",
       "       [51099, 50344, 49833, ..., 50180, 50465, 49616]])"
      ]
     },
     "execution_count": 8,
     "metadata": {},
     "output_type": "execute_result"
    }
   ],
   "source": [
    "nearest_neighbors"
   ]
  },
  {
   "cell_type": "code",
   "execution_count": 9,
   "id": "c28bd932-5475-478c-89fe-e47039321e23",
   "metadata": {},
   "outputs": [
    {
     "name": "stdout",
     "output_type": "stream",
     "text": [
      "0.0007124537\n"
     ]
    },
    {
     "data": {
      "text/plain": [
       "array([[1.        , 0.99529237, 0.99514043, ..., 0.83368146, 0.83366877,\n",
       "        0.83366555],\n",
       "       [0.99999815, 0.99900866, 0.9982268 , ..., 0.6645135 , 0.6645028 ,\n",
       "        0.66423035],\n",
       "       [1.        , 0.99930984, 0.99891144, ..., 0.58166945, 0.58061975,\n",
       "        0.5803042 ],\n",
       "       ...,\n",
       "       [0.99998474, 0.96465933, 0.9535226 , ..., 0.02088873, 0.02085115,\n",
       "        0.02029059],\n",
       "       [0.99998474, 0.9881838 , 0.9743936 , ..., 0.17039986, 0.17007515,\n",
       "        0.16999212],\n",
       "       [1.        , 0.99652714, 0.99616224, ..., 0.03699579, 0.03689544,\n",
       "        0.03663849]], dtype=float32)"
      ]
     },
     "execution_count": 9,
     "metadata": {},
     "output_type": "execute_result"
    }
   ],
   "source": [
    "# similarities = 1 / (1 + sq_distances)\n",
    "similarities = np.exp(- sq_distances)\n",
    "\n",
    "print(similarities.min())\n",
    "similarities"
   ]
  },
  {
   "cell_type": "code",
   "execution_count": 10,
   "id": "34da9c78-3870-4fa0-aa30-643d25b73ad2",
   "metadata": {},
   "outputs": [],
   "source": [
    "from scipy.io import savemat\n",
    "\n",
    "savemat(\n",
    "    \"fashion_footwear_nearest_neighbors_500.mat\",\n",
    "    {\n",
    "        \"labels\": new_labels + 1,\n",
    "        \"nearest_neighbors\": nearest_neighbors[:, 1:] + 1,\n",
    "        \"similarities\": similarities[:, 1:],\n",
    "    },\n",
    ")"
   ]
  },
  {
   "cell_type": "code",
   "execution_count": null,
   "id": "6198b368-2ef6-419b-bb8d-ed8500aab006",
   "metadata": {},
   "outputs": [],
   "source": []
  }
 ],
 "metadata": {
  "kernelspec": {
   "display_name": "Python 3 (ipykernel)",
   "language": "python",
   "name": "python3"
  },
  "language_info": {
   "codemirror_mode": {
    "name": "ipython",
    "version": 3
   },
   "file_extension": ".py",
   "mimetype": "text/x-python",
   "name": "python",
   "nbconvert_exporter": "python",
   "pygments_lexer": "ipython3",
   "version": "3.7.0"
  }
 },
 "nbformat": 4,
 "nbformat_minor": 5
}
