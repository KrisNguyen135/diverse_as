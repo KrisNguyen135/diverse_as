{
 "cells": [
  {
   "cell_type": "code",
   "execution_count": 1,
   "id": "0e5b5823-67f0-40eb-ae09-56d9e6b39af4",
   "metadata": {},
   "outputs": [],
   "source": [
    "import numpy as np\n",
    "\n",
    "import faiss"
   ]
  },
  {
   "cell_type": "code",
   "execution_count": 2,
   "id": "ca3a1c78-b8bd-4054-8837-05f8b6bcfdb5",
   "metadata": {},
   "outputs": [
    {
     "name": "stdout",
     "output_type": "stream",
     "text": [
      "(70000, 10)\n"
     ]
    },
    {
     "data": {
      "text/plain": [
       "array([[ 1.0809438 ,  4.5842113 ,  8.188814  , ...,  4.3815236 ,\n",
       "         4.5348864 ,  3.8039389 ],\n",
       "       [10.242349  ,  1.8976094 ,  5.18953   , ...,  5.2431035 ,\n",
       "         3.8557544 ,  3.9528236 ],\n",
       "       [10.297947  ,  3.2953832 ,  5.1501646 , ...,  5.2841597 ,\n",
       "         3.912732  ,  4.7057314 ],\n",
       "       ...,\n",
       "       [ 9.052287  ,  2.36858   ,  5.025304  , ...,  5.19613   ,\n",
       "         3.960764  ,  4.592086  ],\n",
       "       [10.50785   , 10.595664  ,  4.872868  , ...,  5.2744155 ,\n",
       "         3.4071124 ,  3.2184975 ],\n",
       "       [ 0.59059334,  4.7471175 ,  3.3372943 , ...,  5.6807604 ,\n",
       "         4.609006  ,  3.4885309 ]], dtype=float32)"
      ]
     },
     "execution_count": 2,
     "metadata": {},
     "output_type": "execute_result"
    }
   ],
   "source": [
    "embedding = np.load(\"./data/embedding_10.npy\")\n",
    "\n",
    "print(embedding.shape)\n",
    "embedding"
   ]
  },
  {
   "cell_type": "code",
   "execution_count": 3,
   "id": "8109acc9-a037-4320-a60b-69d0ee0b3d4f",
   "metadata": {},
   "outputs": [],
   "source": [
    "k = 500\n",
    "\n",
    "embedding = embedding.copy(order=\"C\").astype(np.float32)\n",
    "embedding -= embedding.mean(axis=0)\n",
    "\n",
    "index = faiss.IndexFlatL2(embedding.shape[1])\n",
    "index.add(embedding)\n",
    "\n",
    "sq_distances, nearest_neighbors = index.search(embedding, k + 1)"
   ]
  },
  {
   "cell_type": "code",
   "execution_count": 4,
   "id": "c9626828-e089-4adb-9a82-193ff8d28981",
   "metadata": {},
   "outputs": [
    {
     "data": {
      "text/plain": [
       "array([[    0, 10263, 19633, ..., 33110,  6610, 56310],\n",
       "       [    1, 31493, 37439, ..., 25501, 15193,  1843],\n",
       "       [    2, 40206, 53194, ..., 68008, 68626, 62329],\n",
       "       ...,\n",
       "       [69997, 27238, 66440, ..., 67091, 62004, 41057],\n",
       "       [69998, 63769, 32988, ..., 52097, 48434, 48109],\n",
       "       [69999, 21067, 21505, ..., 50867, 65201, 40145]])"
      ]
     },
     "execution_count": 4,
     "metadata": {},
     "output_type": "execute_result"
    }
   ],
   "source": [
    "nearest_neighbors"
   ]
  },
  {
   "cell_type": "code",
   "execution_count": 9,
   "id": "d80cafda-9b44-4958-98ad-2f1067b098a0",
   "metadata": {},
   "outputs": [
    {
     "name": "stdout",
     "output_type": "stream",
     "text": [
      "0.016716577\n"
     ]
    },
    {
     "data": {
      "text/plain": [
       "array([[1.        , 0.9930813 , 0.9928313 , ..., 0.93655777, 0.936072  ,\n",
       "        0.9349158 ],\n",
       "       [0.9999923 , 0.99528855, 0.99513674, ..., 0.9493778 , 0.9493778 ,\n",
       "        0.94934875],\n",
       "       [1.        , 0.99900866, 0.99822575, ..., 0.91397464, 0.9139729 ,\n",
       "        0.9139328 ],\n",
       "       ...,\n",
       "       [0.9999962 , 0.99970627, 0.9939795 , ..., 0.934053  , 0.9324439 ,\n",
       "        0.93127084],\n",
       "       [1.        , 0.99964917, 0.9992983 , ..., 0.9602683 , 0.96000457,\n",
       "        0.9599899 ],\n",
       "       [0.9999923 , 0.9950608 , 0.99497724, ..., 0.930298  , 0.92980117,\n",
       "        0.929702  ]], dtype=float32)"
      ]
     },
     "execution_count": 9,
     "metadata": {},
     "output_type": "execute_result"
    }
   ],
   "source": [
    "# similarities = 1 / (1 + sq_distances)\n",
    "similarities = np.exp(- sq_distances)\n",
    "\n",
    "print(similarities.min())\n",
    "similarities[:, :100]"
   ]
  },
  {
   "cell_type": "code",
   "execution_count": 10,
   "id": "cc94f83e-c43f-455f-931c-a152ab5a0d21",
   "metadata": {},
   "outputs": [
    {
     "data": {
      "text/plain": [
       "array([9, 0, 0, ..., 8, 1, 5])"
      ]
     },
     "execution_count": 10,
     "metadata": {},
     "output_type": "execute_result"
    }
   ],
   "source": [
    "labels = np.load(\"./data/labels.npy\")\n",
    "labels"
   ]
  },
  {
   "cell_type": "code",
   "execution_count": 11,
   "id": "8efceaf6-8518-4557-9469-0c93bcf6b82b",
   "metadata": {},
   "outputs": [],
   "source": [
    "from scipy.io import savemat\n",
    "\n",
    "savemat(\n",
    "    \"fashion_nearest_neighbors_500.mat\",\n",
    "    {\n",
    "        \"labels\": labels + 1,\n",
    "        \"nearest_neighbors\": nearest_neighbors[:, 1:] + 1,\n",
    "        \"similarities\": similarities[:, 1:],\n",
    "    },\n",
    ")"
   ]
  },
  {
   "cell_type": "code",
   "execution_count": 12,
   "id": "25eec631-1d95-4270-9b39-8d41ba10ad83",
   "metadata": {},
   "outputs": [
    {
     "data": {
      "text/plain": [
       "(array([0, 1, 2, 3, 4, 5, 6, 7, 8, 9]),\n",
       " array([7000, 7000, 7000, 7000, 7000, 7000, 7000, 7000, 7000, 7000]))"
      ]
     },
     "execution_count": 12,
     "metadata": {},
     "output_type": "execute_result"
    }
   ],
   "source": [
    "uniq_vals, counts = np.unique(labels, return_counts=True)\n",
    "uniq_vals, counts"
   ]
  },
  {
   "cell_type": "code",
   "execution_count": null,
   "id": "45ed71ef-8e53-425b-a10b-8fb803492eef",
   "metadata": {},
   "outputs": [],
   "source": []
  }
 ],
 "metadata": {
  "kernelspec": {
   "display_name": "Python 3 (ipykernel)",
   "language": "python",
   "name": "python3"
  },
  "language_info": {
   "codemirror_mode": {
    "name": "ipython",
    "version": 3
   },
   "file_extension": ".py",
   "mimetype": "text/x-python",
   "name": "python",
   "nbconvert_exporter": "python",
   "pygments_lexer": "ipython3",
   "version": "3.7.0"
  }
 },
 "nbformat": 4,
 "nbformat_minor": 5
}
