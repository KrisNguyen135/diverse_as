{
 "cells": [
  {
   "cell_type": "code",
   "execution_count": 1,
   "metadata": {},
   "outputs": [
    {
     "name": "stderr",
     "output_type": "stream",
     "text": [
      "RDKit WARNING: [18:57:53] Enabling RDKit 2019.09.2 jupyter extensions\n"
     ]
    },
    {
     "name": "stdout",
     "output_type": "stream",
     "text": [
      "reading smiles...\n",
      "reading complete, took 28.01 seconds\n",
      "0 / 100\n",
      "10 / 100\n",
      "20 / 100\n",
      "30 / 100\n",
      "40 / 100\n",
      "50 / 100\n",
      "60 / 100\n",
      "70 / 100\n",
      "80 / 100\n",
      "90 / 100\n"
     ]
    }
   ],
   "source": [
    "from rdkit import Chem\n",
    "from rdkit.Chem import AllChem\n",
    "import numpy as np\n",
    "import pickle\n",
    "import time\n",
    "\n",
    "iteration = 1\n",
    "sample_size = 1000000\n",
    "sample_size = 100\n",
    "print_per = 10\n",
    "\n",
    "# parameters for computing morgan fingerprint\n",
    "RADIUS = 2\n",
    "NBITS = 2048\n",
    "\n",
    "\n",
    "unlabeled_data_path = \"/media/data_2t/datasets/centaur_science/all_uniq_mols_fixed.txt\"\n",
    "\n",
    "# read unlabeled data\n",
    "print(\"reading smiles...\")\n",
    "tic = time.time()\n",
    "with open(unlabeled_data_path, 'r') as f:\n",
    "    unlabeled_smiles = f.readlines()\n",
    "toc = time.time()\n",
    "print(\"reading complete, took %.2f seconds\" % (toc - tic))\n",
    "num_total_unlabeled = len(unlabeled_smiles)\n",
    "\n",
    "# sample 1 million\n",
    "np.random.seed(0)\n",
    "permutation = np.random.permutation(num_total_unlabeled)\n",
    "sample_idx = permutation[sample_size*(iteration-1):sample_size*iteration]\n",
    "\n",
    "\n",
    "feature_filepath = f\"./morgan/features_iter{iteration}\"\n",
    "smiles_filepath = f\"./sample_smiles_for_each_iteraton/smiles_iter{iteration}\"\n",
    "invalid_idx = []\n",
    "smiles_to_write = []\n",
    "with open(feature_filepath, \"w\") as f:\n",
    "    for i in range(sample_size):\n",
    "        if i % print_per == 0:\n",
    "            print(i, \"/\", sample_size, end=\"\\n\")\n",
    "        smile = unlabeled_smiles[sample_idx[i]].strip()\n",
    "        mol = Chem.MolFromSmiles(smile)  # get molecule\n",
    "        if mol is None:\n",
    "            invalid_idx.append(i)\n",
    "            continue\n",
    "        with open(smiles_filepath, \"a\") as g:\n",
    "            g.write(smile + \"\\n\")\n",
    "        fp = AllChem.GetMorganFingerprintAsBitVect(mol, RADIUS, NBITS)\n",
    "        nonzero_idx = list(fp.GetOnBits())\n",
    "        for j, idx in enumerate(nonzero_idx):\n",
    "            f.write(\"%d %d\\n\" % (i+1, idx+1))\n",
    "\n",
    "idx_filepath = f\"./sample_smiles_for_each_iteraton/sample_idx_iter{iteration}\"\n",
    "with open(idx_filepath, \"bw\") as f:\n",
    "    pickle.dump({\"sample_idx\": sample_idx, \"invalid_idx\": invalid_idx}, f)"
   ]
  },
  {
   "cell_type": "code",
   "execution_count": 20,
   "metadata": {},
   "outputs": [
    {
     "name": "stdout",
     "output_type": "stream",
     "text": [
      "{73408, 14817, 23716, 49734, 22823, 39945, 65323, 106987, 79851, 76079, 112502, 56919, 67478, 53017, 34458, 66006, 26903, 74045}\n",
      "18\n"
     ]
    }
   ],
   "source": [
    "a = np.loadtxt('smiles_for_each_iteration/real_iter_policy_1_chosen_ind', dtype=int)\n",
    "b = np.loadtxt('smiles_for_each_iteration/real_iter_policy_2_chosen_ind', dtype=int)\n",
    "c = set(a) & set(b)\n",
    "print(c)\n",
    "print(len(c))"
   ]
  },
  {
   "cell_type": "code",
   "execution_count": 26,
   "metadata": {},
   "outputs": [],
   "source": [
    "import numpy as np\n",
    "num_labeled = 13671\n",
    "greedy_chosen_ind_file = 'smiles_for_each_iteration/real_iter_policy_1_chosen_ind'\n",
    "greedy_chosen_scores_file = 'smiles_for_each_iteration/real_iter_scores'\n",
    "ens_chosen_ind_file = 'smiles_for_each_iteration/real_iter_policy_2_chosen_ind'\n",
    "smiles_file = 'smiles_for_each_iteration/smiles_sample_size_100000_iter1'\n",
    "recommended_smiles_file = 'smiles_for_each_iteration/recommended_smiles_iter1'\n",
    "recommended_ind_file = 'smiles_for_each_iteration/recommended_ind_iter1'\n",
    "\n",
    "with open(smiles_file, 'r') as f:\n",
    "    lines = f.readlines()\n",
    "\n",
    "greedy_chosen_ind = np.loadtxt(greedy_chosen_ind_file, dtype=int)\n",
    "greedy_chosen_scores = np.loadtxt(greedy_chosen_scores_file, dtype=float)\n",
    "meaningful_ind = greedy_chosen_scores > 51.004\n",
    "greedy_chosen_meaningful_ind = greedy_chosen_ind[meaningful_ind]\n",
    "ens_chosen_ind = np.loadtxt(ens_chosen_ind_file, dtype=int)\n",
    "ens_chosen_ind_exclude_greedy =  np.array(list(set(ens_chosen_ind) - set(greedy_chosen_meaningful_ind)))\n",
    "all_chosen_ind = np.concatenate((greedy_chosen_meaningful_ind, ens_chosen_ind_exclude_greedy))\n",
    "python_chosen_ind = all_chosen_ind - num_labeled - 1  # python index starts from zero\n",
    "np.savetxt(recommended_ind_file, python_chosen_ind, fmt=\"%d\")\n",
    "with open(recommended_smiles_file, 'w') as f:\n",
    "    for i, ind in enumerate(python_chosen_ind):\n",
    "        f.write(lines[ind])\n"
   ]
  },
  {
   "cell_type": "code",
   "execution_count": 28,
   "metadata": {},
   "outputs": [
    {
     "data": {
      "text/plain": [
       "(83,)"
      ]
     },
     "execution_count": 28,
     "metadata": {},
     "output_type": "execute_result"
    }
   ],
   "source": [
    "greedy_chosen_meaningful_ind.shape"
   ]
  },
  {
   "cell_type": "code",
   "execution_count": 214,
   "metadata": {},
   "outputs": [
    {
     "name": "stdout",
     "output_type": "stream",
     "text": [
      "0 5000 10000 15000 20000 25000 30000 35000 40000 45000 50000 55000 60000 65000 70000 75000 80000 85000 90000 95000 100000 105000 110000 115000 120000 125000 130000 135000 140000 145000 150000 155000 160000 165000 170000 175000 180000 185000 "
     ]
    },
    {
     "name": "stderr",
     "output_type": "stream",
     "text": [
      "RDKit ERROR: [15:44:12] Explicit valence for atom # 19 C, 5, is greater than permitted\n"
     ]
    },
    {
     "name": "stdout",
     "output_type": "stream",
     "text": [
      "190000 195000 200000 205000 210000 215000 220000 225000 230000 235000 240000 245000 250000 255000 260000 265000 270000 275000 280000 285000 290000 295000 300000 305000 310000 315000 320000 325000 330000 335000 340000 345000 350000 355000 360000 365000 370000 375000 380000 385000 390000 395000 400000 405000 410000 415000 "
     ]
    },
    {
     "name": "stderr",
     "output_type": "stream",
     "text": [
      "RDKit ERROR: [15:46:51] Explicit valence for atom # 31 C, 5, is greater than permitted\n"
     ]
    },
    {
     "name": "stdout",
     "output_type": "stream",
     "text": [
      "420000 425000 430000 435000 440000 445000 450000 455000 460000 465000 470000 475000 480000 485000 490000 495000 500000 505000 510000 515000 "
     ]
    },
    {
     "name": "stderr",
     "output_type": "stream",
     "text": [
      "RDKit ERROR: [15:48:01] Explicit valence for atom # 17 C, 5, is greater than permitted\n"
     ]
    },
    {
     "name": "stdout",
     "output_type": "stream",
     "text": [
      "520000 525000 530000 535000 540000 545000 550000 555000 560000 565000 570000 575000 580000 585000 590000 595000 600000 605000 "
     ]
    },
    {
     "name": "stderr",
     "output_type": "stream",
     "text": [
      "RDKit ERROR: [15:49:03] Explicit valence for atom # 8 C, 5, is greater than permitted\n"
     ]
    },
    {
     "name": "stdout",
     "output_type": "stream",
     "text": [
      "610000 615000 620000 625000 630000 635000 640000 645000 650000 655000 660000 665000 670000 675000 680000 685000 690000 695000 700000 705000 710000 715000 720000 725000 730000 735000 740000 745000 750000 755000 760000 765000 770000 775000 780000 785000 790000 "
     ]
    },
    {
     "name": "stderr",
     "output_type": "stream",
     "text": [
      "RDKit ERROR: [15:51:17] Explicit valence for atom # 28 C, 5, is greater than permitted\n"
     ]
    },
    {
     "name": "stdout",
     "output_type": "stream",
     "text": [
      "795000 800000 805000 810000 815000 820000 825000 830000 835000 840000 845000 850000 855000 860000 865000 870000 875000 880000 "
     ]
    },
    {
     "name": "stderr",
     "output_type": "stream",
     "text": [
      "RDKit ERROR: [15:52:20] SMILES Parse Error: unclosed ring for input: 'O=Cn1c(Cl)cccO=c1c2ccc(C=NCl)cc2oc2cc(-c3ccc([N+](=O)[O-])cn3)ccc12'\n"
     ]
    },
    {
     "name": "stdout",
     "output_type": "stream",
     "text": [
      "885000 890000 895000 900000 905000 910000 915000 920000 925000 930000 935000 940000 945000 950000 955000 960000 965000 "
     ]
    },
    {
     "name": "stderr",
     "output_type": "stream",
     "text": [
      "RDKit ERROR: [15:53:19] Explicit valence for atom # 19 C, 5, is greater than permitted\n"
     ]
    },
    {
     "name": "stdout",
     "output_type": "stream",
     "text": [
      "970000 975000 980000 985000 990000 995000 invalid:  7\n"
     ]
    }
   ],
   "source": [
    "np.random.seed(0)\n",
    "total_n = len(lines)\n",
    "permutation = np.random.permutation(total_n)\n",
    "invalid_idx = []\n",
    "one_m = 1000000\n",
    "for i in range(one_m):\n",
    "    if i % 5000 == 0:\n",
    "        print(i, end=\" \")\n",
    "    idx = permutation[i]\n",
    "    s = lines[idx].strip()\n",
    "    mol = Chem.MolFromSmiles(lines[idx].strip())\n",
    "    if mol is None:\n",
    "        invalid_idx.append(i)\n",
    "        \n",
    "print(\"invalid: \", len(invalid_idx))        \n",
    "valid_idx = []\n",
    "for i in range(one_m, total_n):\n",
    "    idx = permutation[i]\n",
    "    s = lines[idx].strip()\n",
    "    mol = Chem.MolFromSmiles(lines[idx].strip())\n",
    "    if mol is not None:\n",
    "        valid_idx.append(idx)\n",
    "    if len(valid_idx) == len(invalid_idx):\n",
    "        break\n",
    "        \n",
    "permutation[invalid_idx] = valid_idx\n",
    "\n",
    "num_samples = [100, 250, 500, 750, 1000]  # k\n",
    "for i, n in enumerate(num_samples):\n",
    "    num = n*1000\n",
    "    sample_idx = permutation[:num]\n",
    "    save_filepath = \"smiles/cs_%dk_negative.smi\" % n\n",
    "    with open(save_filepath, \"w\") as f:\n",
    "        f.writelines([lines[i] for i in sample_idx])"
   ]
  },
  {
   "cell_type": "code",
   "execution_count": 217,
   "metadata": {},
   "outputs": [
    {
     "ename": "TypeError",
     "evalue": "'list' object is not callable",
     "output_type": "error",
     "traceback": [
      "\u001b[0;31m---------------------------------------------------------------------------\u001b[0m",
      "\u001b[0;31mTypeError\u001b[0m                                 Traceback (most recent call last)",
      "\u001b[0;32m<ipython-input-217-3c82fdbc7ed4>\u001b[0m in \u001b[0;36m<module>\u001b[0;34m\u001b[0m\n\u001b[1;32m      2\u001b[0m \u001b[0mtotal_n\u001b[0m \u001b[0;34m=\u001b[0m \u001b[0mlen\u001b[0m\u001b[0;34m(\u001b[0m\u001b[0mlines\u001b[0m\u001b[0;34m)\u001b[0m\u001b[0;34m\u001b[0m\u001b[0;34m\u001b[0m\u001b[0m\n\u001b[1;32m      3\u001b[0m \u001b[0mpermutation\u001b[0m \u001b[0;34m=\u001b[0m \u001b[0mnp\u001b[0m\u001b[0;34m.\u001b[0m\u001b[0mrandom\u001b[0m\u001b[0;34m.\u001b[0m\u001b[0mpermutation\u001b[0m\u001b[0;34m(\u001b[0m\u001b[0mtotal_n\u001b[0m\u001b[0;34m)\u001b[0m\u001b[0;34m\u001b[0m\u001b[0;34m\u001b[0m\u001b[0m\n\u001b[0;32m----> 4\u001b[0;31m \u001b[0mlines\u001b[0m\u001b[0;34m(\u001b[0m\u001b[0mpermutation\u001b[0m\u001b[0;34m[\u001b[0m\u001b[0minvalid_idx\u001b[0m\u001b[0;34m]\u001b[0m\u001b[0;34m)\u001b[0m\u001b[0;34m\u001b[0m\u001b[0;34m\u001b[0m\u001b[0m\n\u001b[0m",
      "\u001b[0;31mTypeError\u001b[0m: 'list' object is not callable"
     ]
    }
   ],
   "source": [
    "np.random.seed(0)\n",
    "total_n = len(lines)\n",
    "permutation = np.random.permutation(total_n)\n"
   ]
  },
  {
   "cell_type": "code",
   "execution_count": 221,
   "metadata": {},
   "outputs": [
    {
     "name": "stdout",
     "output_type": "stream",
     "text": [
      "[CH3][O]/C=C/c1c(-c2ccccc2)c2ccc3c(/C=C/[CH3][O])c(-c4ccccn4)c4ccc5ccc1c1c5c4c3c21\n",
      "\n",
      "[CH3][O]N=Cc1ccc(-c2cc(-c3ccc(-c4nncnn4)cc3)cc(-c3ccc(C=N[CH3][O])cc3)[o+]2)cc1\n",
      "\n",
      "[CH3][O]/C=C/c1cc2ccc3ccc4cc(/C=C/[CH3][O])c5ccc1c1c2c3c4c51\n",
      "\n",
      "[CH3][O]/C=C/c1c(C=N[CH3][O])c2ccc3ccc4c(-c5ncccn5)c(-c5ccccc5)c5ccc1c1c2c3c4c51\n",
      "\n",
      "[CH3][O]/C=C/c1c(C2=CC=CC2)c2ccc3ccc4c(-c5ccccc5)c(C=N[CH3][O])c5ccc1c1c2c3c4c51\n",
      "\n",
      "O=Cn1c(Cl)cccO=c1c2ccc(C=NCl)cc2oc2cc(-c3ccc([N+](=O)[O-])cn3)ccc12\n",
      "\n",
      "[CH3][O]/C=C/c1c(-c2ccccc2)c2ccc3c(C=N[CH3][O])c(C=N[CH3][O])c4ccc5ccc1c1c5c4c3c21\n",
      "\n"
     ]
    }
   ],
   "source": [
    "for s in [lines[i] for i in list(permutation[invalid_idx])]:\n",
    "    print(s)"
   ]
  },
  {
   "cell_type": "code",
   "execution_count": 216,
   "metadata": {
    "scrolled": true
   },
   "outputs": [
    {
     "data": {
      "image/png": "[encoded data removed]",
      "text/plain": [
       "<rdkit.Chem.rdchem.Mol at 0x7efe01813580>"
      ]
     },
     "execution_count": 216,
     "metadata": {},
     "output_type": "execute_result"
    }
   ],
   "source": [
    "# Chem.MolFromSmiles('[CH3][O]/C=C/c1c(-c2ccccc2)c2ccc3c(/C=C/[CH3][O])c(-c4ccccn4)c4ccc5ccc1c1c5c4c3c21')\n",
    "Chem.MolFromSmiles('COc1csc(-c2c(-c3nc(O)co3)c3ccc4c(C5=CC=C(F)C5)c(/C=C/C(F)(F)F)c5ccc6ccc2c2c6c5c4c32)n1')"
   ]
  },
  {
   "cell_type": "code",
   "execution_count": 11,
   "metadata": {},
   "outputs": [
    {
     "name": "stdout",
     "output_type": "stream",
     "text": [
      "reading smiles...\n",
      "reading complete, took 17.56 seconds\n",
      "[ 74177180 101964239  21895535 ...  76731586  85063058  69458738]\n",
      "[ 74177180 101964239  21895535 ...  76731586  85063058  69458738]\n"
     ]
    },
    {
     "ename": "TypeError",
     "evalue": "only integer scalar arrays can be converted to a scalar index",
     "output_type": "error",
     "traceback": [
      "\u001b[0;31m---------------------------------------------------------------------------\u001b[0m",
      "\u001b[0;31mTypeError\u001b[0m                                 Traceback (most recent call last)",
      "\u001b[0;32m<ipython-input-11-e2df3ad2de44>\u001b[0m in \u001b[0;36m<module>\u001b[0;34m\u001b[0m\n\u001b[1;32m     22\u001b[0m \u001b[0mprint\u001b[0m\u001b[0;34m(\u001b[0m\u001b[0;34m(\u001b[0m\u001b[0midx\u001b[0m\u001b[0;34m[\u001b[0m\u001b[0;34m\"sample_idx\"\u001b[0m\u001b[0;34m]\u001b[0m\u001b[0;34m)\u001b[0m\u001b[0;34m)\u001b[0m\u001b[0;34m\u001b[0m\u001b[0;34m\u001b[0m\u001b[0m\n\u001b[1;32m     23\u001b[0m \u001b[0mprint\u001b[0m\u001b[0;34m(\u001b[0m\u001b[0mpermutation\u001b[0m\u001b[0;34m[\u001b[0m\u001b[0;34m:\u001b[0m\u001b[0;36m100000\u001b[0m\u001b[0;34m]\u001b[0m\u001b[0;34m)\u001b[0m\u001b[0;34m\u001b[0m\u001b[0;34m\u001b[0m\u001b[0m\n\u001b[0;32m---> 24\u001b[0;31m \u001b[0munlabeled_smiles\u001b[0m\u001b[0;34m[\u001b[0m\u001b[0mpermutation\u001b[0m\u001b[0;34m[\u001b[0m\u001b[0;34m:\u001b[0m\u001b[0;36m100\u001b[0m\u001b[0;34m]\u001b[0m\u001b[0;34m]\u001b[0m\u001b[0;34m\u001b[0m\u001b[0;34m\u001b[0m\u001b[0m\n\u001b[0m",
      "\u001b[0;31mTypeError\u001b[0m: only integer scalar arrays can be converted to a scalar index"
     ]
    }
   ],
   "source": [
    "import pickle\n",
    "import numpy as np\n",
    "import time\n",
    "\n",
    "unlabeled_data_path = \"/media/data_2t/datasets/centaur_science/all_uniq_mols_fixed.txt\"\n",
    "\n",
    "# read unlabeled data\n",
    "print(\"reading smiles...\")\n",
    "tic = time.time()\n",
    "with open(unlabeled_data_path, 'r') as f:\n",
    "    unlabeled_smiles = f.readlines()\n",
    "toc = time.time()\n",
    "print(\"reading complete, took %.2f seconds\" % (toc - tic))\n",
    "num_total_unlabeled = len(unlabeled_smiles)\n",
    "\n"
   ]
  },
  {
   "cell_type": "code",
   "execution_count": null,
   "metadata": {},
   "outputs": [],
   "source": [
    "np.random.seed(0)\n",
    "total_n = 129640012\n",
    "assert total_n == num_total_unlabeled\n",
    "permutation = np.random.permutation(total_n)\n",
    "with open(\"smiles_for_each_iteration/sample_idx_sample_size_100000_iter1\", \"rb\") as f:\n",
    "    idx = pickle.load(f)\n",
    "print((idx[\"sample_idx\"]))"
   ]
  },
  {
   "cell_type": "code",
   "execution_count": 13,
   "metadata": {},
   "outputs": [
    {
     "name": "stdout",
     "output_type": "stream",
     "text": [
      "[ 74177180 101964239  21895535 ...  76731586  85063058  69458738]\n"
     ]
    },
    {
     "data": {
      "text/plain": [
       "['N=Cc1c(C2=CC=C(F)C2)c2ccc3ccc4c(-c5ccc(Cl)o5)c(-c5ccc(C(F)(F)F)[nH]5)c5ccc1c1c2c3c4c51\\n',\n",
       " 'COc1ccc(-c2c(-c3ccc(C)cc3)c3ccc4c(/C=C/C#N)c(-c5nnc(C(F)(F)F)nn5)c5ccc6ccc2c2c6c5c4c32)nc1\\n',\n",
       " 'N#Cc1coc(-c2c(-c3ccc(Cl)o3)c3ccc4c(-c5ccccc5)c(-c5nnc(F)nn5)c5ccc6ccc2c2c6c5c4c32)n1\\n',\n",
       " 'OC1=CC=C(c2c(-c3ccc(OC(F)(F)F)o3)c3ccc4ccc5c(C#CCl)c(C6=CC=C(F)C6)c6ccc2c2c3c4c5c62)C1\\n',\n",
       " 'Cc1ccc(-c2c(C3=CC=C(OC(F)(F)F)S3(=O)=O)c3ccc4ccc5c(-c6nc(C)cs6)c(C6=CC=C(OC(F)(F)F)C6)c6ccc2c2c3c4c5c62)nc1\\n',\n",
       " 'Cc1ccc(-c2c(C3=CC=C(F)C3)c3ccc4ccc5c(-c6ccc(F)o6)c(-c6cc(S)c[nH]6)c6ccc2c2c3c4c5c62)n1C=O\\n',\n",
       " 'COc1coc(-c2c(/C=C/C#N)c3ccc4c(-c5ccc(O)[nH]5)c(-c5nc(C#N)co5)c5ccc6ccc2c2c6c5c4c32)n1\\n',\n",
       " 'N#C/C=C/c1c(C2=CC=C(C#N)S2(=O)=O)c2ccc3c(-c4ccc(F)s4)c(-c4ccc([N+](=O)[O-])[nH]4)c4ccc5ccc1c1c5c4c3c21\\n',\n",
       " 'Fc1ccc(-c2ccc(-c3cc(-c4ccc(-c5ccc(C(F)(F)F)cn5)cc4)[o+]c(-c4ccc(-c5ncc(S)s5)cc4)c3)cc2)s1\\n',\n",
       " 'O=S1(=O)C(OC(F)(F)F)=CC=C1c1c(-c2ccc(C(F)(F)F)o2)c2ccc3ccc4c(-c5ccc(Cl)s5)c(C5=CC=C(Cl)C5)c5ccc1c1c2c3c4c51\\n',\n",
       " 'N#Cc1cnc(-c2c(C#CO)c3ccc4ccc5c(C6=CC=C(OC(F)(F)F)S6(=O)=O)c(-c6ccccc6)c6ccc2c2c3c4c5c62)nc1\\n',\n",
       " 'N#Cc1ccc(-c2cc3c(C#N)c4ccc(-c5ccccc5)cc4c(C#N)c3cc2-c2ccccc2)[nH]1\\n',\n",
       " 'COc1cnc(-c2c(C3=CC=C(F)C3)c3ccc4c(/C=C/S)c(-c5ncc(OC)s5)c5ccc6ccc2c2c6c5c4c32)o1\\n',\n",
       " 'COc1ccc(-c2c(C3=CC=C(S)S3(=O)=O)c3ccc4ccc5c(C6=CC=C(OC(F)(F)F)S6(=O)=O)c(-c6ccc(OC(F)(F)F)o6)c6ccc2c2c3c4c5c62)n1C=O\\n',\n",
       " 'Cc1ncc(-c2c(/C=C/C#N)c3ccc4c(-c5cnc(OC(F)(F)F)[nH]5)c(-c5ccc([N+](=O)[O-])cc5)c5ccc6ccc2c2c6c5c4c32)[nH]1\\n',\n",
       " 'COc1ccc(-c2ccc3c4n5c(c3c2)C=c2c3ccc(-c6ncc(C(F)(F)F)cn6)cc3c3n2[B@@-]5(Cl)[N+]2=C(C=3)c3ccc(-c5ccc(F)n5C=O)cc3C2=C4)[nH]1\\n',\n",
       " 'COc1ccc(-c2c(-c3cnc(OC(F)(F)F)[nH]3)c3ccc4ccc5c(/C=C/Cl)c(-c6ccccc6)c6ccc2c2c3c4c5c62)s1\\n',\n",
       " 'FC1=CC=C(c2c(-c3ncc(C(F)(F)F)o3)c3ccc4c(-c5ccc(S)cc5)c(-c5ccc(C(F)(F)F)s5)c5ccc6ccc2c2c6c5c4c32)C1\\n',\n",
       " '[H]N=Cc1cc2c(C#N)c3cc(-c4nnc(Cl)nn4)c(/C=C/C#N)cc3c(C#N)c2cc1C1=CC=C(F)C1\\n',\n",
       " 'COc1c[nH]c(-c2c(-c3cnc(C#N)[nH]3)c3ccc4c(C5=CC=C(OC(F)(F)F)S5(=O)=O)c(C5=CC=CS5(=O)=O)c5ccc6ccc2c2c6c5c4c32)c1\\n',\n",
       " '[H]/C=C/c1c(/C=C/C#N)c2ccc3c(C4=CC=C(S)S4(=O)=O)c(-c4nnc(Cl)nn4)c4ccc5ccc1c1c5c4c3c21\\n',\n",
       " '[H]c1nnc(-c2c(-c3cccs3)c3ccc4c(-c5ncc(C)cn5)c(C5=CC=C(F)C5)c5ccc6ccc2c2c6c5c4c32)nn1\\n',\n",
       " 'N#Cc1coc(-c2c(-c3ccccc3)c3ccc4c(C#CO)c(-c5nc(Cl)co5)c5ccc6ccc2c2c6c5c4c32)n1\\n',\n",
       " '[H]c1ccc(-c2c(-c3ncc(Cl)s3)c3ccc4c(-c5cnc(C#N)[nH]5)c(/C=C/C#N)c5ccc6ccc2c2c6c5c4c32)nc1\\n',\n",
       " 'Cc1ccc(-c2cc3c(cc2-c2ccccc2)c2c4cc[nH]c4c4c5[nH]ccc5c5c6cc(C7=CC=C(F)C7)c(-c7cc(C#N)c[nH]7)cc6c6c7cc[nH]c7c7c8[nH]ccc8c3c3c2c4c5c6c73)[nH]1\\n',\n",
       " '[H]c1coc(-c2c(C3=CC=C(Cl)C3)c3ccc4c(-c5ccc(Cl)o5)c(-c5ccccc5)c5ccc6ccc2c2c6c5c4c32)n1\\n',\n",
       " 'COC1=CC=C(c2c(-c3ncc(Cl)s3)c3ccc4c(-c5nc(Cl)co5)c(C5=CC=C(F)C5)c5ccc6ccc2c2c6c5c4c32)C1\\n',\n",
       " 'Cn1c(-c2c(-c3ccc(Cl)n3C=O)c3ccc4c(C5=CC=C(OC(F)(F)F)S5(=O)=O)c(-c5cnc[nH]5)c5ccc6ccc2c2c6c5c4c32)ccc1[N+](=O)[O-]\\n',\n",
       " 'F/C=C/c1c(-c2ccc(Cl)s2)c2ccc3c(C4=CC=C(F)C4)c(C=NC(F)(F)F)c4ccc5ccc1c1c5c4c3c21\\n',\n",
       " 'Cc1csc(-c2c(-c3ccc(C)s3)c3ccc4c(/C=C/C#N)c(-c5cc([N+](=O)[O-])c[nH]5)c5ccc6ccc2c2c6c5c4c32)n1\\n',\n",
       " 'O=[N+]([O-])c1ccc(-c2ccc3c(c2)C2=Cc4c5ccc(/C=C/C(F)(F)F)cc5c5n4[B@@-]4(Cl)n6c(c7ccc(-c8ccc(F)cc8)cc7c6=CC3=[N+]24)=C5)[nH]1\\n',\n",
       " 'COc1ccc(-c2c(-c3ccc(OC)n3C=O)c3ccc4ccc5c(C6=CC=C(OC(F)(F)F)S6(=O)=O)c(C#CCl)c6ccc2c2c3c4c5c62)s1\\n',\n",
       " '[H]c1nnc(-c2ccc(-c3cc(-c4ccc(-c5cc(C(F)(F)F)c[nH]5)cc4)cc(-c4ccc(/C=C/C(F)(F)F)cc4)[s+]3)cc2)nn1\\n',\n",
       " 'N#CN=Cc1c(-c2ccccc2)c2ccc3ccc4c(-c5ncc(C#N)cn5)c(-c5ncccn5)c5ccc1c1c2c3c4c51\\n',\n",
       " 'OC#Cc1ccc(-c2cc(-c3ccc(/C=C/C(F)(F)F)cc3)cc(-c3ccc(-c4ccc(Cl)cc4)cc3)[o+]2)cc1\\n',\n",
       " '[H]c1ccc(-c2c(-c3ncc(C#N)o3)c3ccc4ccc5c(/C=C/C#N)c(-c6ccc(OC)cn6)c6ccc2c2c3c4c5c62)n1C\\n',\n",
       " '[H]c1coc(-c2c(-c3ccccc3)c3ccc4c(-c5ccc(S)cc5)c(-c5ncc(C)s5)c5ccc6ccc2c2c6c5c4c32)n1\\n',\n",
       " '[H]c1csc(-c2c(-c3ccc(O)[nH]3)c3ccc4c(-c5ccccc5)cc5ccc6ccc2c2c6c5c4c32)n1\\n',\n",
       " '[H]c1nnc(-c2c(-c3ccccc3)c3ccc4ccc5c(C=NOC(F)(F)F)c(C#COC)c6ccc2c2c3c4c5c62)nn1\\n',\n",
       " 'COc1coc(-c2c(-c3ccc(F)n3C=O)c3ccc4c(-c5cnc(OC)[nH]5)c(C5=CC=C(F)C5)c5ccc6ccc2c2c6c5c4c32)n1\\n',\n",
       " 'N#C/C=C/c1c(-c2ccc(OC(F)(F)F)cn2)c2ccc3c(-c4cc(O)c[nH]4)c(C4=CC=C(O)C4)c4ccc5ccc1c1c5c4c3c21\\n',\n",
       " '[H]c1c[nH]c(-c2c(/C=C/C#N)c3ccc4ccc5c(C#CC(F)(F)F)c(C6=CC=C(Cl)C6)c6ccc2c2c3c4c5c62)c1\\n',\n",
       " 'N#Cc1cnc(-c2c(-c3ccccc3)c3ccc4ccc5c(C6=CC=C(Cl)S6(=O)=O)c(-c6cc(S)c[nH]6)c6ccc2c2c3c4c5c62)o1\\n',\n",
       " 'Cc1ccc(-c2c(-c3ccc(F)s3)c3ccc4c(/C=C/Cl)c(-c5ccccc5)c5ccc6ccc2c2c6c5c4c32)o1\\n',\n",
       " '[H]C1=CC=C(c2cc3c(C#N)c4cc(C5=CC=C(OC(F)(F)F)S5(=O)=O)c(C5=CC=C(OC(F)(F)F)S5(=O)=O)cc4c(C#N)c3cc2/C=C/C#N)S1(=O)=O\\n',\n",
       " 'O=Cn1cccc1-c1c(C2=CC=C(F)C2)c2ccc3c(C=N[O][CH3])c(C4=CC=C(F)C4)c4ccc5ccc1c1c5c4c3c21\\n',\n",
       " 'O=Cn1c(S)ccc1-c1c(/C=C/Cl)c2ccc3ccc4c(-c5cnc[nH]5)c(-c5ccccc5)c5ccc1c1c2c3c4c51\\n',\n",
       " 'Cn1c(S)ccc1-c1c(-c2ccccc2)c2ccc3c(-c4ccc([N+](=O)[O-])cc4)c(-c4ncc(OC(F)(F)F)o4)c4ccc5ccc1c1c5c4c3c21\\n',\n",
       " 'Cn1cccc1-c1ccc2c3n4c(c2c1)=CC1=[N+]2C(=Cc5c6ccc(-c7nc(C(F)(F)F)cs7)cc6c(n5[B@@-]42Cl)C=3)c2cc(/C=C/[N+](=O)[O-])ccc21\\n',\n",
       " '[H]c1ccc(-c2c(-c3nnc(C)nn3)c3ccc4ccc5c(C6=CC=C(OC(F)(F)F)S6(=O)=O)c(-c6cc(F)c[nH]6)c6ccc2c2c3c4c5c62)[nH]1\\n',\n",
       " 'N#C/C=C/c1c(-c2ccc(O)cn2)c2ccc3c(-c4ccc(O)s4)c(C4=CC=CC4)c4ccc5ccc1c1c5c4c3c21\\n',\n",
       " 'O=[N+]([O-])c1ccc(-c2c(-c3ncc(S)s3)c3ccc4ccc5c(C6=CC=C(F)C6)c(-c6ncc(F)o6)c6ccc2c2c3c4c5c62)[nH]1\\n',\n",
       " '[H]c1cnc(-c2c(-c3ccc(C#N)o3)c3ccc4c(C5=CC=C(OC(F)(F)F)S5(=O)=O)c(-c5nc(Cl)cs5)c5ccc6ccc2c2c6c5c4c32)o1\\n',\n",
       " 'Cn1c(O)ccc1-c1c(-c2ccc(O)[nH]2)c2ccc3c(-c4ccccc4)c(-c4nc(OC(F)(F)F)co4)c4ccc5ccc1c1c5c4c3c21\\n',\n",
       " '[H]c1c[nH]c(-c2c(-c3ccc(Cl)[nH]3)c3ccc4c(/C=C/C#N)c(-c5ccc(C(F)(F)F)cc5)c5ccc6ccc2c2c6c5c4c32)c1\\n',\n",
       " '[H]c1c(-c2ncc(Cl)o2)c2ccc3ccc4c(-c5ccccc5)c(-c5nnc(S)nn5)c5ccc1c1c2c3c4c51\\n',\n",
       " 'N#C/C=C/c1c(-c2ncc([N+](=O)[O-])cn2)c2ccc3ccc4c(-c5ccc[nH]5)c(-c5cc(F)c[nH]5)c5ccc1c1c2c3c4c51\\n',\n",
       " '[H]c1ccc(-c2c(C3=CC=C(C(F)(F)F)C3)c3ccc4ccc5c(-c6ccccc6)c(-c6ccc(C)n6C)c6ccc2c2c3c4c5c62)cc1\\n',\n",
       " '[H]c1ccc(-c2c(-c3ncc(OC)cn3)c3ccc4c(C5=CC=C(OC(F)(F)F)S5(=O)=O)c(C=N[N+](=O)[O-])c5ccc6ccc2c2c6c5c4c32)n1C\\n',\n",
       " '[H]N=Cc1c(C2=CC=C(C)S2(=O)=O)c2ccc3c(-c4cnc(F)[nH]4)c(-c4ccccc4)c4ccc5ccc1c1c5c4c3c21\\n',\n",
       " 'COc1cnc(-c2c(-c3nc(O)cs3)c3ccc4c(C5=CC=C(F)C5)c(C5=CC=C(C)S5(=O)=O)c5ccc6ccc2c2c6c5c4c32)s1\\n',\n",
       " 'N#C/C=C/c1c(C#CC(F)(F)F)c2ccc3ccc4c(-c5ncc(O)s5)c(-c5ccc(C#N)cc5)c5ccc1c1c2c3c4c51\\n',\n",
       " '[H]c1ccc(-c2c(-c3ccc([N+](=O)[O-])[nH]3)c3ccc4ccc5c(-c6ccccc6)c(-c6ncc(C#N)s6)c6ccc2c2c3c4c5c62)o1\\n',\n",
       " '[H]c1cnc(-c2c(-c3ncc(S)cn3)c3ccc4c(C5=CC=C(OC(F)(F)F)S5(=O)=O)c(C#CF)c5ccc6ccc2c2c6c5c4c32)nc1\\n',\n",
       " 'Cc1ccc(-c2ccc3c4n5c(c3c2)=CC2=[N+]3C(=Cc6c7ccc(C#CC(F)(F)F)cc7c(n6[B@@-]53Cl)C=4)c3cc(-c4ncc(F)o4)ccc32)[nH]1\\n',\n",
       " 'CC1=CC=C(c2c(-c3ccccc3)c3ccc4c(/C=C/F)c(/C=C/F)c5ccc6ccc2c2c6c5c4c32)S1(=O)=O\\n',\n",
       " 'COC#Cc1ccc(-c2cc(-c3ccc(-c4ccc(C#N)cn4)cc3)cc(-c3ccc(-c4nc(F)cs4)cc3)[s+]2)cc1\\n',\n",
       " 'Cc1ncc(-c2c(-c3nc(S)cs3)c3ccc4c(-c5nc(F)cs5)c(-c5ccccc5)c5ccc6ccc2c2c6c5c4c32)[nH]1\\n',\n",
       " 'FC1=CC=C(c2c(-c3ncc(OC(F)(F)F)o3)c3ccc4c(/C=C/C(F)(F)F)c(-c5ccc(Cl)s5)c5ccc6ccc2c2c6c5c4c32)C1\\n',\n",
       " 'Oc1cnc(-c2c(-c3ncc(S)s3)c3ccc4ccc5c(-c6ccc(F)s6)c(-c6ccccc6)c6ccc2c2c3c4c5c62)nc1\\n',\n",
       " 'F/C=C/c1c(-c2ccc(OC(F)(F)F)[nH]2)c2ccc3c(-c4ccccc4)c(-c4ccc(Cl)s4)c4ccc5ccc1c1c5c4c3c21\\n',\n",
       " 'COc1ccc(-c2c(C#CS)c3ccc4ccc5c(/C=C/C#N)c(-c6nc(F)cs6)c6ccc2c2c3c4c5c62)cc1\\n',\n",
       " 'Cc1cnc(-c2c(/C=C/C#N)c3ccc4c(-c5nnc(F)nn5)c(-c5nc(O)cs5)c5ccc6ccc2c2c6c5c4c32)o1\\n',\n",
       " '[H]c1ncc(-c2c(/C=C/C)c3ccc4ccc5c(C6=CC=C(C(F)(F)F)S6(=O)=O)c(C6=CC=C(OC(F)(F)F)S6(=O)=O)c6ccc2c2c3c4c5c62)[nH]1\\n',\n",
       " '[H]c1ccc(-c2c(C3=CC=C(OC(F)(F)F)S3(=O)=O)c3ccc4c(-c5ccc[nH]5)c(-c5nnc(OC)nn5)c5ccc6ccc2c2c6c5c4c32)cc1\\n',\n",
       " 'O=[N+]([O-])c1csc(-c2c(C3=CC=C(OC(F)(F)F)S3(=O)=O)c3ccc4ccc5c(-c6cnc([N+](=O)[O-])[nH]6)c(-c6nnc(F)nn6)c6ccc2c2c3c4c5c62)n1\\n',\n",
       " '[H]c1cnc(-c2c(-c3ccc([N+](=O)[O-])s3)c3ccc4ccc5c(/C=C/C#N)c(-c6ncc(OC(F)(F)F)cn6)c6ccc2c2c3c4c5c62)s1\\n',\n",
       " '[H]N=Cc1c(-c2ccc(C#N)s2)c2ccc3c(C4=CC=C(OC(F)(F)F)S4(=O)=O)c(-c4ccc([N+](=O)[O-])cn4)c4ccc5ccc1c1c5c4c3c21\\n',\n",
       " '[H]c1nnc(-c2c(-c3ccc[nH]3)c3ccc4c(C5=CC=C(F)C5)c(-c5nc(O)co5)c5ccc6ccc2c2c6c5c4c32)nn1\\n',\n",
       " 'N#C/C=C/c1c(-c2nc(F)co2)c2ccc3ccc4c(C=NOC(F)(F)F)c(C#CO)c5ccc1c1c2c3c4c51\\n',\n",
       " 'N#C/C=C/c1c(-c2ccc(S)s2)c2ccc3c(-c4ccc(OC(F)(F)F)s4)c(-c4cc(C#N)c[nH]4)c4ccc5ccc1c1c5c4c3c21\\n',\n",
       " 'CN=Cc1c(C2=CC=C(F)C2)c2ccc3c(-c4nc(F)co4)c(-c4ncc(S)cn4)c4ccc5ccc1c1c5c4c3c21\\n',\n",
       " 'Cc1ccc(-c2ccc3c(c2)C2=Cc4c5ccc(-c6nnc(Cl)nn6)cc5c5n4[B@@-]4(Cl)n6c(c7ccc(-c8ccco8)cc7c6=CC3=[N+]24)=C5)o1\\n',\n",
       " 'COc1nnc(-c2c(/C=C/F)c3ccc4ccc5c(-c6nccs6)c(C6=CC=C(F)C6)c6ccc2c2c3c4c5c62)nn1\\n',\n",
       " 'O=Cn1c(-c2c(/C=C/F)c3ccc4c(-c5ccc(OC(F)(F)F)s5)c(C5=CC=C(OC(F)(F)F)S5(=O)=O)c5ccc6ccc2c2c6c5c4c32)ccc1[N+](=O)[O-]\\n',\n",
       " '[H]/C=C/c1c(C2=CC=C(F)C2)c2ccc3ccc4c(-c5ccc(OC)cn5)c(-c5cc(Cl)c[nH]5)c5ccc1c1c2c3c4c51\\n',\n",
       " 'N#Cc1csc(-c2c(-c3ncc(O)o3)c3ccc4c(-c5cnc(Cl)[nH]5)c(C5=CC=C(F)C5)c5ccc6ccc2c2c6c5c4c32)n1\\n',\n",
       " 'Cc1ccc(-c2ccc(-c3cc(-c4ccc(C=N[N+](=O)[O-])cc4)[o+]c(-c4ccc(-c5cc(OC(F)(F)F)c[nH]5)cc4)c3)cc2)s1\\n',\n",
       " 'O=[N+]([O-])c1ccc(-c2ccc(-c3cc(-c4ccc(-c5ccc(F)[nH]5)cc4)[s+]c(-c4ccc(-c5ccc(F)s5)cc4)c3)cc2)o1\\n',\n",
       " 'Cc1ncc(-c2c(-c3cc(F)c[nH]3)c3ccc4c(C5=CC=C(OC(F)(F)F)S5(=O)=O)c(-c5ncc(C)s5)c5ccc6ccc2c2c6c5c4c32)[nH]1\\n',\n",
       " 'COc1ncc(-c2c(-c3nc(OC(F)(F)F)cs3)c3ccc4c(-c5nnc(C(F)(F)F)nn5)c(C5=CC=C(F)C5)c5ccc6ccc2c2c6c5c4c32)[nH]1\\n',\n",
       " '[H]c1ccc(-c2ccc(-c3cc(-c4ccc(/C=C/[N+](=O)[O-])cc4)cc(-c4ccc(-c5ncc(Cl)o5)cc4)[o+]3)cc2)cc1\\n',\n",
       " '[H]C1=CC=C(c2cc3c([nH]2)c2c4[nH]c(-c5ccccc5)cc4c4c5ccccc5c5c6cc(C7=CC=C(OC(F)(F)F)S7(=O)=O)[nH]c6c6c7[nH]c(/C=C/C#N)cc7c7c8ccccc8c3c3c7c6c5c4c23)S1(=O)=O\\n',\n",
       " 'Cc1ccc(-c2c(C3=CC=C(F)S3(=O)=O)c3ccc4c(C5=CC=C(OC(F)(F)F)S5(=O)=O)c(C5=CC=C([N+](=O)[O-])S5(=O)=O)c5ccc6ccc2c2c6c5c4c32)[nH]1\\n',\n",
       " 'O=[N+]([O-])c1ccc(-c2c(-c3ncc(OC(F)(F)F)cn3)c3ccc4ccc5c(-c6ccccc6)c(-c6cnc(F)[nH]6)c6ccc2c2c3c4c5c62)cc1\\n',\n",
       " 'FC1=CC=C(c2c(-c3ccc(OC(F)(F)F)s3)c3ccc4c(-c5ncccn5)c(-c5nc(Cl)co5)c5ccc6ccc2c2c6c5c4c32)C1\\n',\n",
       " '[H]c1ccc(-c2c(-c3ccc(OC(F)(F)F)s3)c3ccc4c(C5=CC=C(F)S5(=O)=O)c(/C=C/C#N)c5ccc6ccc2c2c6c5c4c32)o1\\n',\n",
       " 'Cc1ccc(-c2c(-c3ncc(O)s3)c3ccc4c(-c5ccccc5)c(-c5ccc(C#N)n5C=O)c5ccc6ccc2c2c6c5c4c32)n1C\\n',\n",
       " '[H]c1nnc(-c2c(C3=CC=C(F)C3)c3ccc4ccc5c(C#CC#N)c(C=NF)c6ccc2c2c3c4c5c62)nn1\\n',\n",
       " 'FC(F)(F)Oc1ccc(-c2ccc(-c3cc(-c4ccc(-c5nc(C(F)(F)F)co5)cc4)cc(-c4ccc(-c5nnc(Cl)nn5)cc4)[s+]3)cc2)nc1\\n']"
      ]
     },
     "execution_count": 13,
     "metadata": {},
     "output_type": "execute_result"
    }
   ],
   "source": [
    "\n",
    "\n",
    "print(permutation[:100000])\n",
    "[unlabeled_smiles[i] for i in permutation[:100]]"
   ]
  }
 ],
 "metadata": {
  "kernelspec": {
   "display_name": "Python 3",
   "language": "python",
   "name": "python3"
  },
  "language_info": {
   "codemirror_mode": {
    "name": "ipython",
    "version": 3
   },
   "file_extension": ".py",
   "mimetype": "text/x-python",
   "name": "python",
   "nbconvert_exporter": "python",
   "pygments_lexer": "ipython3",
   "version": "3.7.3"
  }
 },
 "nbformat": 4,
 "nbformat_minor": 2
}
